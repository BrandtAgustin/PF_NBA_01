{
 "cells": [
  {
   "cell_type": "code",
   "execution_count": null,
   "id": "9cdfe594",
   "metadata": {},
   "outputs": [
    {
     "name": "stdout",
     "output_type": "stream",
     "text": [
      "Requirement already satisfied: pandas in c:\\users\\usuario\\appdata\\local\\programs\\python\\python312\\lib\\site-packages (2.3.1)\n",
      "Requirement already satisfied: numpy>=1.26.0 in c:\\users\\usuario\\appdata\\local\\programs\\python\\python312\\lib\\site-packages (from pandas) (2.3.2)\n",
      "Requirement already satisfied: python-dateutil>=2.8.2 in c:\\users\\usuario\\appdata\\local\\programs\\python\\python312\\lib\\site-packages (from pandas) (2.9.0.post0)\n",
      "Requirement already satisfied: pytz>=2020.1 in c:\\users\\usuario\\appdata\\local\\programs\\python\\python312\\lib\\site-packages (from pandas) (2025.2)\n",
      "Requirement already satisfied: tzdata>=2022.7 in c:\\users\\usuario\\appdata\\local\\programs\\python\\python312\\lib\\site-packages (from pandas) (2025.2)\n",
      "Requirement already satisfied: six>=1.5 in c:\\users\\usuario\\appdata\\local\\programs\\python\\python312\\lib\\site-packages (from python-dateutil>=2.8.2->pandas) (1.17.0)\n",
      "<class 'pandas.core.frame.DataFrame'>\n",
      "RangeIndex: 7990 entries, 0 to 7989\n",
      "Data columns (total 14 columns):\n",
      " #   Column               Non-Null Count  Dtype \n",
      "---  ------               --------------  ----- \n",
      " 0   person_id            7990 non-null   int64 \n",
      " 1   player_name          7990 non-null   object\n",
      " 2   season               7990 non-null   int64 \n",
      " 3   round_number         7990 non-null   int64 \n",
      " 4   round_pick           7990 non-null   int64 \n",
      " 5   overall_pick         7990 non-null   int64 \n",
      " 6   draft_type           7990 non-null   object\n",
      " 7   team_id              7990 non-null   int64 \n",
      " 8   team_city            7990 non-null   object\n",
      " 9   team_name            7990 non-null   object\n",
      " 10  team_abbreviation    7990 non-null   object\n",
      " 11  organization         7971 non-null   object\n",
      " 12  organization_type    7971 non-null   object\n",
      " 13  player_profile_flag  7990 non-null   int64 \n",
      "dtypes: int64(7), object(7)\n",
      "memory usage: 874.0+ KB\n"
     ]
    },
    {
     "data": {
      "text/plain": [
       "(7990, 14)"
      ]
     },
     "execution_count": 5,
     "metadata": {},
     "output_type": "execute_result"
    }
   ],
   "source": [
    "# 📌 Importamos las librerías necesarias\n",
    "import pandas as pd\n",
    "import numpy as np\n",
    "import matplotlib.pyplot as plt\n",
    "import seaborn as sns\n",
    "import re\n",
    "\n",
    "# 📌 Ruta del archivo CSV #draft_history.csv\n",
    "ruta = \"../../Data/Data Cruda/draft_history.csv\"\n",
    "\n",
    "# 📌 Cargamos el CSV\n",
    "df_inactive = pd.read_csv(ruta)\n",
    "\n",
    "# 📌 Mostramos estructura general del DataFrame\n",
    "df_inactive.info()\n",
    "df_inactive.head()\n",
    "df_inactive.shape"
   ]
  },
  {
   "cell_type": "code",
   "execution_count": 6,
   "id": "c54c3307",
   "metadata": {},
   "outputs": [
    {
     "name": "stdout",
     "output_type": "stream",
     "text": [
      "📊 Valores nulos por columna:\n",
      "organization         19\n",
      "organization_type    19\n",
      "dtype: int64\n"
     ]
    }
   ],
   "source": [
    "# 📌 Mostrar cantidad de valores nulos por columna\n",
    "nulos = df_inactive.isnull().sum()\n",
    "nulos = nulos[nulos > 0].sort_values(ascending=False)\n",
    "\n",
    "print(\"📊 Valores nulos por columna:\")\n",
    "print(nulos)"
   ]
  },
  {
   "cell_type": "code",
   "execution_count": 7,
   "id": "67397cf1",
   "metadata": {},
   "outputs": [
    {
     "data": {
      "text/html": [
       "<div>\n",
       "<style scoped>\n",
       "    .dataframe tbody tr th:only-of-type {\n",
       "        vertical-align: middle;\n",
       "    }\n",
       "\n",
       "    .dataframe tbody tr th {\n",
       "        vertical-align: top;\n",
       "    }\n",
       "\n",
       "    .dataframe thead th {\n",
       "        text-align: right;\n",
       "    }\n",
       "</style>\n",
       "<table border=\"1\" class=\"dataframe\">\n",
       "  <thead>\n",
       "    <tr style=\"text-align: right;\">\n",
       "      <th></th>\n",
       "      <th>person_id</th>\n",
       "      <th>player_name</th>\n",
       "      <th>season</th>\n",
       "      <th>round_number</th>\n",
       "      <th>round_pick</th>\n",
       "      <th>overall_pick</th>\n",
       "      <th>draft_type</th>\n",
       "      <th>team_id</th>\n",
       "      <th>team_city</th>\n",
       "      <th>team_name</th>\n",
       "      <th>team_abbreviation</th>\n",
       "      <th>organization</th>\n",
       "      <th>organization_type</th>\n",
       "      <th>player_profile_flag</th>\n",
       "    </tr>\n",
       "  </thead>\n",
       "  <tbody>\n",
       "    <tr>\n",
       "      <th>45</th>\n",
       "      <td>79278</td>\n",
       "      <td>Bob Alemeida</td>\n",
       "      <td>1947</td>\n",
       "      <td>0</td>\n",
       "      <td>0</td>\n",
       "      <td>0</td>\n",
       "      <td>Draft</td>\n",
       "      <td>1610612738</td>\n",
       "      <td>Boston</td>\n",
       "      <td>Celtics</td>\n",
       "      <td>BOS</td>\n",
       "      <td>NaN</td>\n",
       "      <td>NaN</td>\n",
       "      <td>0</td>\n",
       "    </tr>\n",
       "    <tr>\n",
       "      <th>48</th>\n",
       "      <td>79281</td>\n",
       "      <td>George Petrovick</td>\n",
       "      <td>1947</td>\n",
       "      <td>0</td>\n",
       "      <td>0</td>\n",
       "      <td>0</td>\n",
       "      <td>Draft</td>\n",
       "      <td>1610612738</td>\n",
       "      <td>Boston</td>\n",
       "      <td>Celtics</td>\n",
       "      <td>BOS</td>\n",
       "      <td>NaN</td>\n",
       "      <td>NaN</td>\n",
       "      <td>0</td>\n",
       "    </tr>\n",
       "    <tr>\n",
       "      <th>53</th>\n",
       "      <td>79286</td>\n",
       "      <td>Ed Golub</td>\n",
       "      <td>1947</td>\n",
       "      <td>0</td>\n",
       "      <td>0</td>\n",
       "      <td>0</td>\n",
       "      <td>Draft</td>\n",
       "      <td>1610612752</td>\n",
       "      <td>New York</td>\n",
       "      <td>Knicks</td>\n",
       "      <td>NYK</td>\n",
       "      <td>NaN</td>\n",
       "      <td>NaN</td>\n",
       "      <td>0</td>\n",
       "    </tr>\n",
       "    <tr>\n",
       "      <th>63</th>\n",
       "      <td>79296</td>\n",
       "      <td>George Brown</td>\n",
       "      <td>1947</td>\n",
       "      <td>0</td>\n",
       "      <td>0</td>\n",
       "      <td>0</td>\n",
       "      <td>Draft</td>\n",
       "      <td>1610610031</td>\n",
       "      <td>Pittsburgh</td>\n",
       "      <td>Ironmen</td>\n",
       "      <td>PIT</td>\n",
       "      <td>NaN</td>\n",
       "      <td>NaN</td>\n",
       "      <td>0</td>\n",
       "    </tr>\n",
       "    <tr>\n",
       "      <th>67</th>\n",
       "      <td>79301</td>\n",
       "      <td>Joe Barry</td>\n",
       "      <td>1947</td>\n",
       "      <td>0</td>\n",
       "      <td>0</td>\n",
       "      <td>0</td>\n",
       "      <td>Draft</td>\n",
       "      <td>1610610032</td>\n",
       "      <td>Providence</td>\n",
       "      <td>Steamrollers</td>\n",
       "      <td>PRO</td>\n",
       "      <td>NaN</td>\n",
       "      <td>NaN</td>\n",
       "      <td>0</td>\n",
       "    </tr>\n",
       "  </tbody>\n",
       "</table>\n",
       "</div>"
      ],
      "text/plain": [
       "    person_id       player_name  season  round_number  round_pick  \\\n",
       "45      79278      Bob Alemeida    1947             0           0   \n",
       "48      79281  George Petrovick    1947             0           0   \n",
       "53      79286          Ed Golub    1947             0           0   \n",
       "63      79296      George Brown    1947             0           0   \n",
       "67      79301         Joe Barry    1947             0           0   \n",
       "\n",
       "    overall_pick draft_type     team_id   team_city     team_name  \\\n",
       "45             0      Draft  1610612738      Boston       Celtics   \n",
       "48             0      Draft  1610612738      Boston       Celtics   \n",
       "53             0      Draft  1610612752    New York        Knicks   \n",
       "63             0      Draft  1610610031  Pittsburgh       Ironmen   \n",
       "67             0      Draft  1610610032  Providence  Steamrollers   \n",
       "\n",
       "   team_abbreviation organization organization_type  player_profile_flag  \n",
       "45               BOS          NaN               NaN                    0  \n",
       "48               BOS          NaN               NaN                    0  \n",
       "53               NYK          NaN               NaN                    0  \n",
       "63               PIT          NaN               NaN                    0  \n",
       "67               PRO          NaN               NaN                    0  "
      ]
     },
     "execution_count": 7,
     "metadata": {},
     "output_type": "execute_result"
    }
   ],
   "source": [
    "# 📌 Mostrar filas que contienen al menos un valor nulo\n",
    "filas_con_nulos = df_inactive[df_inactive.isnull().any(axis=1)]\n",
    "\n",
    "# 📌 Ver las primeras filas con nulos\n",
    "filas_con_nulos.head()"
   ]
  },
  {
   "cell_type": "code",
   "execution_count": null,
   "id": "c8e40b1d",
   "metadata": {},
   "outputs": [
    {
     "name": "stdout",
     "output_type": "stream",
     "text": [
      "0    1947\n",
      "1    1947\n",
      "2    1947\n",
      "3    1947\n",
      "4    1947\n",
      "Name: season, dtype: int64\n",
      "int64\n"
     ]
    }
   ],
   "source": [
    "#acá estoy viendo que tipo de dato es la columna season\n",
    "print(df_inactive['season'].head())\n",
    "print(df_inactive['season'].dtype)"
   ]
  },
  {
   "cell_type": "code",
   "execution_count": null,
   "id": "bba3b6b8",
   "metadata": {},
   "outputs": [],
   "source": [
    "#filtro a partir de la temporada 2018\n",
    "df_inactive = df_inactive[df_inactive['season'] >= 2018]"
   ]
  },
  {
   "cell_type": "code",
   "execution_count": 10,
   "id": "ae56fc4e",
   "metadata": {},
   "outputs": [],
   "source": [
    "#borro las filas que tengan un 0 en round pick o overall pick\n",
    "df_inactive= df_inactive[~((df_inactive['round_pick'] == 0) | (df_inactive['overall_pick'] == 0))]"
   ]
  },
  {
   "cell_type": "code",
   "execution_count": 11,
   "id": "6ce718d7",
   "metadata": {},
   "outputs": [
    {
     "name": "stdout",
     "output_type": "stream",
     "text": [
      "📊 Valores nulos por columna:\n",
      "organization         1\n",
      "organization_type    1\n",
      "dtype: int64\n"
     ]
    }
   ],
   "source": [
    "# 📌 Mostrar cantidad de valores nulos por columna\n",
    "nulos = df_inactive.isnull().sum()\n",
    "nulos = nulos[nulos > 0].sort_values(ascending=False)\n",
    "\n",
    "print(\"📊 Valores nulos por columna:\")\n",
    "print(nulos)"
   ]
  },
  {
   "cell_type": "code",
   "execution_count": null,
   "id": "ec8a1922",
   "metadata": {},
   "outputs": [
    {
     "name": "stdout",
     "output_type": "stream",
     "text": [
      "🔁 Total de filas con id duplicado: 0\n"
     ]
    },
    {
     "data": {
      "text/html": [
       "<div>\n",
       "<style scoped>\n",
       "    .dataframe tbody tr th:only-of-type {\n",
       "        vertical-align: middle;\n",
       "    }\n",
       "\n",
       "    .dataframe tbody tr th {\n",
       "        vertical-align: top;\n",
       "    }\n",
       "\n",
       "    .dataframe thead th {\n",
       "        text-align: right;\n",
       "    }\n",
       "</style>\n",
       "<table border=\"1\" class=\"dataframe\">\n",
       "  <thead>\n",
       "    <tr style=\"text-align: right;\">\n",
       "      <th></th>\n",
       "      <th>person_id</th>\n",
       "      <th>player_name</th>\n",
       "      <th>season</th>\n",
       "      <th>round_number</th>\n",
       "      <th>round_pick</th>\n",
       "      <th>overall_pick</th>\n",
       "      <th>draft_type</th>\n",
       "      <th>team_id</th>\n",
       "      <th>team_city</th>\n",
       "      <th>team_name</th>\n",
       "      <th>team_abbreviation</th>\n",
       "      <th>organization</th>\n",
       "      <th>organization_type</th>\n",
       "      <th>player_profile_flag</th>\n",
       "    </tr>\n",
       "  </thead>\n",
       "  <tbody>\n",
       "  </tbody>\n",
       "</table>\n",
       "</div>"
      ],
      "text/plain": [
       "Empty DataFrame\n",
       "Columns: [person_id, player_name, season, round_number, round_pick, overall_pick, draft_type, team_id, team_city, team_name, team_abbreviation, organization, organization_type, player_profile_flag]\n",
       "Index: []"
      ]
     },
     "execution_count": 12,
     "metadata": {},
     "output_type": "execute_result"
    }
   ],
   "source": [
    "# 📌 Paso 1: Detectar duplicados en la columna 'person_id'\n",
    "duplicados_id = df_inactive[df_inactive.duplicated(subset='person_id', keep=False)]\n",
    "\n",
    "# 📌 Paso 2: Mostrar los duplicados encontrados\n",
    "print(f\"🔁 Total de filas con id duplicado: {len(duplicados_id)}\")\n",
    "duplicados_id.head()"
   ]
  },
  {
   "cell_type": "code",
   "execution_count": null,
   "id": "4b3e94a4",
   "metadata": {},
   "outputs": [
    {
     "name": "stdout",
     "output_type": "stream",
     "text": [
      "archivo exportado correctamente\n"
     ]
    }
   ],
   "source": [
    "# 📌 Exportar el DataFrame limpio a CSV en la carpeta del proyecto\n",
    "ruta_salida = \"../../Data/Data Limpia/draft_history.csv\"\n",
    "df_inactive.to_csv(ruta_salida, sep=',', index=False, decimal='.')\n",
    "\n",
    "print(\"✅ Archivo exportado correctamente como draft_history.csv\")"
   ]
  }
 ],
 "metadata": {
  "kernelspec": {
   "display_name": "Python 3",
   "language": "python",
   "name": "python3"
  },
  "language_info": {
   "codemirror_mode": {
    "name": "ipython",
    "version": 3
   },
   "file_extension": ".py",
   "mimetype": "text/x-python",
   "name": "python",
   "nbconvert_exporter": "python",
   "pygments_lexer": "ipython3",
   "version": "3.13.0"
  }
 },
 "nbformat": 4,
 "nbformat_minor": 5
}
