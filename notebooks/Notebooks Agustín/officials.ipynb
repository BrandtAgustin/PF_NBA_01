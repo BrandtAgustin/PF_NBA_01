{
 "cells": [
  {
   "cell_type": "code",
   "execution_count": 1,
   "id": "f515dab9",
   "metadata": {},
   "outputs": [
    {
     "name": "stdout",
     "output_type": "stream",
     "text": [
      "<class 'pandas.core.frame.DataFrame'>\n",
      "RangeIndex: 70971 entries, 0 to 70970\n",
      "Data columns (total 5 columns):\n",
      " #   Column       Non-Null Count  Dtype  \n",
      "---  ------       --------------  -----  \n",
      " 0   game_id      70971 non-null  int64  \n",
      " 1   official_id  70971 non-null  int64  \n",
      " 2   first_name   70971 non-null  object \n",
      " 3   last_name    70971 non-null  object \n",
      " 4   jersey_num   70781 non-null  float64\n",
      "dtypes: float64(1), int64(2), object(2)\n",
      "memory usage: 2.7+ MB\n"
     ]
    },
    {
     "data": {
      "text/plain": [
       "(70971, 5)"
      ]
     },
     "execution_count": 1,
     "metadata": {},
     "output_type": "execute_result"
    }
   ],
   "source": [
    "# 📌 Importamos las librerías necesarias\n",
    "import pandas as pd\n",
    "import numpy as np\n",
    "import matplotlib.pyplot as plt\n",
    "import seaborn as sns\n",
    "import re\n",
    "\n",
    "# 📌 Ruta del archivo CSV\n",
    "ruta = r\"C:\\Users\\Usuario\\Desktop\\CSV A LIMPIAR\\officials.csv\"\n",
    "\n",
    "# 📌 Cargamos el CSV\n",
    "df_inactive = pd.read_csv(ruta)\n",
    "\n",
    "# 📌 Mostramos estructura general del DataFrame\n",
    "df_inactive.info()\n",
    "df_inactive.head()\n",
    "df_inactive.shape"
   ]
  },
  {
   "cell_type": "code",
   "execution_count": 2,
   "id": "ed116ee9",
   "metadata": {},
   "outputs": [
    {
     "name": "stdout",
     "output_type": "stream",
     "text": [
      "📊 Valores nulos por columna:\n",
      "jersey_num    190\n",
      "dtype: int64\n"
     ]
    }
   ],
   "source": [
    "# 📌 Mostrar cantidad de valores nulos por columna\n",
    "nulos = df_inactive.isnull().sum()\n",
    "nulos = nulos[nulos > 0].sort_values(ascending=False)\n",
    "\n",
    "print(\"📊 Valores nulos por columna:\")\n",
    "print(nulos)"
   ]
  },
  {
   "cell_type": "code",
   "execution_count": 3,
   "id": "08963f79",
   "metadata": {},
   "outputs": [
    {
     "data": {
      "text/html": [
       "<div>\n",
       "<style scoped>\n",
       "    .dataframe tbody tr th:only-of-type {\n",
       "        vertical-align: middle;\n",
       "    }\n",
       "\n",
       "    .dataframe tbody tr th {\n",
       "        vertical-align: top;\n",
       "    }\n",
       "\n",
       "    .dataframe thead th {\n",
       "        text-align: right;\n",
       "    }\n",
       "</style>\n",
       "<table border=\"1\" class=\"dataframe\">\n",
       "  <thead>\n",
       "    <tr style=\"text-align: right;\">\n",
       "      <th></th>\n",
       "      <th>game_id</th>\n",
       "      <th>official_id</th>\n",
       "      <th>first_name</th>\n",
       "      <th>last_name</th>\n",
       "      <th>jersey_num</th>\n",
       "    </tr>\n",
       "  </thead>\n",
       "  <tbody>\n",
       "    <tr>\n",
       "      <th>3688</th>\n",
       "      <td>40300101</td>\n",
       "      <td>1192</td>\n",
       "      <td>Bennett</td>\n",
       "      <td>Salvatore</td>\n",
       "      <td>NaN</td>\n",
       "    </tr>\n",
       "    <tr>\n",
       "      <th>3689</th>\n",
       "      <td>40300101</td>\n",
       "      <td>1168</td>\n",
       "      <td>David</td>\n",
       "      <td>Jones</td>\n",
       "      <td>NaN</td>\n",
       "    </tr>\n",
       "    <tr>\n",
       "      <th>3690</th>\n",
       "      <td>40300101</td>\n",
       "      <td>1162</td>\n",
       "      <td>Scott</td>\n",
       "      <td>Foster</td>\n",
       "      <td>NaN</td>\n",
       "    </tr>\n",
       "    <tr>\n",
       "      <th>3694</th>\n",
       "      <td>40300151</td>\n",
       "      <td>1164</td>\n",
       "      <td>Ron</td>\n",
       "      <td>Garretson</td>\n",
       "      <td>NaN</td>\n",
       "    </tr>\n",
       "    <tr>\n",
       "      <th>3695</th>\n",
       "      <td>40300151</td>\n",
       "      <td>1167</td>\n",
       "      <td>Steve</td>\n",
       "      <td>Javie</td>\n",
       "      <td>NaN</td>\n",
       "    </tr>\n",
       "  </tbody>\n",
       "</table>\n",
       "</div>"
      ],
      "text/plain": [
       "       game_id  official_id first_name  last_name  jersey_num\n",
       "3688  40300101         1192    Bennett  Salvatore         NaN\n",
       "3689  40300101         1168      David      Jones         NaN\n",
       "3690  40300101         1162      Scott     Foster         NaN\n",
       "3694  40300151         1164        Ron  Garretson         NaN\n",
       "3695  40300151         1167      Steve      Javie         NaN"
      ]
     },
     "execution_count": 3,
     "metadata": {},
     "output_type": "execute_result"
    }
   ],
   "source": [
    "# 📌 Mostrar filas que contienen al menos un valor nulo\n",
    "filas_con_nulos = df_inactive[df_inactive.isnull().any(axis=1)]\n",
    "\n",
    "# 📌 Ver las primeras filas con nulos\n",
    "filas_con_nulos.head()"
   ]
  },
  {
   "cell_type": "code",
   "execution_count": 5,
   "id": "35c5081f",
   "metadata": {},
   "outputs": [
    {
     "name": "stdout",
     "output_type": "stream",
     "text": [
      "🔁 Filas con ID duplicado: 70938\n"
     ]
    },
    {
     "data": {
      "text/html": [
       "<div>\n",
       "<style scoped>\n",
       "    .dataframe tbody tr th:only-of-type {\n",
       "        vertical-align: middle;\n",
       "    }\n",
       "\n",
       "    .dataframe tbody tr th {\n",
       "        vertical-align: top;\n",
       "    }\n",
       "\n",
       "    .dataframe thead th {\n",
       "        text-align: right;\n",
       "    }\n",
       "</style>\n",
       "<table border=\"1\" class=\"dataframe\">\n",
       "  <thead>\n",
       "    <tr style=\"text-align: right;\">\n",
       "      <th></th>\n",
       "      <th>game_id</th>\n",
       "      <th>official_id</th>\n",
       "      <th>first_name</th>\n",
       "      <th>last_name</th>\n",
       "      <th>jersey_num</th>\n",
       "    </tr>\n",
       "  </thead>\n",
       "  <tbody>\n",
       "    <tr>\n",
       "      <th>0</th>\n",
       "      <td>29600059</td>\n",
       "      <td>1140</td>\n",
       "      <td>Bruce</td>\n",
       "      <td>Alexander</td>\n",
       "      <td>9.0</td>\n",
       "    </tr>\n",
       "    <tr>\n",
       "      <th>1</th>\n",
       "      <td>29600059</td>\n",
       "      <td>1165</td>\n",
       "      <td>Luis</td>\n",
       "      <td>Grillo</td>\n",
       "      <td>8.0</td>\n",
       "    </tr>\n",
       "    <tr>\n",
       "      <th>2</th>\n",
       "      <td>29600059</td>\n",
       "      <td>1153</td>\n",
       "      <td>Joe</td>\n",
       "      <td>Crawford</td>\n",
       "      <td>17.0</td>\n",
       "    </tr>\n",
       "    <tr>\n",
       "      <th>3</th>\n",
       "      <td>29600114</td>\n",
       "      <td>1147</td>\n",
       "      <td>Mike</td>\n",
       "      <td>Callahan</td>\n",
       "      <td>24.0</td>\n",
       "    </tr>\n",
       "    <tr>\n",
       "      <th>4</th>\n",
       "      <td>29600114</td>\n",
       "      <td>1142</td>\n",
       "      <td>Dick</td>\n",
       "      <td>Bavetta</td>\n",
       "      <td>27.0</td>\n",
       "    </tr>\n",
       "  </tbody>\n",
       "</table>\n",
       "</div>"
      ],
      "text/plain": [
       "    game_id  official_id first_name  last_name  jersey_num\n",
       "0  29600059         1140      Bruce  Alexander         9.0\n",
       "1  29600059         1165       Luis     Grillo         8.0\n",
       "2  29600059         1153        Joe   Crawford        17.0\n",
       "3  29600114         1147       Mike   Callahan        24.0\n",
       "4  29600114         1142       Dick    Bavetta        27.0"
      ]
     },
     "execution_count": 5,
     "metadata": {},
     "output_type": "execute_result"
    }
   ],
   "source": [
    "# 📌 Verificar filas con valores duplicados en la columna 'official_id'\n",
    "duplicados_id = df_inactive[df_inactive.duplicated(subset='official_id', keep=False)]\n",
    "\n",
    "# 📌 Mostrar cuántas filas están duplicadas por id\n",
    "print(f\"🔁 Filas con ID duplicado: {len(duplicados_id)}\")\n",
    "\n",
    "# 📌 Mostrar las filas duplicadas\n",
    "duplicados_id.head()"
   ]
  }
 ],
 "metadata": {
  "kernelspec": {
   "display_name": "Python 3",
   "language": "python",
   "name": "python3"
  },
  "language_info": {
   "codemirror_mode": {
    "name": "ipython",
    "version": 3
   },
   "file_extension": ".py",
   "mimetype": "text/x-python",
   "name": "python",
   "nbconvert_exporter": "python",
   "pygments_lexer": "ipython3",
   "version": "3.13.0"
  }
 },
 "nbformat": 4,
 "nbformat_minor": 5
}
