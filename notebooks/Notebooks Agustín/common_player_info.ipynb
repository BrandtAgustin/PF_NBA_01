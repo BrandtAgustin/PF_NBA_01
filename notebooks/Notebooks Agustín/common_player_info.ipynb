{
 "cells": [
  {
   "cell_type": "code",
   "execution_count": 9,
   "id": "2d663e65",
   "metadata": {},
   "outputs": [
    {
     "name": "stdout",
     "output_type": "stream",
     "text": [
      "<class 'pandas.core.frame.DataFrame'>\n",
      "RangeIndex: 4171 entries, 0 to 4170\n",
      "Data columns (total 34 columns):\n",
      " #   Column                            Non-Null Count  Dtype  \n",
      "---  ------                            --------------  -----  \n",
      " 0   person_id                         4171 non-null   int64  \n",
      " 1   first_name                        4171 non-null   object \n",
      " 2   last_name                         4171 non-null   object \n",
      " 3   display_first_last                4171 non-null   object \n",
      " 4   display_last_comma_first          4171 non-null   object \n",
      " 5   display_fi_last                   4171 non-null   object \n",
      " 6   player_slug                       4171 non-null   object \n",
      " 7   birthdate                         4171 non-null   object \n",
      " 8   school                            4156 non-null   object \n",
      " 9   country                           4170 non-null   object \n",
      " 10  last_affiliation                  4171 non-null   object \n",
      " 11  height                            4075 non-null   object \n",
      " 12  weight                            4071 non-null   float64\n",
      " 13  season_exp                        4171 non-null   int64  \n",
      " 14  jersey                            3191 non-null   object \n",
      " 15  position                          4108 non-null   object \n",
      " 16  rosterstatus                      4171 non-null   object \n",
      " 17  games_played_current_season_flag  4171 non-null   object \n",
      " 18  team_id                           4171 non-null   int64  \n",
      " 19  team_name                         3469 non-null   object \n",
      " 20  team_abbreviation                 3469 non-null   object \n",
      " 21  team_code                         3469 non-null   object \n",
      " 22  team_city                         3469 non-null   object \n",
      " 23  playercode                        4170 non-null   object \n",
      " 24  from_year                         4156 non-null   float64\n",
      " 25  to_year                           4156 non-null   float64\n",
      " 26  dleague_flag                      4171 non-null   object \n",
      " 27  nba_flag                          4171 non-null   object \n",
      " 28  games_played_flag                 4171 non-null   object \n",
      " 29  draft_year                        4171 non-null   object \n",
      " 30  draft_round                       4007 non-null   object \n",
      " 31  draft_number                      3948 non-null   object \n",
      " 32  greatest_75_flag                  4171 non-null   object \n",
      " 33  is_active                         4171 non-null   int64  \n",
      "dtypes: float64(3), int64(4), object(27)\n",
      "memory usage: 1.1+ MB\n"
     ]
    },
    {
     "data": {
      "text/plain": [
       "(4171, 34)"
      ]
     },
     "execution_count": 9,
     "metadata": {},
     "output_type": "execute_result"
    }
   ],
   "source": [
    "# 📌 Importamos las librerías necesarias\n",
    "import pandas as pd\n",
    "import numpy as np\n",
    "import matplotlib.pyplot as plt\n",
    "import seaborn as sns\n",
    "import re\n",
    "\n",
    "# 📌 Ruta relativa al archivo CSV (ajustar según tu estructura)\n",
    "ruta = \"../../Data/Data Cruda/common_player_info_mas_activos.csv\"\n",
    "\n",
    "# 📌 Cargamos el CSV\n",
    "df_inactive = pd.read_csv(ruta)\n",
    "\n",
    "# 📌 Mostramos estructura general del DataFrame\n",
    "df_inactive.info()\n",
    "df_inactive.head()\n",
    "df_inactive.shape"
   ]
  },
  {
   "cell_type": "code",
   "execution_count": 10,
   "id": "0f2a4822",
   "metadata": {},
   "outputs": [
    {
     "name": "stdout",
     "output_type": "stream",
     "text": [
      "📊 Valores nulos por columna:\n",
      "jersey               980\n",
      "team_name            702\n",
      "team_abbreviation    702\n",
      "team_code            702\n",
      "team_city            702\n",
      "draft_number         223\n",
      "draft_round          164\n",
      "weight               100\n",
      "height                96\n",
      "position              63\n",
      "school                15\n",
      "from_year             15\n",
      "to_year               15\n",
      "country                1\n",
      "playercode             1\n",
      "dtype: int64\n"
     ]
    }
   ],
   "source": [
    "# 📌 Mostrar cantidad de valores nulos por columna\n",
    "nulos = df_inactive.isnull().sum()\n",
    "nulos = nulos[nulos > 0].sort_values(ascending=False)\n",
    "\n",
    "print(\"📊 Valores nulos por columna:\")\n",
    "print(nulos)"
   ]
  },
  {
   "cell_type": "code",
   "execution_count": 11,
   "id": "d885d782",
   "metadata": {},
   "outputs": [],
   "source": [
    "#cambio el tipo de las columnas a datetime\n",
    "df_inactive['from_year'] = pd.to_datetime(df_inactive['from_year'], errors='coerce')\n",
    "df_inactive['to_year'] = pd.to_datetime(df_inactive['to_year'], errors='coerce')"
   ]
  },
  {
   "cell_type": "code",
   "execution_count": 12,
   "id": "7fda1e4c",
   "metadata": {},
   "outputs": [
    {
     "data": {
      "text/plain": [
       "from_year    datetime64[ns]\n",
       "to_year      datetime64[ns]\n",
       "dtype: object"
      ]
     },
     "execution_count": 12,
     "metadata": {},
     "output_type": "execute_result"
    }
   ],
   "source": [
    "#verifico que esten en datetime\n",
    "df_inactive[['from_year', 'to_year']].dtypes"
   ]
  },
  {
   "cell_type": "code",
   "execution_count": 13,
   "id": "a4af78ac",
   "metadata": {},
   "outputs": [],
   "source": [
    "#creo nueva columna que indique si jugo despues de 2018\n",
    "df_inactive['jugo_desde_2018'] = df_inactive['to_year'].dt.year >= 2018\n",
    "df_inactive['jugo_desde_2018'] = df_inactive['jugo_desde_2018'].map({True: 'Sí', False: 'No'})"
   ]
  },
  {
   "cell_type": "code",
   "execution_count": 14,
   "id": "1eb79e6a",
   "metadata": {},
   "outputs": [
    {
     "name": "stdout",
     "output_type": "stream",
     "text": [
      "jugo_desde_2018\n",
      "No    4171\n",
      "Name: count, dtype: int64\n"
     ]
    }
   ],
   "source": [
    "print(df_inactive['jugo_desde_2018'].value_counts(dropna=False))"
   ]
  },
  {
   "cell_type": "code",
   "execution_count": 15,
   "id": "3c69b912",
   "metadata": {},
   "outputs": [
    {
     "name": "stdout",
     "output_type": "stream",
     "text": [
      "['No']\n"
     ]
    }
   ],
   "source": [
    "print(df_inactive['jugo_desde_2018'].unique())"
   ]
  },
  {
   "cell_type": "code",
   "execution_count": 16,
   "id": "890f428f",
   "metadata": {},
   "outputs": [
    {
     "name": "stdout",
     "output_type": "stream",
     "text": [
      "0   1970-01-01 00:00:00.000001994\n",
      "1   1970-01-01 00:00:00.000001988\n",
      "2   1970-01-01 00:00:00.000002003\n",
      "3   1970-01-01 00:00:00.000002007\n",
      "4   1970-01-01 00:00:00.000001980\n",
      "5   1970-01-01 00:00:00.000001956\n",
      "6   1970-01-01 00:00:00.000001947\n",
      "7   1970-01-01 00:00:00.000002018\n",
      "8   1970-01-01 00:00:00.000002023\n",
      "9   1970-01-01 00:00:00.000002008\n",
      "Name: to_year, dtype: datetime64[ns]\n",
      "0    1970.0\n",
      "1    1970.0\n",
      "2    1970.0\n",
      "3    1970.0\n",
      "4    1970.0\n",
      "5    1970.0\n",
      "6    1970.0\n",
      "7    1970.0\n",
      "8    1970.0\n",
      "9    1970.0\n",
      "Name: to_year, dtype: float64\n"
     ]
    }
   ],
   "source": [
    "print(df_inactive['to_year'].head(10))\n",
    "print(df_inactive['to_year'].dt.year.head(10))"
   ]
  },
  {
   "cell_type": "code",
   "execution_count": 17,
   "id": "dd874fac",
   "metadata": {},
   "outputs": [
    {
     "name": "stdout",
     "output_type": "stream",
     "text": [
      "0    1994\n",
      "1    1988\n",
      "2    2003\n",
      "3    2007\n",
      "4    1980\n",
      "5    1956\n",
      "6    1947\n",
      "7    2018\n",
      "8    2023\n",
      "9    2008\n",
      "Name: to_year_numeric, dtype: int64\n"
     ]
    }
   ],
   "source": [
    "# Si la columna tiene números como 1994, 2018 pero está en tipo datetime raro, convertir a int:\n",
    "df_inactive['to_year_numeric'] = pd.to_numeric(df_inactive['to_year'], errors='coerce')\n",
    "\n",
    "print(df_inactive['to_year_numeric'].head(10))"
   ]
  },
  {
   "cell_type": "code",
   "execution_count": 18,
   "id": "b62284f3",
   "metadata": {},
   "outputs": [],
   "source": [
    "df_inactive['jugo_desde_2018'] = df_inactive['to_year_numeric'] >= 2018\n",
    "df_inactive['jugo_desde_2018'] = df_inactive['jugo_desde_2018'].map({True: 'Sí', False: 'No'})"
   ]
  },
  {
   "cell_type": "code",
   "execution_count": 19,
   "id": "ed17e314",
   "metadata": {},
   "outputs": [
    {
     "name": "stdout",
     "output_type": "stream",
     "text": [
      "['No' 'Sí']\n"
     ]
    }
   ],
   "source": [
    "print(df_inactive['jugo_desde_2018'].unique())"
   ]
  },
  {
   "cell_type": "code",
   "execution_count": 20,
   "id": "90f20d95",
   "metadata": {},
   "outputs": [
    {
     "name": "stdout",
     "output_type": "stream",
     "text": [
      "jugo_desde_2018\n",
      "No    3335\n",
      "Sí     836\n",
      "Name: count, dtype: int64\n"
     ]
    }
   ],
   "source": [
    "print(df_inactive['jugo_desde_2018'].value_counts(dropna=False))"
   ]
  },
  {
   "cell_type": "code",
   "execution_count": 21,
   "id": "2ed0cd5d",
   "metadata": {},
   "outputs": [],
   "source": [
    "df_inactive = df_inactive[df_inactive['jugo_desde_2018'] == 'Sí']"
   ]
  },
  {
   "cell_type": "code",
   "execution_count": 22,
   "id": "75141e06",
   "metadata": {},
   "outputs": [
    {
     "name": "stdout",
     "output_type": "stream",
     "text": [
      "📊 Valores nulos por columna:\n",
      "jersey               186\n",
      "team_name            185\n",
      "team_abbreviation    185\n",
      "team_code            185\n",
      "team_city            185\n",
      "draft_number          33\n",
      "draft_round           32\n",
      "school                12\n",
      "dtype: int64\n"
     ]
    }
   ],
   "source": [
    "# 📌 Mostrar cantidad de valores nulos por columna\n",
    "nulos = df_inactive.isnull().sum()\n",
    "nulos = nulos[nulos > 0].sort_values(ascending=False)\n",
    "\n",
    "print(\"📊 Valores nulos por columna:\")\n",
    "print(nulos)"
   ]
  },
  {
   "cell_type": "code",
   "execution_count": 23,
   "id": "a6140de8",
   "metadata": {},
   "outputs": [],
   "source": [
    "#eliminar los valores nulos en la columna team name\n",
    "df_inactive = df_inactive[~df_inactive['team_name'].isnull()]\n"
   ]
  },
  {
   "cell_type": "code",
   "execution_count": 24,
   "id": "1c5b3754",
   "metadata": {},
   "outputs": [
    {
     "name": "stdout",
     "output_type": "stream",
     "text": [
      "<class 'pandas.core.frame.DataFrame'>\n",
      "Index: 651 entries, 8 to 4169\n",
      "Data columns (total 36 columns):\n",
      " #   Column                            Non-Null Count  Dtype         \n",
      "---  ------                            --------------  -----         \n",
      " 0   person_id                         651 non-null    int64         \n",
      " 1   first_name                        651 non-null    object        \n",
      " 2   last_name                         651 non-null    object        \n",
      " 3   display_first_last                651 non-null    object        \n",
      " 4   display_last_comma_first          651 non-null    object        \n",
      " 5   display_fi_last                   651 non-null    object        \n",
      " 6   player_slug                       651 non-null    object        \n",
      " 7   birthdate                         651 non-null    object        \n",
      " 8   school                            645 non-null    object        \n",
      " 9   country                           651 non-null    object        \n",
      " 10  last_affiliation                  651 non-null    object        \n",
      " 11  height                            651 non-null    object        \n",
      " 12  weight                            651 non-null    float64       \n",
      " 13  season_exp                        651 non-null    int64         \n",
      " 14  jersey                            650 non-null    object        \n",
      " 15  position                          651 non-null    object        \n",
      " 16  rosterstatus                      651 non-null    object        \n",
      " 17  games_played_current_season_flag  651 non-null    object        \n",
      " 18  team_id                           651 non-null    int64         \n",
      " 19  team_name                         651 non-null    object        \n",
      " 20  team_abbreviation                 651 non-null    object        \n",
      " 21  team_code                         651 non-null    object        \n",
      " 22  team_city                         651 non-null    object        \n",
      " 23  playercode                        651 non-null    object        \n",
      " 24  from_year                         651 non-null    datetime64[ns]\n",
      " 25  to_year                           651 non-null    datetime64[ns]\n",
      " 26  dleague_flag                      651 non-null    object        \n",
      " 27  nba_flag                          651 non-null    object        \n",
      " 28  games_played_flag                 651 non-null    object        \n",
      " 29  draft_year                        651 non-null    object        \n",
      " 30  draft_round                       636 non-null    object        \n",
      " 31  draft_number                      635 non-null    object        \n",
      " 32  greatest_75_flag                  651 non-null    object        \n",
      " 33  is_active                         651 non-null    int64         \n",
      " 34  jugo_desde_2018                   651 non-null    object        \n",
      " 35  to_year_numeric                   651 non-null    int64         \n",
      "dtypes: datetime64[ns](2), float64(1), int64(5), object(28)\n",
      "memory usage: 188.2+ KB\n"
     ]
    },
    {
     "data": {
      "text/plain": [
       "(651, 36)"
      ]
     },
     "execution_count": 24,
     "metadata": {},
     "output_type": "execute_result"
    }
   ],
   "source": [
    "df_inactive.info()\n",
    "df_inactive.head()\n",
    "df_inactive.shape"
   ]
  },
  {
   "cell_type": "code",
   "execution_count": 25,
   "id": "64469078",
   "metadata": {},
   "outputs": [
    {
     "data": {
      "text/html": [
       "<div>\n",
       "<style scoped>\n",
       "    .dataframe tbody tr th:only-of-type {\n",
       "        vertical-align: middle;\n",
       "    }\n",
       "\n",
       "    .dataframe tbody tr th {\n",
       "        vertical-align: top;\n",
       "    }\n",
       "\n",
       "    .dataframe thead th {\n",
       "        text-align: right;\n",
       "    }\n",
       "</style>\n",
       "<table border=\"1\" class=\"dataframe\">\n",
       "  <thead>\n",
       "    <tr style=\"text-align: right;\">\n",
       "      <th></th>\n",
       "      <th>person_id</th>\n",
       "      <th>first_name</th>\n",
       "      <th>last_name</th>\n",
       "      <th>display_first_last</th>\n",
       "      <th>display_last_comma_first</th>\n",
       "      <th>display_fi_last</th>\n",
       "      <th>player_slug</th>\n",
       "      <th>birthdate</th>\n",
       "      <th>school</th>\n",
       "      <th>country</th>\n",
       "      <th>...</th>\n",
       "      <th>dleague_flag</th>\n",
       "      <th>nba_flag</th>\n",
       "      <th>games_played_flag</th>\n",
       "      <th>draft_year</th>\n",
       "      <th>draft_round</th>\n",
       "      <th>draft_number</th>\n",
       "      <th>greatest_75_flag</th>\n",
       "      <th>is_active</th>\n",
       "      <th>jugo_desde_2018</th>\n",
       "      <th>to_year_numeric</th>\n",
       "    </tr>\n",
       "  </thead>\n",
       "  <tbody>\n",
       "    <tr>\n",
       "      <th>23</th>\n",
       "      <td>1629061</td>\n",
       "      <td>Deng</td>\n",
       "      <td>Adel</td>\n",
       "      <td>Deng Adel</td>\n",
       "      <td>Adel, Deng</td>\n",
       "      <td>D. Adel</td>\n",
       "      <td>deng-adel</td>\n",
       "      <td>1/2/1997</td>\n",
       "      <td>Louisville</td>\n",
       "      <td>South Sudan</td>\n",
       "      <td>...</td>\n",
       "      <td>Y</td>\n",
       "      <td>Y</td>\n",
       "      <td>Y</td>\n",
       "      <td>2018</td>\n",
       "      <td>NaN</td>\n",
       "      <td>NaN</td>\n",
       "      <td>N</td>\n",
       "      <td>0</td>\n",
       "      <td>Sí</td>\n",
       "      <td>2018</td>\n",
       "    </tr>\n",
       "    <tr>\n",
       "      <th>323</th>\n",
       "      <td>1629833</td>\n",
       "      <td>Keljin</td>\n",
       "      <td>Blevins</td>\n",
       "      <td>Keljin Blevins</td>\n",
       "      <td>Blevins, Keljin</td>\n",
       "      <td>K. Blevins</td>\n",
       "      <td>keljin-blevins</td>\n",
       "      <td>24/11/1995</td>\n",
       "      <td>Montana State</td>\n",
       "      <td>USA</td>\n",
       "      <td>...</td>\n",
       "      <td>Y</td>\n",
       "      <td>Y</td>\n",
       "      <td>Y</td>\n",
       "      <td>2019</td>\n",
       "      <td>NaN</td>\n",
       "      <td>NaN</td>\n",
       "      <td>N</td>\n",
       "      <td>0</td>\n",
       "      <td>Sí</td>\n",
       "      <td>2021</td>\n",
       "    </tr>\n",
       "    <tr>\n",
       "      <th>331</th>\n",
       "      <td>1629129</td>\n",
       "      <td>Trevon</td>\n",
       "      <td>Bluiett</td>\n",
       "      <td>Trevon Bluiett</td>\n",
       "      <td>Bluiett, Trevon</td>\n",
       "      <td>T. Bluiett</td>\n",
       "      <td>trevon-bluiett</td>\n",
       "      <td>4/11/1994</td>\n",
       "      <td>Xavier</td>\n",
       "      <td>USA</td>\n",
       "      <td>...</td>\n",
       "      <td>Y</td>\n",
       "      <td>N</td>\n",
       "      <td>Y</td>\n",
       "      <td>2018</td>\n",
       "      <td>NaN</td>\n",
       "      <td>NaN</td>\n",
       "      <td>N</td>\n",
       "      <td>0</td>\n",
       "      <td>Sí</td>\n",
       "      <td>2018</td>\n",
       "    </tr>\n",
       "    <tr>\n",
       "      <th>450</th>\n",
       "      <td>1629717</td>\n",
       "      <td>Armoni</td>\n",
       "      <td>Brooks</td>\n",
       "      <td>Armoni Brooks</td>\n",
       "      <td>Brooks, Armoni</td>\n",
       "      <td>A. Brooks</td>\n",
       "      <td>armoni-brooks</td>\n",
       "      <td>5/6/1998</td>\n",
       "      <td>Houston</td>\n",
       "      <td>USA</td>\n",
       "      <td>...</td>\n",
       "      <td>Y</td>\n",
       "      <td>Y</td>\n",
       "      <td>Y</td>\n",
       "      <td>2019</td>\n",
       "      <td>NaN</td>\n",
       "      <td>NaN</td>\n",
       "      <td>N</td>\n",
       "      <td>0</td>\n",
       "      <td>Sí</td>\n",
       "      <td>2021</td>\n",
       "    </tr>\n",
       "    <tr>\n",
       "      <th>583</th>\n",
       "      <td>1629962</td>\n",
       "      <td>Devin</td>\n",
       "      <td>Cannady</td>\n",
       "      <td>Devin Cannady</td>\n",
       "      <td>Cannady, Devin</td>\n",
       "      <td>D. Cannady</td>\n",
       "      <td>devin-cannady</td>\n",
       "      <td>21/5/1996</td>\n",
       "      <td>Princeton</td>\n",
       "      <td>USA</td>\n",
       "      <td>...</td>\n",
       "      <td>Y</td>\n",
       "      <td>Y</td>\n",
       "      <td>Y</td>\n",
       "      <td>2019</td>\n",
       "      <td>NaN</td>\n",
       "      <td>NaN</td>\n",
       "      <td>N</td>\n",
       "      <td>1</td>\n",
       "      <td>Sí</td>\n",
       "      <td>2021</td>\n",
       "    </tr>\n",
       "  </tbody>\n",
       "</table>\n",
       "<p>5 rows × 36 columns</p>\n",
       "</div>"
      ],
      "text/plain": [
       "     person_id first_name last_name display_first_last  \\\n",
       "23     1629061       Deng      Adel          Deng Adel   \n",
       "323    1629833     Keljin   Blevins     Keljin Blevins   \n",
       "331    1629129     Trevon   Bluiett     Trevon Bluiett   \n",
       "450    1629717     Armoni    Brooks      Armoni Brooks   \n",
       "583    1629962      Devin   Cannady      Devin Cannady   \n",
       "\n",
       "    display_last_comma_first display_fi_last     player_slug   birthdate  \\\n",
       "23                Adel, Deng         D. Adel       deng-adel    1/2/1997   \n",
       "323          Blevins, Keljin      K. Blevins  keljin-blevins  24/11/1995   \n",
       "331          Bluiett, Trevon      T. Bluiett  trevon-bluiett   4/11/1994   \n",
       "450           Brooks, Armoni       A. Brooks   armoni-brooks    5/6/1998   \n",
       "583           Cannady, Devin      D. Cannady   devin-cannady   21/5/1996   \n",
       "\n",
       "            school      country  ... dleague_flag nba_flag  games_played_flag  \\\n",
       "23      Louisville  South Sudan  ...            Y        Y                  Y   \n",
       "323  Montana State          USA  ...            Y        Y                  Y   \n",
       "331         Xavier          USA  ...            Y        N                  Y   \n",
       "450        Houston          USA  ...            Y        Y                  Y   \n",
       "583      Princeton          USA  ...            Y        Y                  Y   \n",
       "\n",
       "     draft_year draft_round draft_number greatest_75_flag is_active  \\\n",
       "23         2018         NaN          NaN                N         0   \n",
       "323        2019         NaN          NaN                N         0   \n",
       "331        2018         NaN          NaN                N         0   \n",
       "450        2019         NaN          NaN                N         0   \n",
       "583        2019         NaN          NaN                N         1   \n",
       "\n",
       "     jugo_desde_2018 to_year_numeric  \n",
       "23                Sí            2018  \n",
       "323               Sí            2021  \n",
       "331               Sí            2018  \n",
       "450               Sí            2021  \n",
       "583               Sí            2021  \n",
       "\n",
       "[5 rows x 36 columns]"
      ]
     },
     "execution_count": 25,
     "metadata": {},
     "output_type": "execute_result"
    }
   ],
   "source": [
    "# 📌 Mostrar filas que contienen al menos un valor nulo\n",
    "filas_con_nulos = df_inactive[df_inactive.isnull().any(axis=1)]\n",
    "\n",
    "# 📌 Ver las primeras filas con nulos\n",
    "filas_con_nulos.head()"
   ]
  },
  {
   "cell_type": "code",
   "execution_count": 26,
   "id": "6da5b5e2",
   "metadata": {},
   "outputs": [],
   "source": [
    "#eliminar los valores nulos en la columna team name\n",
    "df_inactive = df_inactive[~df_inactive['person_id'].isnull()]"
   ]
  },
  {
   "cell_type": "code",
   "execution_count": 27,
   "id": "22c041cb",
   "metadata": {},
   "outputs": [
    {
     "data": {
      "text/html": [
       "<div>\n",
       "<style scoped>\n",
       "    .dataframe tbody tr th:only-of-type {\n",
       "        vertical-align: middle;\n",
       "    }\n",
       "\n",
       "    .dataframe tbody tr th {\n",
       "        vertical-align: top;\n",
       "    }\n",
       "\n",
       "    .dataframe thead th {\n",
       "        text-align: right;\n",
       "    }\n",
       "</style>\n",
       "<table border=\"1\" class=\"dataframe\">\n",
       "  <thead>\n",
       "    <tr style=\"text-align: right;\">\n",
       "      <th></th>\n",
       "      <th>person_id</th>\n",
       "      <th>first_name</th>\n",
       "      <th>last_name</th>\n",
       "      <th>display_first_last</th>\n",
       "      <th>display_last_comma_first</th>\n",
       "      <th>display_fi_last</th>\n",
       "      <th>player_slug</th>\n",
       "      <th>birthdate</th>\n",
       "      <th>school</th>\n",
       "      <th>country</th>\n",
       "      <th>...</th>\n",
       "      <th>dleague_flag</th>\n",
       "      <th>nba_flag</th>\n",
       "      <th>games_played_flag</th>\n",
       "      <th>draft_year</th>\n",
       "      <th>draft_round</th>\n",
       "      <th>draft_number</th>\n",
       "      <th>greatest_75_flag</th>\n",
       "      <th>is_active</th>\n",
       "      <th>jugo_desde_2018</th>\n",
       "      <th>to_year_numeric</th>\n",
       "    </tr>\n",
       "  </thead>\n",
       "  <tbody>\n",
       "    <tr>\n",
       "      <th>23</th>\n",
       "      <td>1629061</td>\n",
       "      <td>Deng</td>\n",
       "      <td>Adel</td>\n",
       "      <td>Deng Adel</td>\n",
       "      <td>Adel, Deng</td>\n",
       "      <td>D. Adel</td>\n",
       "      <td>deng-adel</td>\n",
       "      <td>1/2/1997</td>\n",
       "      <td>Louisville</td>\n",
       "      <td>South Sudan</td>\n",
       "      <td>...</td>\n",
       "      <td>Y</td>\n",
       "      <td>Y</td>\n",
       "      <td>Y</td>\n",
       "      <td>2018</td>\n",
       "      <td>NaN</td>\n",
       "      <td>NaN</td>\n",
       "      <td>N</td>\n",
       "      <td>0</td>\n",
       "      <td>Sí</td>\n",
       "      <td>2018</td>\n",
       "    </tr>\n",
       "    <tr>\n",
       "      <th>323</th>\n",
       "      <td>1629833</td>\n",
       "      <td>Keljin</td>\n",
       "      <td>Blevins</td>\n",
       "      <td>Keljin Blevins</td>\n",
       "      <td>Blevins, Keljin</td>\n",
       "      <td>K. Blevins</td>\n",
       "      <td>keljin-blevins</td>\n",
       "      <td>24/11/1995</td>\n",
       "      <td>Montana State</td>\n",
       "      <td>USA</td>\n",
       "      <td>...</td>\n",
       "      <td>Y</td>\n",
       "      <td>Y</td>\n",
       "      <td>Y</td>\n",
       "      <td>2019</td>\n",
       "      <td>NaN</td>\n",
       "      <td>NaN</td>\n",
       "      <td>N</td>\n",
       "      <td>0</td>\n",
       "      <td>Sí</td>\n",
       "      <td>2021</td>\n",
       "    </tr>\n",
       "    <tr>\n",
       "      <th>331</th>\n",
       "      <td>1629129</td>\n",
       "      <td>Trevon</td>\n",
       "      <td>Bluiett</td>\n",
       "      <td>Trevon Bluiett</td>\n",
       "      <td>Bluiett, Trevon</td>\n",
       "      <td>T. Bluiett</td>\n",
       "      <td>trevon-bluiett</td>\n",
       "      <td>4/11/1994</td>\n",
       "      <td>Xavier</td>\n",
       "      <td>USA</td>\n",
       "      <td>...</td>\n",
       "      <td>Y</td>\n",
       "      <td>N</td>\n",
       "      <td>Y</td>\n",
       "      <td>2018</td>\n",
       "      <td>NaN</td>\n",
       "      <td>NaN</td>\n",
       "      <td>N</td>\n",
       "      <td>0</td>\n",
       "      <td>Sí</td>\n",
       "      <td>2018</td>\n",
       "    </tr>\n",
       "    <tr>\n",
       "      <th>450</th>\n",
       "      <td>1629717</td>\n",
       "      <td>Armoni</td>\n",
       "      <td>Brooks</td>\n",
       "      <td>Armoni Brooks</td>\n",
       "      <td>Brooks, Armoni</td>\n",
       "      <td>A. Brooks</td>\n",
       "      <td>armoni-brooks</td>\n",
       "      <td>5/6/1998</td>\n",
       "      <td>Houston</td>\n",
       "      <td>USA</td>\n",
       "      <td>...</td>\n",
       "      <td>Y</td>\n",
       "      <td>Y</td>\n",
       "      <td>Y</td>\n",
       "      <td>2019</td>\n",
       "      <td>NaN</td>\n",
       "      <td>NaN</td>\n",
       "      <td>N</td>\n",
       "      <td>0</td>\n",
       "      <td>Sí</td>\n",
       "      <td>2021</td>\n",
       "    </tr>\n",
       "    <tr>\n",
       "      <th>583</th>\n",
       "      <td>1629962</td>\n",
       "      <td>Devin</td>\n",
       "      <td>Cannady</td>\n",
       "      <td>Devin Cannady</td>\n",
       "      <td>Cannady, Devin</td>\n",
       "      <td>D. Cannady</td>\n",
       "      <td>devin-cannady</td>\n",
       "      <td>21/5/1996</td>\n",
       "      <td>Princeton</td>\n",
       "      <td>USA</td>\n",
       "      <td>...</td>\n",
       "      <td>Y</td>\n",
       "      <td>Y</td>\n",
       "      <td>Y</td>\n",
       "      <td>2019</td>\n",
       "      <td>NaN</td>\n",
       "      <td>NaN</td>\n",
       "      <td>N</td>\n",
       "      <td>1</td>\n",
       "      <td>Sí</td>\n",
       "      <td>2021</td>\n",
       "    </tr>\n",
       "  </tbody>\n",
       "</table>\n",
       "<p>5 rows × 36 columns</p>\n",
       "</div>"
      ],
      "text/plain": [
       "     person_id first_name last_name display_first_last  \\\n",
       "23     1629061       Deng      Adel          Deng Adel   \n",
       "323    1629833     Keljin   Blevins     Keljin Blevins   \n",
       "331    1629129     Trevon   Bluiett     Trevon Bluiett   \n",
       "450    1629717     Armoni    Brooks      Armoni Brooks   \n",
       "583    1629962      Devin   Cannady      Devin Cannady   \n",
       "\n",
       "    display_last_comma_first display_fi_last     player_slug   birthdate  \\\n",
       "23                Adel, Deng         D. Adel       deng-adel    1/2/1997   \n",
       "323          Blevins, Keljin      K. Blevins  keljin-blevins  24/11/1995   \n",
       "331          Bluiett, Trevon      T. Bluiett  trevon-bluiett   4/11/1994   \n",
       "450           Brooks, Armoni       A. Brooks   armoni-brooks    5/6/1998   \n",
       "583           Cannady, Devin      D. Cannady   devin-cannady   21/5/1996   \n",
       "\n",
       "            school      country  ... dleague_flag nba_flag  games_played_flag  \\\n",
       "23      Louisville  South Sudan  ...            Y        Y                  Y   \n",
       "323  Montana State          USA  ...            Y        Y                  Y   \n",
       "331         Xavier          USA  ...            Y        N                  Y   \n",
       "450        Houston          USA  ...            Y        Y                  Y   \n",
       "583      Princeton          USA  ...            Y        Y                  Y   \n",
       "\n",
       "     draft_year draft_round draft_number greatest_75_flag is_active  \\\n",
       "23         2018         NaN          NaN                N         0   \n",
       "323        2019         NaN          NaN                N         0   \n",
       "331        2018         NaN          NaN                N         0   \n",
       "450        2019         NaN          NaN                N         0   \n",
       "583        2019         NaN          NaN                N         1   \n",
       "\n",
       "     jugo_desde_2018 to_year_numeric  \n",
       "23                Sí            2018  \n",
       "323               Sí            2021  \n",
       "331               Sí            2018  \n",
       "450               Sí            2021  \n",
       "583               Sí            2021  \n",
       "\n",
       "[5 rows x 36 columns]"
      ]
     },
     "execution_count": 27,
     "metadata": {},
     "output_type": "execute_result"
    }
   ],
   "source": [
    "# 📌 Mostrar filas que contienen al menos un valor nulo\n",
    "filas_con_nulos = df_inactive[df_inactive.isnull().any(axis=1)]\n",
    "\n",
    "# 📌 Ver las primeras filas con nulos\n",
    "filas_con_nulos.head()"
   ]
  },
  {
   "cell_type": "code",
   "execution_count": 28,
   "id": "ff92bbc3",
   "metadata": {},
   "outputs": [
    {
     "name": "stdout",
     "output_type": "stream",
     "text": [
      "Cantidad de valores nulos en 'person_id': 0\n"
     ]
    }
   ],
   "source": [
    "nulos = df_inactive['person_id'].isnull().sum()\n",
    "print(f\"Cantidad de valores nulos en 'person_id': {nulos}\")"
   ]
  },
  {
   "cell_type": "code",
   "execution_count": 29,
   "id": "4f2f5fe5",
   "metadata": {},
   "outputs": [
    {
     "name": "stdout",
     "output_type": "stream",
     "text": [
      "Filas duplicadas: 0\n"
     ]
    },
    {
     "data": {
      "text/html": [
       "<div>\n",
       "<style scoped>\n",
       "    .dataframe tbody tr th:only-of-type {\n",
       "        vertical-align: middle;\n",
       "    }\n",
       "\n",
       "    .dataframe tbody tr th {\n",
       "        vertical-align: top;\n",
       "    }\n",
       "\n",
       "    .dataframe thead th {\n",
       "        text-align: right;\n",
       "    }\n",
       "</style>\n",
       "<table border=\"1\" class=\"dataframe\">\n",
       "  <thead>\n",
       "    <tr style=\"text-align: right;\">\n",
       "      <th></th>\n",
       "      <th>person_id</th>\n",
       "      <th>first_name</th>\n",
       "      <th>last_name</th>\n",
       "      <th>display_first_last</th>\n",
       "      <th>display_last_comma_first</th>\n",
       "      <th>display_fi_last</th>\n",
       "      <th>player_slug</th>\n",
       "      <th>birthdate</th>\n",
       "      <th>school</th>\n",
       "      <th>country</th>\n",
       "      <th>...</th>\n",
       "      <th>dleague_flag</th>\n",
       "      <th>nba_flag</th>\n",
       "      <th>games_played_flag</th>\n",
       "      <th>draft_year</th>\n",
       "      <th>draft_round</th>\n",
       "      <th>draft_number</th>\n",
       "      <th>greatest_75_flag</th>\n",
       "      <th>is_active</th>\n",
       "      <th>jugo_desde_2018</th>\n",
       "      <th>to_year_numeric</th>\n",
       "    </tr>\n",
       "  </thead>\n",
       "  <tbody>\n",
       "  </tbody>\n",
       "</table>\n",
       "<p>0 rows × 36 columns</p>\n",
       "</div>"
      ],
      "text/plain": [
       "Empty DataFrame\n",
       "Columns: [person_id, first_name, last_name, display_first_last, display_last_comma_first, display_fi_last, player_slug, birthdate, school, country, last_affiliation, height, weight, season_exp, jersey, position, rosterstatus, games_played_current_season_flag, team_id, team_name, team_abbreviation, team_code, team_city, playercode, from_year, to_year, dleague_flag, nba_flag, games_played_flag, draft_year, draft_round, draft_number, greatest_75_flag, is_active, jugo_desde_2018, to_year_numeric]\n",
       "Index: []\n",
       "\n",
       "[0 rows x 36 columns]"
      ]
     },
     "execution_count": 29,
     "metadata": {},
     "output_type": "execute_result"
    }
   ],
   "source": [
    "# 📌 Verificar si hay filas duplicadas en todo el DataFrame\n",
    "duplicados = df_inactive.duplicated()\n",
    "\n",
    "# 📌 Mostrar cuántas filas están duplicadas\n",
    "print(f\"Filas duplicadas: {duplicados.sum()}\")\n",
    "\n",
    "# 📌 Mostrar las filas duplicadas\n",
    "df_inactive[duplicados]"
   ]
  },
  {
   "cell_type": "code",
   "execution_count": 30,
   "id": "833e40df",
   "metadata": {},
   "outputs": [
    {
     "name": "stdout",
     "output_type": "stream",
     "text": [
      "✅ Archivo exportado correctamente como common_player_info_mas_activos_limpios.csv\n"
     ]
    }
   ],
   "source": [
    "# 📌 Exportar el DataFrame limpio a CSV en la carpeta del proyecto\n",
    "ruta_salida = \"../../Data/Data Limpia/common_player_info_mas_activos_limpios.csv\"\n",
    "df_inactive.to_csv(ruta_salida, sep=',', index=False, decimal='.')\n",
    "\n",
    "print(\"✅ Archivo exportado correctamente como common_player_info_mas_activos_limpios.csv\")"
   ]
  }
 ],
 "metadata": {
  "kernelspec": {
   "display_name": "Python 3",
   "language": "python",
   "name": "python3"
  },
  "language_info": {
   "codemirror_mode": {
    "name": "ipython",
    "version": 3
   },
   "file_extension": ".py",
   "mimetype": "text/x-python",
   "name": "python",
   "nbconvert_exporter": "python",
   "pygments_lexer": "ipython3",
   "version": "3.13.0"
  }
 },
 "nbformat": 4,
 "nbformat_minor": 5
}
