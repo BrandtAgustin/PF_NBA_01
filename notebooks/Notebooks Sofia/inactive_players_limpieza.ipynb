{
 "cells": [
  {
   "cell_type": "code",
   "execution_count": null,
   "id": "5a3c0796",
   "metadata": {},
   "outputs": [],
   "source": []
  },
  {
   "cell_type": "markdown",
   "id": "6fe47bd3",
   "metadata": {},
   "source": [
    "CSV INACTIVE_PLAYER"
   ]
  },
  {
   "cell_type": "code",
   "execution_count": 3,
   "id": "cad0dba5",
   "metadata": {},
   "outputs": [
    {
     "name": "stdout",
     "output_type": "stream",
     "text": [
      "<class 'pandas.core.frame.DataFrame'>\n",
      "RangeIndex: 110191 entries, 0 to 110190\n",
      "Data columns (total 9 columns):\n",
      " #   Column             Non-Null Count   Dtype  \n",
      "---  ------             --------------   -----  \n",
      " 0   game_id            110191 non-null  int64  \n",
      " 1   player_id          110191 non-null  int64  \n",
      " 2   first_name         110190 non-null  object \n",
      " 3   last_name          110190 non-null  object \n",
      " 4   jersey_num         110148 non-null  float64\n",
      " 5   team_id            110191 non-null  int64  \n",
      " 6   team_city          110191 non-null  object \n",
      " 7   team_name          110191 non-null  object \n",
      " 8   team_abbreviation  110191 non-null  object \n",
      "dtypes: float64(1), int64(3), object(5)\n",
      "memory usage: 7.6+ MB\n"
     ]
    },
    {
     "data": {
      "text/plain": [
       "(110191, 9)"
      ]
     },
     "execution_count": 3,
     "metadata": {},
     "output_type": "execute_result"
    }
   ],
   "source": [
    "# 📌 Importamos las librerías necesarias\n",
    "import pandas as pd\n",
    "import numpy as np\n",
    "import matplotlib.pyplot as plt\n",
    "import seaborn as sns\n",
    "import re\n",
    "\n",
    "# 📌 Ruta del archivo CSV\n",
    "ruta = r\"C:\\Users\\User\\OneDrive\\Documentos\\proyecto_final\\data_en_csv\\madre\\inactive_players.csv\"\n",
    "\n",
    "# 📌 Cargamos el CSV\n",
    "df_inactive = pd.read_csv(ruta)\n",
    "\n",
    "# 📌 Mostramos estructura general del DataFrame\n",
    "df_inactive.info()\n",
    "df_inactive.head()\n",
    "df_inactive.shape"
   ]
  },
  {
   "cell_type": "code",
   "execution_count": 5,
   "id": "64091803",
   "metadata": {},
   "outputs": [
    {
     "name": "stdout",
     "output_type": "stream",
     "text": [
      "📊 Valores nulos por columna:\n",
      "jersey_num    43\n",
      "first_name     1\n",
      "last_name      1\n",
      "dtype: int64\n"
     ]
    }
   ],
   "source": [
    "# 📌 Mostrar cantidad de valores nulos por columna\n",
    "nulos = df_inactive.isnull().sum()\n",
    "nulos = nulos[nulos > 0].sort_values(ascending=False)\n",
    "\n",
    "print(\"📊 Valores nulos por columna:\")\n",
    "print(nulos)"
   ]
  },
  {
   "cell_type": "markdown",
   "id": "a7029ae9",
   "metadata": {},
   "source": [
    "- VISUALIZAR FILAS QUE CONTIENEN LOS VALORES NULOS"
   ]
  },
  {
   "cell_type": "code",
   "execution_count": 8,
   "id": "77264286",
   "metadata": {},
   "outputs": [
    {
     "data": {
      "application/vnd.microsoft.datawrangler.viewer.v0+json": {
       "columns": [
        {
         "name": "index",
         "rawType": "int64",
         "type": "integer"
        },
        {
         "name": "game_id",
         "rawType": "int64",
         "type": "integer"
        },
        {
         "name": "player_id",
         "rawType": "int64",
         "type": "integer"
        },
        {
         "name": "first_name",
         "rawType": "object",
         "type": "unknown"
        },
        {
         "name": "last_name",
         "rawType": "object",
         "type": "unknown"
        },
        {
         "name": "jersey_num",
         "rawType": "float64",
         "type": "float"
        },
        {
         "name": "team_id",
         "rawType": "int64",
         "type": "integer"
        },
        {
         "name": "team_city",
         "rawType": "object",
         "type": "string"
        },
        {
         "name": "team_name",
         "rawType": "object",
         "type": "string"
        },
        {
         "name": "team_abbreviation",
         "rawType": "object",
         "type": "string"
        }
       ],
       "ref": "f3c63865-9678-4959-9727-cb56aa5f60a1",
       "rows": [
        [
         "197",
         "20000155",
         "0",
         null,
         null,
         "32.0",
         "1610612765",
         "Detroit",
         "Pistons",
         "DET"
        ],
        [
         "620",
         "20500021",
         "469",
         "Jamal",
         "Mashburn",
         null,
         "1610612755",
         "Philadelphia",
         "76ers",
         "PHI"
        ],
        [
         "1209",
         "20500146",
         "469",
         "Jamal",
         "Mashburn",
         null,
         "1610612755",
         "Philadelphia",
         "76ers",
         "PHI"
        ],
        [
         "1738",
         "20500259",
         "469",
         "Jamal",
         "Mashburn",
         null,
         "1610612755",
         "Philadelphia",
         "76ers",
         "PHI"
        ],
        [
         "1838",
         "20500270",
         "469",
         "Jamal",
         "Mashburn",
         null,
         "1610612755",
         "Philadelphia",
         "76ers",
         "PHI"
        ]
       ],
       "shape": {
        "columns": 9,
        "rows": 5
       }
      },
      "text/html": [
       "<div>\n",
       "<style scoped>\n",
       "    .dataframe tbody tr th:only-of-type {\n",
       "        vertical-align: middle;\n",
       "    }\n",
       "\n",
       "    .dataframe tbody tr th {\n",
       "        vertical-align: top;\n",
       "    }\n",
       "\n",
       "    .dataframe thead th {\n",
       "        text-align: right;\n",
       "    }\n",
       "</style>\n",
       "<table border=\"1\" class=\"dataframe\">\n",
       "  <thead>\n",
       "    <tr style=\"text-align: right;\">\n",
       "      <th></th>\n",
       "      <th>game_id</th>\n",
       "      <th>player_id</th>\n",
       "      <th>first_name</th>\n",
       "      <th>last_name</th>\n",
       "      <th>jersey_num</th>\n",
       "      <th>team_id</th>\n",
       "      <th>team_city</th>\n",
       "      <th>team_name</th>\n",
       "      <th>team_abbreviation</th>\n",
       "    </tr>\n",
       "  </thead>\n",
       "  <tbody>\n",
       "    <tr>\n",
       "      <th>197</th>\n",
       "      <td>20000155</td>\n",
       "      <td>0</td>\n",
       "      <td>NaN</td>\n",
       "      <td>NaN</td>\n",
       "      <td>32.0</td>\n",
       "      <td>1610612765</td>\n",
       "      <td>Detroit</td>\n",
       "      <td>Pistons</td>\n",
       "      <td>DET</td>\n",
       "    </tr>\n",
       "    <tr>\n",
       "      <th>620</th>\n",
       "      <td>20500021</td>\n",
       "      <td>469</td>\n",
       "      <td>Jamal</td>\n",
       "      <td>Mashburn</td>\n",
       "      <td>NaN</td>\n",
       "      <td>1610612755</td>\n",
       "      <td>Philadelphia</td>\n",
       "      <td>76ers</td>\n",
       "      <td>PHI</td>\n",
       "    </tr>\n",
       "    <tr>\n",
       "      <th>1209</th>\n",
       "      <td>20500146</td>\n",
       "      <td>469</td>\n",
       "      <td>Jamal</td>\n",
       "      <td>Mashburn</td>\n",
       "      <td>NaN</td>\n",
       "      <td>1610612755</td>\n",
       "      <td>Philadelphia</td>\n",
       "      <td>76ers</td>\n",
       "      <td>PHI</td>\n",
       "    </tr>\n",
       "    <tr>\n",
       "      <th>1738</th>\n",
       "      <td>20500259</td>\n",
       "      <td>469</td>\n",
       "      <td>Jamal</td>\n",
       "      <td>Mashburn</td>\n",
       "      <td>NaN</td>\n",
       "      <td>1610612755</td>\n",
       "      <td>Philadelphia</td>\n",
       "      <td>76ers</td>\n",
       "      <td>PHI</td>\n",
       "    </tr>\n",
       "    <tr>\n",
       "      <th>1838</th>\n",
       "      <td>20500270</td>\n",
       "      <td>469</td>\n",
       "      <td>Jamal</td>\n",
       "      <td>Mashburn</td>\n",
       "      <td>NaN</td>\n",
       "      <td>1610612755</td>\n",
       "      <td>Philadelphia</td>\n",
       "      <td>76ers</td>\n",
       "      <td>PHI</td>\n",
       "    </tr>\n",
       "  </tbody>\n",
       "</table>\n",
       "</div>"
      ],
      "text/plain": [
       "       game_id  player_id first_name last_name  jersey_num     team_id  \\\n",
       "197   20000155          0        NaN       NaN        32.0  1610612765   \n",
       "620   20500021        469      Jamal  Mashburn         NaN  1610612755   \n",
       "1209  20500146        469      Jamal  Mashburn         NaN  1610612755   \n",
       "1738  20500259        469      Jamal  Mashburn         NaN  1610612755   \n",
       "1838  20500270        469      Jamal  Mashburn         NaN  1610612755   \n",
       "\n",
       "         team_city team_name team_abbreviation  \n",
       "197        Detroit   Pistons               DET  \n",
       "620   Philadelphia     76ers               PHI  \n",
       "1209  Philadelphia     76ers               PHI  \n",
       "1738  Philadelphia     76ers               PHI  \n",
       "1838  Philadelphia     76ers               PHI  "
      ]
     },
     "execution_count": 8,
     "metadata": {},
     "output_type": "execute_result"
    }
   ],
   "source": [
    "# 📌 Mostrar filas que contienen al menos un valor nulo\n",
    "filas_con_nulos = df_inactive[df_inactive.isnull().any(axis=1)]\n",
    "\n",
    "# 📌 Ver las primeras filas con nulos\n",
    "filas_con_nulos.head()"
   ]
  },
  {
   "cell_type": "markdown",
   "id": "2cd80e10",
   "metadata": {},
   "source": [
    "- SE ELIMINAN LA FILA QUE CONTIENEN VALORES NULOS EN FIRST_NAME Y LAST_NAME"
   ]
  },
  {
   "cell_type": "code",
   "execution_count": 9,
   "id": "7b7b3665",
   "metadata": {},
   "outputs": [],
   "source": [
    "# 📌 Eliminar la fila que contiene valores nulos en first_name o last_name\n",
    "df_inactive = df_inactive[~(df_inactive['first_name'].isnull() | df_inactive['last_name'].isnull())]"
   ]
  },
  {
   "cell_type": "markdown",
   "id": "16c2864b",
   "metadata": {},
   "source": [
    "- VERIFICAMOS QUE SE ELIMINO LA FILA"
   ]
  },
  {
   "cell_type": "code",
   "execution_count": 10,
   "id": "4e595660",
   "metadata": {},
   "outputs": [
    {
     "data": {
      "application/vnd.microsoft.datawrangler.viewer.v0+json": {
       "columns": [
        {
         "name": "index",
         "rawType": "int64",
         "type": "integer"
        },
        {
         "name": "game_id",
         "rawType": "int64",
         "type": "integer"
        },
        {
         "name": "player_id",
         "rawType": "int64",
         "type": "integer"
        },
        {
         "name": "first_name",
         "rawType": "object",
         "type": "string"
        },
        {
         "name": "last_name",
         "rawType": "object",
         "type": "string"
        },
        {
         "name": "jersey_num",
         "rawType": "float64",
         "type": "float"
        },
        {
         "name": "team_id",
         "rawType": "int64",
         "type": "integer"
        },
        {
         "name": "team_city",
         "rawType": "object",
         "type": "string"
        },
        {
         "name": "team_name",
         "rawType": "object",
         "type": "string"
        },
        {
         "name": "team_abbreviation",
         "rawType": "object",
         "type": "string"
        }
       ],
       "ref": "35f32805-2f7b-428d-8fef-d0f7c2f3a16c",
       "rows": [
        [
         "620",
         "20500021",
         "469",
         "Jamal",
         "Mashburn",
         null,
         "1610612755",
         "Philadelphia",
         "76ers",
         "PHI"
        ],
        [
         "1209",
         "20500146",
         "469",
         "Jamal",
         "Mashburn",
         null,
         "1610612755",
         "Philadelphia",
         "76ers",
         "PHI"
        ],
        [
         "1738",
         "20500259",
         "469",
         "Jamal",
         "Mashburn",
         null,
         "1610612755",
         "Philadelphia",
         "76ers",
         "PHI"
        ],
        [
         "1838",
         "20500270",
         "469",
         "Jamal",
         "Mashburn",
         null,
         "1610612755",
         "Philadelphia",
         "76ers",
         "PHI"
        ],
        [
         "1925",
         "20500295",
         "469",
         "Jamal",
         "Mashburn",
         null,
         "1610612755",
         "Philadelphia",
         "76ers",
         "PHI"
        ]
       ],
       "shape": {
        "columns": 9,
        "rows": 5
       }
      },
      "text/html": [
       "<div>\n",
       "<style scoped>\n",
       "    .dataframe tbody tr th:only-of-type {\n",
       "        vertical-align: middle;\n",
       "    }\n",
       "\n",
       "    .dataframe tbody tr th {\n",
       "        vertical-align: top;\n",
       "    }\n",
       "\n",
       "    .dataframe thead th {\n",
       "        text-align: right;\n",
       "    }\n",
       "</style>\n",
       "<table border=\"1\" class=\"dataframe\">\n",
       "  <thead>\n",
       "    <tr style=\"text-align: right;\">\n",
       "      <th></th>\n",
       "      <th>game_id</th>\n",
       "      <th>player_id</th>\n",
       "      <th>first_name</th>\n",
       "      <th>last_name</th>\n",
       "      <th>jersey_num</th>\n",
       "      <th>team_id</th>\n",
       "      <th>team_city</th>\n",
       "      <th>team_name</th>\n",
       "      <th>team_abbreviation</th>\n",
       "    </tr>\n",
       "  </thead>\n",
       "  <tbody>\n",
       "    <tr>\n",
       "      <th>620</th>\n",
       "      <td>20500021</td>\n",
       "      <td>469</td>\n",
       "      <td>Jamal</td>\n",
       "      <td>Mashburn</td>\n",
       "      <td>NaN</td>\n",
       "      <td>1610612755</td>\n",
       "      <td>Philadelphia</td>\n",
       "      <td>76ers</td>\n",
       "      <td>PHI</td>\n",
       "    </tr>\n",
       "    <tr>\n",
       "      <th>1209</th>\n",
       "      <td>20500146</td>\n",
       "      <td>469</td>\n",
       "      <td>Jamal</td>\n",
       "      <td>Mashburn</td>\n",
       "      <td>NaN</td>\n",
       "      <td>1610612755</td>\n",
       "      <td>Philadelphia</td>\n",
       "      <td>76ers</td>\n",
       "      <td>PHI</td>\n",
       "    </tr>\n",
       "    <tr>\n",
       "      <th>1738</th>\n",
       "      <td>20500259</td>\n",
       "      <td>469</td>\n",
       "      <td>Jamal</td>\n",
       "      <td>Mashburn</td>\n",
       "      <td>NaN</td>\n",
       "      <td>1610612755</td>\n",
       "      <td>Philadelphia</td>\n",
       "      <td>76ers</td>\n",
       "      <td>PHI</td>\n",
       "    </tr>\n",
       "    <tr>\n",
       "      <th>1838</th>\n",
       "      <td>20500270</td>\n",
       "      <td>469</td>\n",
       "      <td>Jamal</td>\n",
       "      <td>Mashburn</td>\n",
       "      <td>NaN</td>\n",
       "      <td>1610612755</td>\n",
       "      <td>Philadelphia</td>\n",
       "      <td>76ers</td>\n",
       "      <td>PHI</td>\n",
       "    </tr>\n",
       "    <tr>\n",
       "      <th>1925</th>\n",
       "      <td>20500295</td>\n",
       "      <td>469</td>\n",
       "      <td>Jamal</td>\n",
       "      <td>Mashburn</td>\n",
       "      <td>NaN</td>\n",
       "      <td>1610612755</td>\n",
       "      <td>Philadelphia</td>\n",
       "      <td>76ers</td>\n",
       "      <td>PHI</td>\n",
       "    </tr>\n",
       "  </tbody>\n",
       "</table>\n",
       "</div>"
      ],
      "text/plain": [
       "       game_id  player_id first_name last_name  jersey_num     team_id  \\\n",
       "620   20500021        469      Jamal  Mashburn         NaN  1610612755   \n",
       "1209  20500146        469      Jamal  Mashburn         NaN  1610612755   \n",
       "1738  20500259        469      Jamal  Mashburn         NaN  1610612755   \n",
       "1838  20500270        469      Jamal  Mashburn         NaN  1610612755   \n",
       "1925  20500295        469      Jamal  Mashburn         NaN  1610612755   \n",
       "\n",
       "         team_city team_name team_abbreviation  \n",
       "620   Philadelphia     76ers               PHI  \n",
       "1209  Philadelphia     76ers               PHI  \n",
       "1738  Philadelphia     76ers               PHI  \n",
       "1838  Philadelphia     76ers               PHI  \n",
       "1925  Philadelphia     76ers               PHI  "
      ]
     },
     "execution_count": 10,
     "metadata": {},
     "output_type": "execute_result"
    }
   ],
   "source": [
    "# 📌 Mostrar filas que contienen al menos un valor nulo\n",
    "filas_con_nulos = df_inactive[df_inactive.isnull().any(axis=1)]\n",
    "\n",
    "# 📌 Ver las primeras filas con nulos\n",
    "filas_con_nulos.head()"
   ]
  },
  {
   "cell_type": "markdown",
   "id": "453723e3",
   "metadata": {},
   "source": [
    "- REEMPLAZAMOS LOS VALORES NULOS DE LA COLUMNA JERSEY_NUMBER CON 0"
   ]
  },
  {
   "cell_type": "code",
   "execution_count": 11,
   "id": "637b90e8",
   "metadata": {},
   "outputs": [],
   "source": [
    "# 📌 Reemplazar los valores nulos de la columna jersey_num por 0\n",
    "df_inactive['jersey_num'] = df_inactive['jersey_num'].fillna(0)"
   ]
  },
  {
   "cell_type": "code",
   "execution_count": 12,
   "id": "2c750511",
   "metadata": {},
   "outputs": [
    {
     "data": {
      "application/vnd.microsoft.datawrangler.viewer.v0+json": {
       "columns": [
        {
         "name": "index",
         "rawType": "int64",
         "type": "integer"
        },
        {
         "name": "game_id",
         "rawType": "int64",
         "type": "integer"
        },
        {
         "name": "player_id",
         "rawType": "int64",
         "type": "integer"
        },
        {
         "name": "first_name",
         "rawType": "object",
         "type": "string"
        },
        {
         "name": "last_name",
         "rawType": "object",
         "type": "string"
        },
        {
         "name": "jersey_num",
         "rawType": "float64",
         "type": "float"
        },
        {
         "name": "team_id",
         "rawType": "int64",
         "type": "integer"
        },
        {
         "name": "team_city",
         "rawType": "object",
         "type": "string"
        },
        {
         "name": "team_name",
         "rawType": "object",
         "type": "string"
        },
        {
         "name": "team_abbreviation",
         "rawType": "object",
         "type": "string"
        }
       ],
       "ref": "09a9eb3e-a725-4f2f-8517-5e48d96adfb8",
       "rows": [],
       "shape": {
        "columns": 9,
        "rows": 0
       }
      },
      "text/html": [
       "<div>\n",
       "<style scoped>\n",
       "    .dataframe tbody tr th:only-of-type {\n",
       "        vertical-align: middle;\n",
       "    }\n",
       "\n",
       "    .dataframe tbody tr th {\n",
       "        vertical-align: top;\n",
       "    }\n",
       "\n",
       "    .dataframe thead th {\n",
       "        text-align: right;\n",
       "    }\n",
       "</style>\n",
       "<table border=\"1\" class=\"dataframe\">\n",
       "  <thead>\n",
       "    <tr style=\"text-align: right;\">\n",
       "      <th></th>\n",
       "      <th>game_id</th>\n",
       "      <th>player_id</th>\n",
       "      <th>first_name</th>\n",
       "      <th>last_name</th>\n",
       "      <th>jersey_num</th>\n",
       "      <th>team_id</th>\n",
       "      <th>team_city</th>\n",
       "      <th>team_name</th>\n",
       "      <th>team_abbreviation</th>\n",
       "    </tr>\n",
       "  </thead>\n",
       "  <tbody>\n",
       "  </tbody>\n",
       "</table>\n",
       "</div>"
      ],
      "text/plain": [
       "Empty DataFrame\n",
       "Columns: [game_id, player_id, first_name, last_name, jersey_num, team_id, team_city, team_name, team_abbreviation]\n",
       "Index: []"
      ]
     },
     "execution_count": 12,
     "metadata": {},
     "output_type": "execute_result"
    }
   ],
   "source": [
    "# 📌 Mostrar filas que contienen al menos un valor nulo\n",
    "filas_con_nulos = df_inactive[df_inactive.isnull().any(axis=1)]\n",
    "\n",
    "# 📌 Ver las primeras filas con nulos\n",
    "filas_con_nulos.head()"
   ]
  },
  {
   "cell_type": "markdown",
   "id": "4aee8704",
   "metadata": {},
   "source": [
    "- VERIFICAMOS EL TIPO DE DATO DE CADA COLUMNA"
   ]
  },
  {
   "cell_type": "code",
   "execution_count": 13,
   "id": "0387f0c5",
   "metadata": {},
   "outputs": [
    {
     "data": {
      "application/vnd.microsoft.datawrangler.viewer.v0+json": {
       "columns": [
        {
         "name": "index",
         "rawType": "object",
         "type": "string"
        },
        {
         "name": "0",
         "rawType": "object",
         "type": "unknown"
        }
       ],
       "ref": "df585ae9-605e-4366-8c3d-cdf0e99f2101",
       "rows": [
        [
         "game_id",
         "int64"
        ],
        [
         "player_id",
         "int64"
        ],
        [
         "first_name",
         "object"
        ],
        [
         "last_name",
         "object"
        ],
        [
         "jersey_num",
         "float64"
        ],
        [
         "team_id",
         "int64"
        ],
        [
         "team_city",
         "object"
        ],
        [
         "team_name",
         "object"
        ],
        [
         "team_abbreviation",
         "object"
        ]
       ],
       "shape": {
        "columns": 1,
        "rows": 9
       }
      },
      "text/plain": [
       "game_id                int64\n",
       "player_id              int64\n",
       "first_name            object\n",
       "last_name             object\n",
       "jersey_num           float64\n",
       "team_id                int64\n",
       "team_city             object\n",
       "team_name             object\n",
       "team_abbreviation     object\n",
       "dtype: object"
      ]
     },
     "execution_count": 13,
     "metadata": {},
     "output_type": "execute_result"
    }
   ],
   "source": [
    "# 📌 Mostrar los tipos de datos de cada columna\n",
    "df_inactive.dtypes"
   ]
  },
  {
   "cell_type": "code",
   "execution_count": 16,
   "id": "00f280a9",
   "metadata": {},
   "outputs": [
    {
     "data": {
      "application/vnd.microsoft.datawrangler.viewer.v0+json": {
       "columns": [
        {
         "name": "index",
         "rawType": "object",
         "type": "string"
        },
        {
         "name": "0",
         "rawType": "object",
         "type": "unknown"
        }
       ],
       "ref": "7a64254b-1adb-42f8-b275-bd7a79d30931",
       "rows": [
        [
         "game_id",
         "int64"
        ],
        [
         "player_id",
         "int64"
        ],
        [
         "first_name",
         "object"
        ],
        [
         "last_name",
         "object"
        ],
        [
         "jersey_num",
         "Int64"
        ],
        [
         "team_id",
         "int64"
        ],
        [
         "team_city",
         "object"
        ],
        [
         "team_name",
         "object"
        ],
        [
         "team_abbreviation",
         "object"
        ]
       ],
       "shape": {
        "columns": 1,
        "rows": 9
       }
      },
      "text/plain": [
       "game_id               int64\n",
       "player_id             int64\n",
       "first_name           object\n",
       "last_name            object\n",
       "jersey_num            Int64\n",
       "team_id               int64\n",
       "team_city            object\n",
       "team_name            object\n",
       "team_abbreviation    object\n",
       "dtype: object"
      ]
     },
     "execution_count": 16,
     "metadata": {},
     "output_type": "execute_result"
    }
   ],
   "source": [
    "# 📌 Convertir la columna jersey_num a tipo Int64\n",
    "df_inactive['jersey_num'] = df_inactive['jersey_num'].astype('Int64')\n",
    "\n",
    "# 📌 Mostrar los tipos de datos de cada columna\n",
    "df_inactive.dtypes"
   ]
  },
  {
   "cell_type": "markdown",
   "id": "cfd63b65",
   "metadata": {},
   "source": [
    "- VERIFICAMOS SI HAY DATOS DUPLICADOS"
   ]
  },
  {
   "cell_type": "code",
   "execution_count": 17,
   "id": "db9535ec",
   "metadata": {},
   "outputs": [
    {
     "name": "stdout",
     "output_type": "stream",
     "text": [
      "Filas duplicadas: 7\n"
     ]
    },
    {
     "data": {
      "application/vnd.microsoft.datawrangler.viewer.v0+json": {
       "columns": [
        {
         "name": "index",
         "rawType": "int64",
         "type": "integer"
        },
        {
         "name": "game_id",
         "rawType": "int64",
         "type": "integer"
        },
        {
         "name": "player_id",
         "rawType": "int64",
         "type": "integer"
        },
        {
         "name": "first_name",
         "rawType": "object",
         "type": "string"
        },
        {
         "name": "last_name",
         "rawType": "object",
         "type": "string"
        },
        {
         "name": "jersey_num",
         "rawType": "Int64",
         "type": "integer"
        },
        {
         "name": "team_id",
         "rawType": "int64",
         "type": "integer"
        },
        {
         "name": "team_city",
         "rawType": "object",
         "type": "string"
        },
        {
         "name": "team_name",
         "rawType": "object",
         "type": "string"
        },
        {
         "name": "team_abbreviation",
         "rawType": "object",
         "type": "string"
        }
       ],
       "ref": "0478856c-ec70-4eae-a27a-c3dc5aa21c69",
       "rows": [
        [
         "17940",
         "30700001",
         "708",
         "Kevin",
         "Garnett",
         "5",
         "1610616833",
         "East NBA All Stars",
         "East",
         "EST"
        ],
        [
         "17941",
         "30700001",
         "2406",
         "Caron",
         "Butler",
         "3",
         "1610616833",
         "East NBA All Stars",
         "East",
         "EST"
        ],
        [
         "48013",
         "31400001",
         "2548",
         "Dwyane",
         "Wade",
         "3",
         "1610616833",
         "East NBA All Stars",
         "East",
         "EST"
        ],
        [
         "48014",
         "31400001",
         "201933",
         "Blake",
         "Griffin",
         "32",
         "1610616834",
         "West NBA All Stars",
         "West",
         "WST"
        ],
        [
         "110188",
         "32200001",
         "201142",
         "Kevin",
         "Durant",
         "35",
         "1610616833",
         "Team",
         "Giannis",
         "GNS"
        ],
        [
         "110189",
         "32200001",
         "1629627",
         "Zion",
         "Williamson",
         "1",
         "1610616834",
         "Team",
         "LeBron",
         "LBN"
        ],
        [
         "110190",
         "32200001",
         "201939",
         "Stephen",
         "Curry",
         "30",
         "1610616834",
         "Team",
         "LeBron",
         "LBN"
        ]
       ],
       "shape": {
        "columns": 9,
        "rows": 7
       }
      },
      "text/html": [
       "<div>\n",
       "<style scoped>\n",
       "    .dataframe tbody tr th:only-of-type {\n",
       "        vertical-align: middle;\n",
       "    }\n",
       "\n",
       "    .dataframe tbody tr th {\n",
       "        vertical-align: top;\n",
       "    }\n",
       "\n",
       "    .dataframe thead th {\n",
       "        text-align: right;\n",
       "    }\n",
       "</style>\n",
       "<table border=\"1\" class=\"dataframe\">\n",
       "  <thead>\n",
       "    <tr style=\"text-align: right;\">\n",
       "      <th></th>\n",
       "      <th>game_id</th>\n",
       "      <th>player_id</th>\n",
       "      <th>first_name</th>\n",
       "      <th>last_name</th>\n",
       "      <th>jersey_num</th>\n",
       "      <th>team_id</th>\n",
       "      <th>team_city</th>\n",
       "      <th>team_name</th>\n",
       "      <th>team_abbreviation</th>\n",
       "    </tr>\n",
       "  </thead>\n",
       "  <tbody>\n",
       "    <tr>\n",
       "      <th>17940</th>\n",
       "      <td>30700001</td>\n",
       "      <td>708</td>\n",
       "      <td>Kevin</td>\n",
       "      <td>Garnett</td>\n",
       "      <td>5</td>\n",
       "      <td>1610616833</td>\n",
       "      <td>East NBA All Stars</td>\n",
       "      <td>East</td>\n",
       "      <td>EST</td>\n",
       "    </tr>\n",
       "    <tr>\n",
       "      <th>17941</th>\n",
       "      <td>30700001</td>\n",
       "      <td>2406</td>\n",
       "      <td>Caron</td>\n",
       "      <td>Butler</td>\n",
       "      <td>3</td>\n",
       "      <td>1610616833</td>\n",
       "      <td>East NBA All Stars</td>\n",
       "      <td>East</td>\n",
       "      <td>EST</td>\n",
       "    </tr>\n",
       "    <tr>\n",
       "      <th>48013</th>\n",
       "      <td>31400001</td>\n",
       "      <td>2548</td>\n",
       "      <td>Dwyane</td>\n",
       "      <td>Wade</td>\n",
       "      <td>3</td>\n",
       "      <td>1610616833</td>\n",
       "      <td>East NBA All Stars</td>\n",
       "      <td>East</td>\n",
       "      <td>EST</td>\n",
       "    </tr>\n",
       "    <tr>\n",
       "      <th>48014</th>\n",
       "      <td>31400001</td>\n",
       "      <td>201933</td>\n",
       "      <td>Blake</td>\n",
       "      <td>Griffin</td>\n",
       "      <td>32</td>\n",
       "      <td>1610616834</td>\n",
       "      <td>West NBA All Stars</td>\n",
       "      <td>West</td>\n",
       "      <td>WST</td>\n",
       "    </tr>\n",
       "    <tr>\n",
       "      <th>110188</th>\n",
       "      <td>32200001</td>\n",
       "      <td>201142</td>\n",
       "      <td>Kevin</td>\n",
       "      <td>Durant</td>\n",
       "      <td>35</td>\n",
       "      <td>1610616833</td>\n",
       "      <td>Team</td>\n",
       "      <td>Giannis</td>\n",
       "      <td>GNS</td>\n",
       "    </tr>\n",
       "    <tr>\n",
       "      <th>110189</th>\n",
       "      <td>32200001</td>\n",
       "      <td>1629627</td>\n",
       "      <td>Zion</td>\n",
       "      <td>Williamson</td>\n",
       "      <td>1</td>\n",
       "      <td>1610616834</td>\n",
       "      <td>Team</td>\n",
       "      <td>LeBron</td>\n",
       "      <td>LBN</td>\n",
       "    </tr>\n",
       "    <tr>\n",
       "      <th>110190</th>\n",
       "      <td>32200001</td>\n",
       "      <td>201939</td>\n",
       "      <td>Stephen</td>\n",
       "      <td>Curry</td>\n",
       "      <td>30</td>\n",
       "      <td>1610616834</td>\n",
       "      <td>Team</td>\n",
       "      <td>LeBron</td>\n",
       "      <td>LBN</td>\n",
       "    </tr>\n",
       "  </tbody>\n",
       "</table>\n",
       "</div>"
      ],
      "text/plain": [
       "         game_id  player_id first_name   last_name  jersey_num     team_id  \\\n",
       "17940   30700001        708      Kevin     Garnett           5  1610616833   \n",
       "17941   30700001       2406      Caron      Butler           3  1610616833   \n",
       "48013   31400001       2548     Dwyane        Wade           3  1610616833   \n",
       "48014   31400001     201933      Blake     Griffin          32  1610616834   \n",
       "110188  32200001     201142      Kevin      Durant          35  1610616833   \n",
       "110189  32200001    1629627       Zion  Williamson           1  1610616834   \n",
       "110190  32200001     201939    Stephen       Curry          30  1610616834   \n",
       "\n",
       "                 team_city team_name team_abbreviation  \n",
       "17940   East NBA All Stars      East               EST  \n",
       "17941   East NBA All Stars      East               EST  \n",
       "48013   East NBA All Stars      East               EST  \n",
       "48014   West NBA All Stars      West               WST  \n",
       "110188                Team   Giannis               GNS  \n",
       "110189                Team    LeBron               LBN  \n",
       "110190                Team    LeBron               LBN  "
      ]
     },
     "execution_count": 17,
     "metadata": {},
     "output_type": "execute_result"
    }
   ],
   "source": [
    "# 📌 Verificar si hay filas duplicadas en todo el DataFrame\n",
    "duplicados = df_inactive.duplicated()\n",
    "\n",
    "# 📌 Mostrar cuántas filas están duplicadas\n",
    "print(f\"Filas duplicadas: {duplicados.sum()}\")\n",
    "\n",
    "# 📌 Mostrar las filas duplicadas\n",
    "df_inactive[duplicados]"
   ]
  },
  {
   "cell_type": "code",
   "execution_count": 18,
   "id": "9f029f50",
   "metadata": {},
   "outputs": [
    {
     "name": "stdout",
     "output_type": "stream",
     "text": [
      "🔁 Total de filas duplicadas: 14\n",
      "📋 Resumen de duplicados (filas idénticas):\n",
      "    game_id  player_id first_name last_name  jersey_num     team_id  \\\n",
      "0  30700001        708      Kevin   Garnett           5  1610616833   \n",
      "1  30700001       2406      Caron    Butler           3  1610616833   \n",
      "2  31400001       2548     Dwyane      Wade           3  1610616833   \n",
      "3  31400001     201933      Blake   Griffin          32  1610616834   \n",
      "4  32200001     201142      Kevin    Durant          35  1610616833   \n",
      "\n",
      "            team_city team_name team_abbreviation  Repeticiones  \n",
      "0  East NBA All Stars      East               EST             2  \n",
      "1  East NBA All Stars      East               EST             2  \n",
      "2  East NBA All Stars      East               EST             2  \n",
      "3  West NBA All Stars      West               WST             2  \n",
      "4                Team   Giannis               GNS             2  \n"
     ]
    },
    {
     "data": {
      "application/vnd.microsoft.datawrangler.viewer.v0+json": {
       "columns": [
        {
         "name": "index",
         "rawType": "int64",
         "type": "integer"
        },
        {
         "name": "game_id",
         "rawType": "int64",
         "type": "integer"
        },
        {
         "name": "player_id",
         "rawType": "int64",
         "type": "integer"
        },
        {
         "name": "first_name",
         "rawType": "object",
         "type": "string"
        },
        {
         "name": "last_name",
         "rawType": "object",
         "type": "string"
        },
        {
         "name": "jersey_num",
         "rawType": "Int64",
         "type": "integer"
        },
        {
         "name": "team_id",
         "rawType": "int64",
         "type": "integer"
        },
        {
         "name": "team_city",
         "rawType": "object",
         "type": "string"
        },
        {
         "name": "team_name",
         "rawType": "object",
         "type": "string"
        },
        {
         "name": "team_abbreviation",
         "rawType": "object",
         "type": "string"
        }
       ],
       "ref": "91f125eb-9470-4a78-aebe-66262fd85363",
       "rows": [
        [
         "17938",
         "30700001",
         "708",
         "Kevin",
         "Garnett",
         "5",
         "1610616833",
         "East NBA All Stars",
         "East",
         "EST"
        ],
        [
         "17939",
         "30700001",
         "2406",
         "Caron",
         "Butler",
         "3",
         "1610616833",
         "East NBA All Stars",
         "East",
         "EST"
        ],
        [
         "17940",
         "30700001",
         "708",
         "Kevin",
         "Garnett",
         "5",
         "1610616833",
         "East NBA All Stars",
         "East",
         "EST"
        ],
        [
         "17941",
         "30700001",
         "2406",
         "Caron",
         "Butler",
         "3",
         "1610616833",
         "East NBA All Stars",
         "East",
         "EST"
        ],
        [
         "48011",
         "31400001",
         "2548",
         "Dwyane",
         "Wade",
         "3",
         "1610616833",
         "East NBA All Stars",
         "East",
         "EST"
        ],
        [
         "48012",
         "31400001",
         "201933",
         "Blake",
         "Griffin",
         "32",
         "1610616834",
         "West NBA All Stars",
         "West",
         "WST"
        ],
        [
         "48013",
         "31400001",
         "2548",
         "Dwyane",
         "Wade",
         "3",
         "1610616833",
         "East NBA All Stars",
         "East",
         "EST"
        ],
        [
         "48014",
         "31400001",
         "201933",
         "Blake",
         "Griffin",
         "32",
         "1610616834",
         "West NBA All Stars",
         "West",
         "WST"
        ],
        [
         "110185",
         "32200001",
         "201142",
         "Kevin",
         "Durant",
         "35",
         "1610616833",
         "Team",
         "Giannis",
         "GNS"
        ],
        [
         "110186",
         "32200001",
         "1629627",
         "Zion",
         "Williamson",
         "1",
         "1610616834",
         "Team",
         "LeBron",
         "LBN"
        ],
        [
         "110187",
         "32200001",
         "201939",
         "Stephen",
         "Curry",
         "30",
         "1610616834",
         "Team",
         "LeBron",
         "LBN"
        ],
        [
         "110188",
         "32200001",
         "201142",
         "Kevin",
         "Durant",
         "35",
         "1610616833",
         "Team",
         "Giannis",
         "GNS"
        ],
        [
         "110189",
         "32200001",
         "1629627",
         "Zion",
         "Williamson",
         "1",
         "1610616834",
         "Team",
         "LeBron",
         "LBN"
        ],
        [
         "110190",
         "32200001",
         "201939",
         "Stephen",
         "Curry",
         "30",
         "1610616834",
         "Team",
         "LeBron",
         "LBN"
        ]
       ],
       "shape": {
        "columns": 9,
        "rows": 14
       }
      },
      "text/html": [
       "<div>\n",
       "<style scoped>\n",
       "    .dataframe tbody tr th:only-of-type {\n",
       "        vertical-align: middle;\n",
       "    }\n",
       "\n",
       "    .dataframe tbody tr th {\n",
       "        vertical-align: top;\n",
       "    }\n",
       "\n",
       "    .dataframe thead th {\n",
       "        text-align: right;\n",
       "    }\n",
       "</style>\n",
       "<table border=\"1\" class=\"dataframe\">\n",
       "  <thead>\n",
       "    <tr style=\"text-align: right;\">\n",
       "      <th></th>\n",
       "      <th>game_id</th>\n",
       "      <th>player_id</th>\n",
       "      <th>first_name</th>\n",
       "      <th>last_name</th>\n",
       "      <th>jersey_num</th>\n",
       "      <th>team_id</th>\n",
       "      <th>team_city</th>\n",
       "      <th>team_name</th>\n",
       "      <th>team_abbreviation</th>\n",
       "    </tr>\n",
       "  </thead>\n",
       "  <tbody>\n",
       "    <tr>\n",
       "      <th>17938</th>\n",
       "      <td>30700001</td>\n",
       "      <td>708</td>\n",
       "      <td>Kevin</td>\n",
       "      <td>Garnett</td>\n",
       "      <td>5</td>\n",
       "      <td>1610616833</td>\n",
       "      <td>East NBA All Stars</td>\n",
       "      <td>East</td>\n",
       "      <td>EST</td>\n",
       "    </tr>\n",
       "    <tr>\n",
       "      <th>17939</th>\n",
       "      <td>30700001</td>\n",
       "      <td>2406</td>\n",
       "      <td>Caron</td>\n",
       "      <td>Butler</td>\n",
       "      <td>3</td>\n",
       "      <td>1610616833</td>\n",
       "      <td>East NBA All Stars</td>\n",
       "      <td>East</td>\n",
       "      <td>EST</td>\n",
       "    </tr>\n",
       "    <tr>\n",
       "      <th>17940</th>\n",
       "      <td>30700001</td>\n",
       "      <td>708</td>\n",
       "      <td>Kevin</td>\n",
       "      <td>Garnett</td>\n",
       "      <td>5</td>\n",
       "      <td>1610616833</td>\n",
       "      <td>East NBA All Stars</td>\n",
       "      <td>East</td>\n",
       "      <td>EST</td>\n",
       "    </tr>\n",
       "    <tr>\n",
       "      <th>17941</th>\n",
       "      <td>30700001</td>\n",
       "      <td>2406</td>\n",
       "      <td>Caron</td>\n",
       "      <td>Butler</td>\n",
       "      <td>3</td>\n",
       "      <td>1610616833</td>\n",
       "      <td>East NBA All Stars</td>\n",
       "      <td>East</td>\n",
       "      <td>EST</td>\n",
       "    </tr>\n",
       "    <tr>\n",
       "      <th>48011</th>\n",
       "      <td>31400001</td>\n",
       "      <td>2548</td>\n",
       "      <td>Dwyane</td>\n",
       "      <td>Wade</td>\n",
       "      <td>3</td>\n",
       "      <td>1610616833</td>\n",
       "      <td>East NBA All Stars</td>\n",
       "      <td>East</td>\n",
       "      <td>EST</td>\n",
       "    </tr>\n",
       "    <tr>\n",
       "      <th>48012</th>\n",
       "      <td>31400001</td>\n",
       "      <td>201933</td>\n",
       "      <td>Blake</td>\n",
       "      <td>Griffin</td>\n",
       "      <td>32</td>\n",
       "      <td>1610616834</td>\n",
       "      <td>West NBA All Stars</td>\n",
       "      <td>West</td>\n",
       "      <td>WST</td>\n",
       "    </tr>\n",
       "    <tr>\n",
       "      <th>48013</th>\n",
       "      <td>31400001</td>\n",
       "      <td>2548</td>\n",
       "      <td>Dwyane</td>\n",
       "      <td>Wade</td>\n",
       "      <td>3</td>\n",
       "      <td>1610616833</td>\n",
       "      <td>East NBA All Stars</td>\n",
       "      <td>East</td>\n",
       "      <td>EST</td>\n",
       "    </tr>\n",
       "    <tr>\n",
       "      <th>48014</th>\n",
       "      <td>31400001</td>\n",
       "      <td>201933</td>\n",
       "      <td>Blake</td>\n",
       "      <td>Griffin</td>\n",
       "      <td>32</td>\n",
       "      <td>1610616834</td>\n",
       "      <td>West NBA All Stars</td>\n",
       "      <td>West</td>\n",
       "      <td>WST</td>\n",
       "    </tr>\n",
       "    <tr>\n",
       "      <th>110185</th>\n",
       "      <td>32200001</td>\n",
       "      <td>201142</td>\n",
       "      <td>Kevin</td>\n",
       "      <td>Durant</td>\n",
       "      <td>35</td>\n",
       "      <td>1610616833</td>\n",
       "      <td>Team</td>\n",
       "      <td>Giannis</td>\n",
       "      <td>GNS</td>\n",
       "    </tr>\n",
       "    <tr>\n",
       "      <th>110186</th>\n",
       "      <td>32200001</td>\n",
       "      <td>1629627</td>\n",
       "      <td>Zion</td>\n",
       "      <td>Williamson</td>\n",
       "      <td>1</td>\n",
       "      <td>1610616834</td>\n",
       "      <td>Team</td>\n",
       "      <td>LeBron</td>\n",
       "      <td>LBN</td>\n",
       "    </tr>\n",
       "    <tr>\n",
       "      <th>110187</th>\n",
       "      <td>32200001</td>\n",
       "      <td>201939</td>\n",
       "      <td>Stephen</td>\n",
       "      <td>Curry</td>\n",
       "      <td>30</td>\n",
       "      <td>1610616834</td>\n",
       "      <td>Team</td>\n",
       "      <td>LeBron</td>\n",
       "      <td>LBN</td>\n",
       "    </tr>\n",
       "    <tr>\n",
       "      <th>110188</th>\n",
       "      <td>32200001</td>\n",
       "      <td>201142</td>\n",
       "      <td>Kevin</td>\n",
       "      <td>Durant</td>\n",
       "      <td>35</td>\n",
       "      <td>1610616833</td>\n",
       "      <td>Team</td>\n",
       "      <td>Giannis</td>\n",
       "      <td>GNS</td>\n",
       "    </tr>\n",
       "    <tr>\n",
       "      <th>110189</th>\n",
       "      <td>32200001</td>\n",
       "      <td>1629627</td>\n",
       "      <td>Zion</td>\n",
       "      <td>Williamson</td>\n",
       "      <td>1</td>\n",
       "      <td>1610616834</td>\n",
       "      <td>Team</td>\n",
       "      <td>LeBron</td>\n",
       "      <td>LBN</td>\n",
       "    </tr>\n",
       "    <tr>\n",
       "      <th>110190</th>\n",
       "      <td>32200001</td>\n",
       "      <td>201939</td>\n",
       "      <td>Stephen</td>\n",
       "      <td>Curry</td>\n",
       "      <td>30</td>\n",
       "      <td>1610616834</td>\n",
       "      <td>Team</td>\n",
       "      <td>LeBron</td>\n",
       "      <td>LBN</td>\n",
       "    </tr>\n",
       "  </tbody>\n",
       "</table>\n",
       "</div>"
      ],
      "text/plain": [
       "         game_id  player_id first_name   last_name  jersey_num     team_id  \\\n",
       "17938   30700001        708      Kevin     Garnett           5  1610616833   \n",
       "17939   30700001       2406      Caron      Butler           3  1610616833   \n",
       "17940   30700001        708      Kevin     Garnett           5  1610616833   \n",
       "17941   30700001       2406      Caron      Butler           3  1610616833   \n",
       "48011   31400001       2548     Dwyane        Wade           3  1610616833   \n",
       "48012   31400001     201933      Blake     Griffin          32  1610616834   \n",
       "48013   31400001       2548     Dwyane        Wade           3  1610616833   \n",
       "48014   31400001     201933      Blake     Griffin          32  1610616834   \n",
       "110185  32200001     201142      Kevin      Durant          35  1610616833   \n",
       "110186  32200001    1629627       Zion  Williamson           1  1610616834   \n",
       "110187  32200001     201939    Stephen       Curry          30  1610616834   \n",
       "110188  32200001     201142      Kevin      Durant          35  1610616833   \n",
       "110189  32200001    1629627       Zion  Williamson           1  1610616834   \n",
       "110190  32200001     201939    Stephen       Curry          30  1610616834   \n",
       "\n",
       "                 team_city team_name team_abbreviation  \n",
       "17938   East NBA All Stars      East               EST  \n",
       "17939   East NBA All Stars      East               EST  \n",
       "17940   East NBA All Stars      East               EST  \n",
       "17941   East NBA All Stars      East               EST  \n",
       "48011   East NBA All Stars      East               EST  \n",
       "48012   West NBA All Stars      West               WST  \n",
       "48013   East NBA All Stars      East               EST  \n",
       "48014   West NBA All Stars      West               WST  \n",
       "110185                Team   Giannis               GNS  \n",
       "110186                Team    LeBron               LBN  \n",
       "110187                Team    LeBron               LBN  \n",
       "110188                Team   Giannis               GNS  \n",
       "110189                Team    LeBron               LBN  \n",
       "110190                Team    LeBron               LBN  "
      ]
     },
     "execution_count": 18,
     "metadata": {},
     "output_type": "execute_result"
    }
   ],
   "source": [
    "# 📌 Paso 1: Detectar filas duplicadas (todas las columnas)\n",
    "duplicados = df_inactive[df_inactive.duplicated(keep=False)]\n",
    "\n",
    "# 📌 Paso 2: Contar cuántas veces se repite cada fila duplicada\n",
    "resumen_duplicados = duplicados.value_counts().reset_index(name='Repeticiones')\n",
    "\n",
    "# 📌 Paso 3: Mostrar resumen\n",
    "print(f\"🔁 Total de filas duplicadas: {len(duplicados)}\")\n",
    "print(\"📋 Resumen de duplicados (filas idénticas):\")\n",
    "print(resumen_duplicados.head())\n",
    "\n",
    "# 📌 Paso 4: Mostrar tabla de duplicados\n",
    "duplicados"
   ]
  },
  {
   "cell_type": "markdown",
   "id": "085b176a",
   "metadata": {},
   "source": [
    "- UNIFICAR LA ESCRITURA, LA PRIMER LETR DE CADA PALABRA EN MAYUSCULA Y LAS SIGLAS CON PUNTOS ENTRE LAS LETRAS"
   ]
  },
  {
   "cell_type": "code",
   "execution_count": 19,
   "id": "e06d641c",
   "metadata": {},
   "outputs": [
    {
     "name": "stdout",
     "output_type": "stream",
     "text": [
      "✅ Nombres modificados en 'first_name': 5661\n",
      "✅ Apellidos modificados en 'last_name': 6267\n"
     ]
    }
   ],
   "source": [
    "# 📌 Función para capitalizar y corregir siglas tipo \"AJ\" → \"A.J.\"\n",
    "def formatear_nombre(nombre):\n",
    "    if pd.isnull(nombre):\n",
    "        return nombre\n",
    "    partes = nombre.strip().split()\n",
    "    nuevas_partes = []\n",
    "    for parte in partes:\n",
    "        if len(parte) == 2 and parte.isupper():\n",
    "            nuevas_partes.append(parte[0] + '.' + parte[1] + '.')\n",
    "        else:\n",
    "            nuevas_partes.append(parte.capitalize())\n",
    "    return ' '.join(nuevas_partes)\n",
    "\n",
    "# 📌 Guardar originales para comparar\n",
    "original_first = df_inactive['first_name'].copy()\n",
    "original_last = df_inactive['last_name'].copy()\n",
    "\n",
    "# 📌 Aplicar la función de corrección\n",
    "df_inactive['first_name'] = df_inactive['first_name'].apply(formatear_nombre)\n",
    "df_inactive['last_name'] = df_inactive['last_name'].apply(formatear_nombre)\n",
    "\n",
    "# 📌 Contar cuántos se modificaron\n",
    "modificados_first = (df_inactive['first_name'] != original_first).sum()\n",
    "modificados_last = (df_inactive['last_name'] != original_last).sum()\n",
    "\n",
    "print(f\"✅ Nombres modificados en 'first_name': {modificados_first}\")\n",
    "print(f\"✅ Apellidos modificados en 'last_name': {modificados_last}\")\n"
   ]
  },
  {
   "cell_type": "code",
   "execution_count": 20,
   "id": "1086bab9",
   "metadata": {},
   "outputs": [
    {
     "data": {
      "application/vnd.microsoft.datawrangler.viewer.v0+json": {
       "columns": [
        {
         "name": "index",
         "rawType": "int64",
         "type": "integer"
        },
        {
         "name": "game_id",
         "rawType": "int64",
         "type": "integer"
        },
        {
         "name": "player_id",
         "rawType": "int64",
         "type": "integer"
        },
        {
         "name": "first_name",
         "rawType": "object",
         "type": "string"
        },
        {
         "name": "last_name",
         "rawType": "object",
         "type": "string"
        },
        {
         "name": "jersey_num",
         "rawType": "Int64",
         "type": "integer"
        },
        {
         "name": "team_id",
         "rawType": "int64",
         "type": "integer"
        },
        {
         "name": "team_city",
         "rawType": "object",
         "type": "string"
        },
        {
         "name": "team_name",
         "rawType": "object",
         "type": "string"
        },
        {
         "name": "team_abbreviation",
         "rawType": "object",
         "type": "string"
        }
       ],
       "ref": "f167bb0e-9621-4127-a0af-b880ddd53d54",
       "rows": [
        [
         "0",
         "29600034",
         "184",
         "Bobby",
         "Phills",
         "14",
         "1610612739",
         "Cleveland",
         "Cavaliers",
         "CLE"
        ],
        [
         "1",
         "29600034",
         "781",
         "Will",
         "Perdue",
         "41",
         "1610612759",
         "San Antonio",
         "Spurs",
         "SAS"
        ],
        [
         "2",
         "29600132",
         "120",
         "Steven",
         "Smith",
         "8",
         "1610612737",
         "Atlanta",
         "Hawks",
         "ATL"
        ],
        [
         "3",
         "29600203",
         "698",
         "Eddie",
         "Johnson",
         "8",
         "1610612754",
         "Indiana",
         "Pacers",
         "IND"
        ],
        [
         "4",
         "29600213",
         "32",
         "Clifford",
         "Rozier",
         "44",
         "1610612753",
         "Orlando",
         "Magic",
         "ORL"
        ],
        [
         "5",
         "29600227",
         "440",
         "Zan",
         "Tabak",
         "3",
         "1610612761",
         "Toronto",
         "Raptors",
         "TOR"
        ],
        [
         "6",
         "29600267",
         "914",
         "Stanley",
         "Roberts",
         "53",
         "1610612746",
         "Los Angeles",
         "Clippers",
         "LAC"
        ],
        [
         "7",
         "29600278",
         "291",
         "Ed",
         "Pinckney",
         "54",
         "1610612748",
         "Miami",
         "Heat",
         "MIA"
        ],
        [
         "8",
         "29600335",
         "420",
         "Jayson",
         "Williams",
         "55",
         "1610612751",
         "New Jersey",
         "Nets",
         "NJN"
        ],
        [
         "9",
         "29600335",
         "762",
         "Shawn",
         "Bradley",
         "45",
         "1610612751",
         "New Jersey",
         "Nets",
         "NJN"
        ],
        [
         "10",
         "29600352",
         "93",
         "Hubert",
         "Davis",
         "44",
         "1610612761",
         "Toronto",
         "Raptors",
         "TOR"
        ],
        [
         "11",
         "29600387",
         "85",
         "Brent",
         "Price",
         "20",
         "1610612745",
         "Houston",
         "Rockets",
         "HOU"
        ],
        [
         "12",
         "29600467",
         "1108",
         "Tony",
         "Farmer",
         "4",
         "1610612748",
         "Miami",
         "Heat",
         "MIA"
        ],
        [
         "13",
         "29600471",
         "238",
         "Tyrone",
         "Hill",
         "32",
         "1610612739",
         "Cleveland",
         "Cavaliers",
         "CLE"
        ],
        [
         "14",
         "29600505",
         "770",
         "Mark",
         "West",
         "41",
         "1610612739",
         "Cleveland",
         "Cavaliers",
         "CLE"
        ],
        [
         "15",
         "29600556",
         "199",
         "Reggie",
         "Williams",
         "7",
         "1610612751",
         "New Jersey",
         "Nets",
         "NJN"
        ],
        [
         "16",
         "29600566",
         "697",
         "Fred",
         "Hoiberg",
         "20",
         "1610612754",
         "Indiana",
         "Pacers",
         "IND"
        ],
        [
         "17",
         "29600593",
         "168",
         "Chris",
         "Mills",
         "24",
         "1610612739",
         "Cleveland",
         "Cavaliers",
         "CLE"
        ],
        [
         "18",
         "29600593",
         "177",
         "Muggsy",
         "Bogues",
         "1",
         "1610612766",
         "Charlotte",
         "Hornets",
         "CHH"
        ],
        [
         "19",
         "29600621",
         "121",
         "Patrick",
         "Ewing",
         "33",
         "1610612752",
         "New York",
         "Knicks",
         "NYK"
        ],
        [
         "20",
         "29600642",
         "934",
         "Derrick",
         "Coleman",
         "44",
         "1610612755",
         "Philadelphia",
         "76ers",
         "PHI"
        ],
        [
         "21",
         "29600735",
         "984",
         "Steve",
         "Hamer",
         "52",
         "1610612738",
         "Boston",
         "Celtics",
         "BOS"
        ],
        [
         "22",
         "29600782",
         "997",
         "Chris",
         "Robinson",
         "5",
         "1610612763",
         "Vancouver",
         "Grizzlies",
         "VAN"
        ],
        [
         "23",
         "29600821",
         "770",
         "Mark",
         "West",
         "52",
         "1610612739",
         "Cleveland",
         "Cavaliers",
         "CLE"
        ],
        [
         "24",
         "29600821",
         "65",
         "Greg",
         "Minor",
         "48",
         "1610612738",
         "Boston",
         "Celtics",
         "BOS"
        ],
        [
         "25",
         "29600821",
         "244",
         "Dee",
         "Brown",
         "48",
         "1610612738",
         "Boston",
         "Celtics",
         "BOS"
        ],
        [
         "26",
         "29600873",
         "770",
         "Mark",
         "West",
         "41",
         "1610612739",
         "Cleveland",
         "Cavaliers",
         "CLE"
        ],
        [
         "27",
         "29600953",
         "971",
         "Mark",
         "Hendrickson",
         "14",
         "1610612755",
         "Philadelphia",
         "76ers",
         "PHI"
        ],
        [
         "28",
         "29600961",
         "168",
         "Chris",
         "Mills",
         "50",
         "1610612739",
         "Cleveland",
         "Cavaliers",
         "CLE"
        ],
        [
         "29",
         "29600961",
         "210",
         "Terrell",
         "Brandon",
         "48",
         "1610612739",
         "Cleveland",
         "Cavaliers",
         "CLE"
        ],
        [
         "30",
         "29601032",
         "234",
         "Khalid",
         "Reeves",
         "6",
         "1610612742",
         "Dallas",
         "Mavericks",
         "DAL"
        ],
        [
         "31",
         "29601032",
         "955",
         "Samaki",
         "Walker",
         "52",
         "1610612742",
         "Dallas",
         "Mavericks",
         "DAL"
        ],
        [
         "32",
         "29601073",
         "1381",
         "John",
         "Long",
         "50",
         "1610612761",
         "Toronto",
         "Raptors",
         "TOR"
        ],
        [
         "33",
         "29601087",
         "238",
         "Tyrone",
         "Hill",
         "32",
         "1610612739",
         "Cleveland",
         "Cavaliers",
         "CLE"
        ],
        [
         "34",
         "29601087",
         "380",
         "Tony",
         "Smith",
         "34",
         "1610612766",
         "Charlotte",
         "Hornets",
         "CHH"
        ],
        [
         "35",
         "29601087",
         "209",
         "Dell",
         "Curry",
         "30",
         "1610612766",
         "Charlotte",
         "Hornets",
         "CHH"
        ],
        [
         "36",
         "29601139",
         "291",
         "Ed",
         "Pinckney",
         "54",
         "1610612748",
         "Miami",
         "Heat",
         "MIA"
        ],
        [
         "37",
         "29601156",
         "216",
         "Brian",
         "Shaw",
         "50",
         "1610612753",
         "Orlando",
         "Magic",
         "ORL"
        ],
        [
         "38",
         "29601156",
         "938",
         "Rony",
         "Seikaly",
         "32",
         "1610612753",
         "Orlando",
         "Magic",
         "ORL"
        ],
        [
         "39",
         "29700002",
         "1496",
         "Keith",
         "Van Horn",
         "52",
         "1610612751",
         "New Jersey",
         "Nets",
         "NJN"
        ],
        [
         "40",
         "29700068",
         "682",
         "Bob",
         "Sura",
         "3",
         "1610612739",
         "Cleveland",
         "Cavaliers",
         "CLE"
        ],
        [
         "41",
         "29700142",
         "358",
         "Anfernee",
         "Hardaway",
         "1",
         "1610612753",
         "Orlando",
         "Magic",
         "ORL"
        ],
        [
         "42",
         "29700252",
         "997",
         "Chris",
         "Robinson",
         "5",
         "1610612763",
         "Vancouver",
         "Grizzlies",
         "VAN"
        ],
        [
         "43",
         "29700282",
         "348",
         "Mitchell",
         "Butler",
         "6",
         "1610612739",
         "Cleveland",
         "Cavaliers",
         "CLE"
        ],
        [
         "44",
         "29700321",
         "348",
         "Mitchell",
         "Butler",
         "6",
         "1610612739",
         "Cleveland",
         "Cavaliers",
         "CLE"
        ],
        [
         "45",
         "29700328",
         "917",
         "Jack",
         "Haley",
         "54",
         "1610612751",
         "New Jersey",
         "Nets",
         "NJN"
        ],
        [
         "46",
         "29700345",
         "348",
         "Mitchell",
         "Butler",
         "6",
         "1610612739",
         "Cleveland",
         "Cavaliers",
         "CLE"
        ],
        [
         "47",
         "29700362",
         "348",
         "Mitchell",
         "Butler",
         "6",
         "1610612739",
         "Cleveland",
         "Cavaliers",
         "CLE"
        ],
        [
         "48",
         "29700362",
         "356",
         "Chris",
         "Morris",
         "34",
         "1610612762",
         "Utah",
         "Jazz",
         "UTA"
        ],
        [
         "49",
         "29700372",
         "1444",
         "Lawrence",
         "Funderburke",
         "51",
         "1610612758",
         "Sacramento",
         "Kings",
         "SAC"
        ]
       ],
       "shape": {
        "columns": 9,
        "rows": 110190
       }
      },
      "text/html": [
       "<div>\n",
       "<style scoped>\n",
       "    .dataframe tbody tr th:only-of-type {\n",
       "        vertical-align: middle;\n",
       "    }\n",
       "\n",
       "    .dataframe tbody tr th {\n",
       "        vertical-align: top;\n",
       "    }\n",
       "\n",
       "    .dataframe thead th {\n",
       "        text-align: right;\n",
       "    }\n",
       "</style>\n",
       "<table border=\"1\" class=\"dataframe\">\n",
       "  <thead>\n",
       "    <tr style=\"text-align: right;\">\n",
       "      <th></th>\n",
       "      <th>game_id</th>\n",
       "      <th>player_id</th>\n",
       "      <th>first_name</th>\n",
       "      <th>last_name</th>\n",
       "      <th>jersey_num</th>\n",
       "      <th>team_id</th>\n",
       "      <th>team_city</th>\n",
       "      <th>team_name</th>\n",
       "      <th>team_abbreviation</th>\n",
       "    </tr>\n",
       "  </thead>\n",
       "  <tbody>\n",
       "    <tr>\n",
       "      <th>0</th>\n",
       "      <td>29600034</td>\n",
       "      <td>184</td>\n",
       "      <td>Bobby</td>\n",
       "      <td>Phills</td>\n",
       "      <td>14</td>\n",
       "      <td>1610612739</td>\n",
       "      <td>Cleveland</td>\n",
       "      <td>Cavaliers</td>\n",
       "      <td>CLE</td>\n",
       "    </tr>\n",
       "    <tr>\n",
       "      <th>1</th>\n",
       "      <td>29600034</td>\n",
       "      <td>781</td>\n",
       "      <td>Will</td>\n",
       "      <td>Perdue</td>\n",
       "      <td>41</td>\n",
       "      <td>1610612759</td>\n",
       "      <td>San Antonio</td>\n",
       "      <td>Spurs</td>\n",
       "      <td>SAS</td>\n",
       "    </tr>\n",
       "    <tr>\n",
       "      <th>2</th>\n",
       "      <td>29600132</td>\n",
       "      <td>120</td>\n",
       "      <td>Steven</td>\n",
       "      <td>Smith</td>\n",
       "      <td>8</td>\n",
       "      <td>1610612737</td>\n",
       "      <td>Atlanta</td>\n",
       "      <td>Hawks</td>\n",
       "      <td>ATL</td>\n",
       "    </tr>\n",
       "    <tr>\n",
       "      <th>3</th>\n",
       "      <td>29600203</td>\n",
       "      <td>698</td>\n",
       "      <td>Eddie</td>\n",
       "      <td>Johnson</td>\n",
       "      <td>8</td>\n",
       "      <td>1610612754</td>\n",
       "      <td>Indiana</td>\n",
       "      <td>Pacers</td>\n",
       "      <td>IND</td>\n",
       "    </tr>\n",
       "    <tr>\n",
       "      <th>4</th>\n",
       "      <td>29600213</td>\n",
       "      <td>32</td>\n",
       "      <td>Clifford</td>\n",
       "      <td>Rozier</td>\n",
       "      <td>44</td>\n",
       "      <td>1610612753</td>\n",
       "      <td>Orlando</td>\n",
       "      <td>Magic</td>\n",
       "      <td>ORL</td>\n",
       "    </tr>\n",
       "    <tr>\n",
       "      <th>...</th>\n",
       "      <td>...</td>\n",
       "      <td>...</td>\n",
       "      <td>...</td>\n",
       "      <td>...</td>\n",
       "      <td>...</td>\n",
       "      <td>...</td>\n",
       "      <td>...</td>\n",
       "      <td>...</td>\n",
       "      <td>...</td>\n",
       "    </tr>\n",
       "    <tr>\n",
       "      <th>110186</th>\n",
       "      <td>32200001</td>\n",
       "      <td>1629627</td>\n",
       "      <td>Zion</td>\n",
       "      <td>Williamson</td>\n",
       "      <td>1</td>\n",
       "      <td>1610616834</td>\n",
       "      <td>Team</td>\n",
       "      <td>LeBron</td>\n",
       "      <td>LBN</td>\n",
       "    </tr>\n",
       "    <tr>\n",
       "      <th>110187</th>\n",
       "      <td>32200001</td>\n",
       "      <td>201939</td>\n",
       "      <td>Stephen</td>\n",
       "      <td>Curry</td>\n",
       "      <td>30</td>\n",
       "      <td>1610616834</td>\n",
       "      <td>Team</td>\n",
       "      <td>LeBron</td>\n",
       "      <td>LBN</td>\n",
       "    </tr>\n",
       "    <tr>\n",
       "      <th>110188</th>\n",
       "      <td>32200001</td>\n",
       "      <td>201142</td>\n",
       "      <td>Kevin</td>\n",
       "      <td>Durant</td>\n",
       "      <td>35</td>\n",
       "      <td>1610616833</td>\n",
       "      <td>Team</td>\n",
       "      <td>Giannis</td>\n",
       "      <td>GNS</td>\n",
       "    </tr>\n",
       "    <tr>\n",
       "      <th>110189</th>\n",
       "      <td>32200001</td>\n",
       "      <td>1629627</td>\n",
       "      <td>Zion</td>\n",
       "      <td>Williamson</td>\n",
       "      <td>1</td>\n",
       "      <td>1610616834</td>\n",
       "      <td>Team</td>\n",
       "      <td>LeBron</td>\n",
       "      <td>LBN</td>\n",
       "    </tr>\n",
       "    <tr>\n",
       "      <th>110190</th>\n",
       "      <td>32200001</td>\n",
       "      <td>201939</td>\n",
       "      <td>Stephen</td>\n",
       "      <td>Curry</td>\n",
       "      <td>30</td>\n",
       "      <td>1610616834</td>\n",
       "      <td>Team</td>\n",
       "      <td>LeBron</td>\n",
       "      <td>LBN</td>\n",
       "    </tr>\n",
       "  </tbody>\n",
       "</table>\n",
       "<p>110190 rows × 9 columns</p>\n",
       "</div>"
      ],
      "text/plain": [
       "         game_id  player_id first_name   last_name  jersey_num     team_id  \\\n",
       "0       29600034        184      Bobby      Phills          14  1610612739   \n",
       "1       29600034        781       Will      Perdue          41  1610612759   \n",
       "2       29600132        120     Steven       Smith           8  1610612737   \n",
       "3       29600203        698      Eddie     Johnson           8  1610612754   \n",
       "4       29600213         32   Clifford      Rozier          44  1610612753   \n",
       "...          ...        ...        ...         ...         ...         ...   \n",
       "110186  32200001    1629627       Zion  Williamson           1  1610616834   \n",
       "110187  32200001     201939    Stephen       Curry          30  1610616834   \n",
       "110188  32200001     201142      Kevin      Durant          35  1610616833   \n",
       "110189  32200001    1629627       Zion  Williamson           1  1610616834   \n",
       "110190  32200001     201939    Stephen       Curry          30  1610616834   \n",
       "\n",
       "          team_city  team_name team_abbreviation  \n",
       "0         Cleveland  Cavaliers               CLE  \n",
       "1       San Antonio      Spurs               SAS  \n",
       "2           Atlanta      Hawks               ATL  \n",
       "3           Indiana     Pacers               IND  \n",
       "4           Orlando      Magic               ORL  \n",
       "...             ...        ...               ...  \n",
       "110186         Team     LeBron               LBN  \n",
       "110187         Team     LeBron               LBN  \n",
       "110188         Team    Giannis               GNS  \n",
       "110189         Team     LeBron               LBN  \n",
       "110190         Team     LeBron               LBN  \n",
       "\n",
       "[110190 rows x 9 columns]"
      ]
     },
     "execution_count": 20,
     "metadata": {},
     "output_type": "execute_result"
    }
   ],
   "source": [
    "df_inactive"
   ]
  },
  {
   "cell_type": "markdown",
   "id": "11f17967",
   "metadata": {},
   "source": [
    "EXPORTE EL DOCUMENTO CON LA LIMPIEZA REALIZADA"
   ]
  },
  {
   "cell_type": "code",
   "execution_count": 21,
   "id": "6452adf9",
   "metadata": {},
   "outputs": [
    {
     "name": "stdout",
     "output_type": "stream",
     "text": [
      "✅ Archivo exportado correctamente como inactive_players_limpio.csv\n"
     ]
    }
   ],
   "source": [
    "# 📌 Exportar el DataFrame limpio a CSV\n",
    "df_inactive.to_csv(\n",
    "    r\"C:\\Users\\User\\OneDrive\\Documentos\\proyecto_final\\data_en_csv\\inactive_players_limpio.csv\",\n",
    "    index=False)\n",
    "\n",
    "print(\"✅ Archivo exportado correctamente como inactive_players_limpio.csv\")"
   ]
  }
 ],
 "metadata": {
  "kernelspec": {
   "display_name": "Python 3",
   "language": "python",
   "name": "python3"
  },
  "language_info": {
   "codemirror_mode": {
    "name": "ipython",
    "version": 3
   },
   "file_extension": ".py",
   "mimetype": "text/x-python",
   "name": "python",
   "nbconvert_exporter": "python",
   "pygments_lexer": "ipython3",
   "version": "3.13.5"
  }
 },
 "nbformat": 4,
 "nbformat_minor": 5
}
