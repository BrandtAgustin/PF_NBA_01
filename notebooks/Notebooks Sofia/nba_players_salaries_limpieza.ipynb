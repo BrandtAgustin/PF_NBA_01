{
 "cells": [
  {
   "cell_type": "markdown",
   "id": "2e2b31c5",
   "metadata": {},
   "source": [
    "LIMPIEZA DE nba_player_salaries.csv"
   ]
  },
  {
   "cell_type": "markdown",
   "id": "b9cba56e",
   "metadata": {},
   "source": [
    "1- IMPORTAR LIBRERIAS, CARGAR CSV, LEER LAS COLUMNAS"
   ]
  },
  {
   "cell_type": "code",
   "execution_count": 2,
   "id": "8210b9a3",
   "metadata": {},
   "outputs": [
    {
     "data": {
      "application/vnd.microsoft.datawrangler.viewer.v0+json": {
       "columns": [
        {
         "name": "index",
         "rawType": "int64",
         "type": "integer"
        },
        {
         "name": "Player Id",
         "rawType": "int64",
         "type": "integer"
        },
        {
         "name": "Player Name",
         "rawType": "object",
         "type": "string"
        },
        {
         "name": "2022/2023",
         "rawType": "object",
         "type": "string"
        },
        {
         "name": "2023/2024",
         "rawType": "object",
         "type": "string"
        },
        {
         "name": "2024/2025",
         "rawType": "object",
         "type": "string"
        },
        {
         "name": "2024/2025.1",
         "rawType": "object",
         "type": "string"
        }
       ],
       "ref": "f5087886-f074-480c-aef3-43622947518b",
       "rows": [
        [
         "0",
         "1",
         "Stephen Curry",
         "$48,070,014 ",
         "$51,915,615 ",
         "$55,761,217 ",
         "$59,606,817 "
        ],
        [
         "1",
         "2",
         "John Wall",
         "$47,345,760 ",
         "$0 ",
         "$0 ",
         "$0 "
        ],
        [
         "2",
         "3",
         "Russell Westbrook",
         "$47,080,179 ",
         "$0 ",
         "$0 ",
         "$0 "
        ],
        [
         "3",
         "4",
         "LeBron James",
         "$44,474,988 ",
         "$46,698,737 ",
         "$50,434,636 ",
         "$0 "
        ],
        [
         "4",
         "5",
         "Kevin Durant",
         "$44,119,845 ",
         "$47,649,433 ",
         "$51,179,020 ",
         "$54,708,608 "
        ]
       ],
       "shape": {
        "columns": 6,
        "rows": 5
       }
      },
      "text/html": [
       "<div>\n",
       "<style scoped>\n",
       "    .dataframe tbody tr th:only-of-type {\n",
       "        vertical-align: middle;\n",
       "    }\n",
       "\n",
       "    .dataframe tbody tr th {\n",
       "        vertical-align: top;\n",
       "    }\n",
       "\n",
       "    .dataframe thead th {\n",
       "        text-align: right;\n",
       "    }\n",
       "</style>\n",
       "<table border=\"1\" class=\"dataframe\">\n",
       "  <thead>\n",
       "    <tr style=\"text-align: right;\">\n",
       "      <th></th>\n",
       "      <th>Player Id</th>\n",
       "      <th>Player Name</th>\n",
       "      <th>2022/2023</th>\n",
       "      <th>2023/2024</th>\n",
       "      <th>2024/2025</th>\n",
       "      <th>2024/2025.1</th>\n",
       "    </tr>\n",
       "  </thead>\n",
       "  <tbody>\n",
       "    <tr>\n",
       "      <th>0</th>\n",
       "      <td>1</td>\n",
       "      <td>Stephen Curry</td>\n",
       "      <td>$48,070,014</td>\n",
       "      <td>$51,915,615</td>\n",
       "      <td>$55,761,217</td>\n",
       "      <td>$59,606,817</td>\n",
       "    </tr>\n",
       "    <tr>\n",
       "      <th>1</th>\n",
       "      <td>2</td>\n",
       "      <td>John Wall</td>\n",
       "      <td>$47,345,760</td>\n",
       "      <td>$0</td>\n",
       "      <td>$0</td>\n",
       "      <td>$0</td>\n",
       "    </tr>\n",
       "    <tr>\n",
       "      <th>2</th>\n",
       "      <td>3</td>\n",
       "      <td>Russell Westbrook</td>\n",
       "      <td>$47,080,179</td>\n",
       "      <td>$0</td>\n",
       "      <td>$0</td>\n",
       "      <td>$0</td>\n",
       "    </tr>\n",
       "    <tr>\n",
       "      <th>3</th>\n",
       "      <td>4</td>\n",
       "      <td>LeBron James</td>\n",
       "      <td>$44,474,988</td>\n",
       "      <td>$46,698,737</td>\n",
       "      <td>$50,434,636</td>\n",
       "      <td>$0</td>\n",
       "    </tr>\n",
       "    <tr>\n",
       "      <th>4</th>\n",
       "      <td>5</td>\n",
       "      <td>Kevin Durant</td>\n",
       "      <td>$44,119,845</td>\n",
       "      <td>$47,649,433</td>\n",
       "      <td>$51,179,020</td>\n",
       "      <td>$54,708,608</td>\n",
       "    </tr>\n",
       "  </tbody>\n",
       "</table>\n",
       "</div>"
      ],
      "text/plain": [
       "   Player Id        Player Name     2022/2023     2023/2024     2024/2025  \\\n",
       "0          1      Stephen Curry  $48,070,014   $51,915,615   $55,761,217    \n",
       "1          2          John Wall  $47,345,760            $0            $0    \n",
       "2          3  Russell Westbrook  $47,080,179            $0            $0    \n",
       "3          4       LeBron James  $44,474,988   $46,698,737   $50,434,636    \n",
       "4          5       Kevin Durant  $44,119,845   $47,649,433   $51,179,020    \n",
       "\n",
       "    2024/2025.1  \n",
       "0  $59,606,817   \n",
       "1           $0   \n",
       "2           $0   \n",
       "3           $0   \n",
       "4  $54,708,608   "
      ]
     },
     "execution_count": 2,
     "metadata": {},
     "output_type": "execute_result"
    }
   ],
   "source": [
    "# 📌 Importamos las librerías necesarias\n",
    "import pandas as pd\n",
    "import numpy as np\n",
    "import matplotlib.pyplot as plt\n",
    "import seaborn as sns\n",
    "\n",
    "# 📌 Ruta del archivo CSV\n",
    "ruta = r\"C:\\Users\\User\\OneDrive\\Documentos\\proyecto_final\\data_en_csv\\madre\\nba_player_salaries.csv\"\n",
    "\n",
    "# 📌 Cargamos el CSV\n",
    "df = pd.read_csv(ruta)\n",
    "\n",
    "# 📌 Mostramos las primeras filas para confirmar la carga\n",
    "df.head()"
   ]
  },
  {
   "cell_type": "markdown",
   "id": "11b6b790",
   "metadata": {},
   "source": [
    "2- RENOMBRAR COLUMNAS"
   ]
  },
  {
   "cell_type": "code",
   "execution_count": 3,
   "id": "04f035fb",
   "metadata": {},
   "outputs": [
    {
     "name": "stdout",
     "output_type": "stream",
     "text": [
      "Nombres de columnas finales:\n",
      "['player_id', 'player_name', '2022', '2023', '2024', '2025']\n"
     ]
    }
   ],
   "source": [
    "# 📌 Renombrar columnas automáticamente (limpieza general)\n",
    "df.columns = df.columns.str.strip().str.lower().str.replace(' ', '_').str.replace(r'[^\\w\\s]', '', regex=True)\n",
    "\n",
    "# 📌 Reasignamos manualmente las columnas de años\n",
    "df = df.rename(columns={\n",
    "    '20222023': '2022',\n",
    "    '20232024': '2023',\n",
    "    '20242025': '2024',\n",
    "    '202420251': '2025'})\n",
    "\n",
    "# 📌 Verificamos los nombres actualizados\n",
    "print(\"Nombres de columnas finales:\")\n",
    "print(df.columns.tolist())"
   ]
  },
  {
   "cell_type": "markdown",
   "id": "dc97e805",
   "metadata": {},
   "source": [
    "3- VER ESTRUCTURA GENERAL DEL DOCUMENTO"
   ]
  },
  {
   "cell_type": "code",
   "execution_count": 4,
   "id": "37947ed1",
   "metadata": {},
   "outputs": [
    {
     "name": "stdout",
     "output_type": "stream",
     "text": [
      "<class 'pandas.core.frame.DataFrame'>\n",
      "RangeIndex: 574 entries, 0 to 573\n",
      "Data columns (total 6 columns):\n",
      " #   Column       Non-Null Count  Dtype \n",
      "---  ------       --------------  ----- \n",
      " 0   player_id    574 non-null    int64 \n",
      " 1   player_name  574 non-null    object\n",
      " 2   2022         574 non-null    object\n",
      " 3   2023         574 non-null    object\n",
      " 4   2024         574 non-null    object\n",
      " 5   2025         574 non-null    object\n",
      "dtypes: int64(1), object(5)\n",
      "memory usage: 27.0+ KB\n"
     ]
    }
   ],
   "source": [
    "# 📌 Estructura general del DataFrame\n",
    "df.info()"
   ]
  },
  {
   "cell_type": "code",
   "execution_count": 5,
   "id": "b551ffe3",
   "metadata": {},
   "outputs": [
    {
     "name": "stdout",
     "output_type": "stream",
     "text": [
      "<class 'pandas.core.frame.DataFrame'>\n",
      "RangeIndex: 574 entries, 0 to 573\n",
      "Data columns (total 6 columns):\n",
      " #   Column       Non-Null Count  Dtype \n",
      "---  ------       --------------  ----- \n",
      " 0   player_id    574 non-null    int64 \n",
      " 1   player_name  574 non-null    object\n",
      " 2   2022         574 non-null    int64 \n",
      " 3   2023         574 non-null    int64 \n",
      " 4   2024         574 non-null    int64 \n",
      " 5   2025         574 non-null    int64 \n",
      "dtypes: int64(5), object(1)\n",
      "memory usage: 27.0+ KB\n"
     ]
    },
    {
     "name": "stderr",
     "output_type": "stream",
     "text": [
      "<>:6: SyntaxWarning: invalid escape sequence '\\$'\n",
      "<>:6: SyntaxWarning: invalid escape sequence '\\$'\n",
      "C:\\Users\\User\\AppData\\Local\\Temp\\ipykernel_19392\\3142165428.py:6: SyntaxWarning: invalid escape sequence '\\$'\n",
      "  df[col] = df[col].replace('[\\$,]', '', regex=True)  # Elimina $ y ,\n"
     ]
    }
   ],
   "source": [
    "# 📌 Definimos las columnas de años a limpiar\n",
    "columnas_salario = ['2022', '2023', '2024', '2025']\n",
    "\n",
    "# 📌 Recorremos cada columna para eliminar \"$\", \",\" y convertir a numérico\n",
    "for col in columnas_salario:\n",
    "    df[col] = df[col].replace('[\\$,]', '', regex=True)  # Elimina $ y ,\n",
    "    df[col] = pd.to_numeric(df[col], errors='coerce')   # Convierte a float, NaN si no puede\n",
    "\n",
    "# 📌 Verificamos nuevamente los tipos de datos\n",
    "df.info()"
   ]
  },
  {
   "cell_type": "code",
   "execution_count": 6,
   "id": "7ab54519",
   "metadata": {},
   "outputs": [
    {
     "data": {
      "application/vnd.microsoft.datawrangler.viewer.v0+json": {
       "columns": [
        {
         "name": "index",
         "rawType": "int64",
         "type": "integer"
        },
        {
         "name": "player_id",
         "rawType": "int64",
         "type": "integer"
        },
        {
         "name": "player_name",
         "rawType": "object",
         "type": "string"
        },
        {
         "name": "2022",
         "rawType": "int64",
         "type": "integer"
        },
        {
         "name": "2023",
         "rawType": "int64",
         "type": "integer"
        },
        {
         "name": "2024",
         "rawType": "int64",
         "type": "integer"
        },
        {
         "name": "2025",
         "rawType": "int64",
         "type": "integer"
        }
       ],
       "ref": "4061f6ae-91fb-4df4-b169-891c02409c14",
       "rows": [
        [
         "0",
         "1",
         "Stephen Curry",
         "48070014",
         "51915615",
         "55761217",
         "59606817"
        ],
        [
         "1",
         "2",
         "John Wall",
         "47345760",
         "0",
         "0",
         "0"
        ],
        [
         "2",
         "3",
         "Russell Westbrook",
         "47080179",
         "0",
         "0",
         "0"
        ],
        [
         "3",
         "4",
         "LeBron James",
         "44474988",
         "46698737",
         "50434636",
         "0"
        ],
        [
         "4",
         "5",
         "Kevin Durant",
         "44119845",
         "47649433",
         "51179020",
         "54708608"
        ]
       ],
       "shape": {
        "columns": 6,
        "rows": 5
       }
      },
      "text/html": [
       "<div>\n",
       "<style scoped>\n",
       "    .dataframe tbody tr th:only-of-type {\n",
       "        vertical-align: middle;\n",
       "    }\n",
       "\n",
       "    .dataframe tbody tr th {\n",
       "        vertical-align: top;\n",
       "    }\n",
       "\n",
       "    .dataframe thead th {\n",
       "        text-align: right;\n",
       "    }\n",
       "</style>\n",
       "<table border=\"1\" class=\"dataframe\">\n",
       "  <thead>\n",
       "    <tr style=\"text-align: right;\">\n",
       "      <th></th>\n",
       "      <th>player_id</th>\n",
       "      <th>player_name</th>\n",
       "      <th>2022</th>\n",
       "      <th>2023</th>\n",
       "      <th>2024</th>\n",
       "      <th>2025</th>\n",
       "    </tr>\n",
       "  </thead>\n",
       "  <tbody>\n",
       "    <tr>\n",
       "      <th>0</th>\n",
       "      <td>1</td>\n",
       "      <td>Stephen Curry</td>\n",
       "      <td>48070014</td>\n",
       "      <td>51915615</td>\n",
       "      <td>55761217</td>\n",
       "      <td>59606817</td>\n",
       "    </tr>\n",
       "    <tr>\n",
       "      <th>1</th>\n",
       "      <td>2</td>\n",
       "      <td>John Wall</td>\n",
       "      <td>47345760</td>\n",
       "      <td>0</td>\n",
       "      <td>0</td>\n",
       "      <td>0</td>\n",
       "    </tr>\n",
       "    <tr>\n",
       "      <th>2</th>\n",
       "      <td>3</td>\n",
       "      <td>Russell Westbrook</td>\n",
       "      <td>47080179</td>\n",
       "      <td>0</td>\n",
       "      <td>0</td>\n",
       "      <td>0</td>\n",
       "    </tr>\n",
       "    <tr>\n",
       "      <th>3</th>\n",
       "      <td>4</td>\n",
       "      <td>LeBron James</td>\n",
       "      <td>44474988</td>\n",
       "      <td>46698737</td>\n",
       "      <td>50434636</td>\n",
       "      <td>0</td>\n",
       "    </tr>\n",
       "    <tr>\n",
       "      <th>4</th>\n",
       "      <td>5</td>\n",
       "      <td>Kevin Durant</td>\n",
       "      <td>44119845</td>\n",
       "      <td>47649433</td>\n",
       "      <td>51179020</td>\n",
       "      <td>54708608</td>\n",
       "    </tr>\n",
       "  </tbody>\n",
       "</table>\n",
       "</div>"
      ],
      "text/plain": [
       "   player_id        player_name      2022      2023      2024      2025\n",
       "0          1      Stephen Curry  48070014  51915615  55761217  59606817\n",
       "1          2          John Wall  47345760         0         0         0\n",
       "2          3  Russell Westbrook  47080179         0         0         0\n",
       "3          4       LeBron James  44474988  46698737  50434636         0\n",
       "4          5       Kevin Durant  44119845  47649433  51179020  54708608"
      ]
     },
     "execution_count": 6,
     "metadata": {},
     "output_type": "execute_result"
    }
   ],
   "source": [
    "df.head()"
   ]
  },
  {
   "cell_type": "markdown",
   "id": "b8bcbb70",
   "metadata": {},
   "source": [
    "- VERIFICAMOS SI HAY NOMBRES DUPLICADOS EN LA COLUMNA DE PLAYER_NAME"
   ]
  },
  {
   "cell_type": "code",
   "execution_count": 7,
   "id": "39f98f13",
   "metadata": {},
   "outputs": [
    {
     "data": {
      "application/vnd.microsoft.datawrangler.viewer.v0+json": {
       "columns": [
        {
         "name": "index",
         "rawType": "int64",
         "type": "integer"
        },
        {
         "name": "player_id",
         "rawType": "int64",
         "type": "integer"
        },
        {
         "name": "player_name",
         "rawType": "object",
         "type": "string"
        },
        {
         "name": "2022",
         "rawType": "int64",
         "type": "integer"
        },
        {
         "name": "2023",
         "rawType": "int64",
         "type": "integer"
        },
        {
         "name": "2024",
         "rawType": "int64",
         "type": "integer"
        },
        {
         "name": "2025",
         "rawType": "int64",
         "type": "integer"
        }
       ],
       "ref": "8d736b3e-5d2b-404a-93be-fae3f0f28109",
       "rows": [],
       "shape": {
        "columns": 6,
        "rows": 0
       }
      },
      "text/html": [
       "<div>\n",
       "<style scoped>\n",
       "    .dataframe tbody tr th:only-of-type {\n",
       "        vertical-align: middle;\n",
       "    }\n",
       "\n",
       "    .dataframe tbody tr th {\n",
       "        vertical-align: top;\n",
       "    }\n",
       "\n",
       "    .dataframe thead th {\n",
       "        text-align: right;\n",
       "    }\n",
       "</style>\n",
       "<table border=\"1\" class=\"dataframe\">\n",
       "  <thead>\n",
       "    <tr style=\"text-align: right;\">\n",
       "      <th></th>\n",
       "      <th>player_id</th>\n",
       "      <th>player_name</th>\n",
       "      <th>2022</th>\n",
       "      <th>2023</th>\n",
       "      <th>2024</th>\n",
       "      <th>2025</th>\n",
       "    </tr>\n",
       "  </thead>\n",
       "  <tbody>\n",
       "  </tbody>\n",
       "</table>\n",
       "</div>"
      ],
      "text/plain": [
       "Empty DataFrame\n",
       "Columns: [player_id, player_name, 2022, 2023, 2024, 2025]\n",
       "Index: []"
      ]
     },
     "execution_count": 7,
     "metadata": {},
     "output_type": "execute_result"
    }
   ],
   "source": [
    "# 📌 Verificamos si hay duplicados exactos en la columna player_name\n",
    "duplicados = df[df.duplicated(subset='player_name', keep=False)]\n",
    "\n",
    "# 📌 Mostramos los duplicados (si hay)\n",
    "duplicados"
   ]
  },
  {
   "cell_type": "markdown",
   "id": "d1ae759f",
   "metadata": {},
   "source": [
    "- UNIFICAMOS EL NOMBRE DE LOS JUGADORES CON MINUSCULA Y ELIMINAMOS ESPACIO ENTRE PALABRAS"
   ]
  },
  {
   "cell_type": "code",
   "execution_count": 8,
   "id": "3d1c9ad7",
   "metadata": {},
   "outputs": [
    {
     "data": {
      "application/vnd.microsoft.datawrangler.viewer.v0+json": {
       "columns": [
        {
         "name": "index",
         "rawType": "int64",
         "type": "integer"
        },
        {
         "name": "player_name",
         "rawType": "object",
         "type": "string"
        }
       ],
       "ref": "29aaa61f-366d-422f-84c6-648fcb69abe5",
       "rows": [
        [
         "0",
         "stephen_curry"
        ],
        [
         "1",
         "john_wall"
        ],
        [
         "2",
         "russell_westbrook"
        ],
        [
         "3",
         "lebron_james"
        ],
        [
         "4",
         "kevin_durant"
        ]
       ],
       "shape": {
        "columns": 1,
        "rows": 5
       }
      },
      "text/plain": [
       "0        stephen_curry\n",
       "1            john_wall\n",
       "2    russell_westbrook\n",
       "3         lebron_james\n",
       "4         kevin_durant\n",
       "Name: player_name, dtype: object"
      ]
     },
     "execution_count": 8,
     "metadata": {},
     "output_type": "execute_result"
    }
   ],
   "source": [
    "# 📌 Estandarizamos los nombres de los jugadores\n",
    "df['player_name'] = df['player_name'].str.strip().str.lower().str.replace(' ', '_')\n",
    "\n",
    "# 📌 Verificamos los primeros valores\n",
    "df['player_name'].head()"
   ]
  },
  {
   "cell_type": "markdown",
   "id": "33b61fbb",
   "metadata": {},
   "source": [
    "- VERIFICAMOS Y UNIFICAMOS QUE LOS NUMEROS DE LOS JUGADORES SEAN CORRELATIVOS"
   ]
  },
  {
   "cell_type": "code",
   "execution_count": 9,
   "id": "ff85d77a",
   "metadata": {},
   "outputs": [
    {
     "data": {
      "application/vnd.microsoft.datawrangler.viewer.v0+json": {
       "columns": [
        {
         "name": "index",
         "rawType": "int64",
         "type": "integer"
        },
        {
         "name": "player_id",
         "rawType": "int64",
         "type": "integer"
        },
        {
         "name": "player_name",
         "rawType": "object",
         "type": "string"
        }
       ],
       "ref": "2afce35b-c05c-4349-b216-03c0c4813265",
       "rows": [
        [
         "0",
         "1",
         "stephen_curry"
        ],
        [
         "1",
         "2",
         "john_wall"
        ],
        [
         "2",
         "3",
         "russell_westbrook"
        ],
        [
         "3",
         "4",
         "lebron_james"
        ],
        [
         "4",
         "5",
         "kevin_durant"
        ]
       ],
       "shape": {
        "columns": 2,
        "rows": 5
       }
      },
      "text/html": [
       "<div>\n",
       "<style scoped>\n",
       "    .dataframe tbody tr th:only-of-type {\n",
       "        vertical-align: middle;\n",
       "    }\n",
       "\n",
       "    .dataframe tbody tr th {\n",
       "        vertical-align: top;\n",
       "    }\n",
       "\n",
       "    .dataframe thead th {\n",
       "        text-align: right;\n",
       "    }\n",
       "</style>\n",
       "<table border=\"1\" class=\"dataframe\">\n",
       "  <thead>\n",
       "    <tr style=\"text-align: right;\">\n",
       "      <th></th>\n",
       "      <th>player_id</th>\n",
       "      <th>player_name</th>\n",
       "    </tr>\n",
       "  </thead>\n",
       "  <tbody>\n",
       "    <tr>\n",
       "      <th>0</th>\n",
       "      <td>1</td>\n",
       "      <td>stephen_curry</td>\n",
       "    </tr>\n",
       "    <tr>\n",
       "      <th>1</th>\n",
       "      <td>2</td>\n",
       "      <td>john_wall</td>\n",
       "    </tr>\n",
       "    <tr>\n",
       "      <th>2</th>\n",
       "      <td>3</td>\n",
       "      <td>russell_westbrook</td>\n",
       "    </tr>\n",
       "    <tr>\n",
       "      <th>3</th>\n",
       "      <td>4</td>\n",
       "      <td>lebron_james</td>\n",
       "    </tr>\n",
       "    <tr>\n",
       "      <th>4</th>\n",
       "      <td>5</td>\n",
       "      <td>kevin_durant</td>\n",
       "    </tr>\n",
       "  </tbody>\n",
       "</table>\n",
       "</div>"
      ],
      "text/plain": [
       "   player_id        player_name\n",
       "0          1      stephen_curry\n",
       "1          2          john_wall\n",
       "2          3  russell_westbrook\n",
       "3          4       lebron_james\n",
       "4          5       kevin_durant"
      ]
     },
     "execution_count": 9,
     "metadata": {},
     "output_type": "execute_result"
    }
   ],
   "source": [
    "# 📌 Reasignamos player_id con una numeración correlativa desde 1\n",
    "df['player_id'] = range(1, len(df) + 1)\n",
    "\n",
    "# 📌 Verificamos los primeros valores\n",
    "df[['player_id', 'player_name']].head()"
   ]
  },
  {
   "cell_type": "markdown",
   "id": "58463793",
   "metadata": {},
   "source": [
    "- VERIFICAMOS SI ES QUE HAY VALORES NULOS"
   ]
  },
  {
   "cell_type": "code",
   "execution_count": 10,
   "id": "f40036ea",
   "metadata": {},
   "outputs": [
    {
     "data": {
      "application/vnd.microsoft.datawrangler.viewer.v0+json": {
       "columns": [
        {
         "name": "index",
         "rawType": "object",
         "type": "string"
        },
        {
         "name": "0",
         "rawType": "int64",
         "type": "integer"
        }
       ],
       "ref": "c3364866-39fd-4b8f-a9a8-60932a48fe8e",
       "rows": [],
       "shape": {
        "columns": 1,
        "rows": 0
       }
      },
      "text/plain": [
       "Series([], dtype: int64)"
      ]
     },
     "execution_count": 10,
     "metadata": {},
     "output_type": "execute_result"
    }
   ],
   "source": [
    "# 📌 Contamos valores nulos por columna\n",
    "nulos = df.isnull().sum()\n",
    "\n",
    "# 📌 Mostramos solo las columnas que tienen al menos un nulo\n",
    "nulos[nulos > 0]"
   ]
  },
  {
   "cell_type": "markdown",
   "id": "ded6eb2b",
   "metadata": {},
   "source": [
    "- VERIFICAMOS CUANTAS FILAS TIENE 0 EN LOS ANOS"
   ]
  },
  {
   "cell_type": "code",
   "execution_count": 11,
   "id": "451e5754",
   "metadata": {},
   "outputs": [
    {
     "data": {
      "application/vnd.microsoft.datawrangler.viewer.v0+json": {
       "columns": [
        {
         "name": "index",
         "rawType": "object",
         "type": "string"
        },
        {
         "name": "cantidad_de_ceros",
         "rawType": "int64",
         "type": "integer"
        }
       ],
       "ref": "bf08c7ca-5791-4cbf-9ff1-ba5c52e3e140",
       "rows": [
        [
         "2022",
         "0"
        ],
        [
         "2023",
         "165"
        ],
        [
         "2024",
         "343"
        ],
        [
         "2025",
         "439"
        ]
       ],
       "shape": {
        "columns": 1,
        "rows": 4
       }
      },
      "text/html": [
       "<div>\n",
       "<style scoped>\n",
       "    .dataframe tbody tr th:only-of-type {\n",
       "        vertical-align: middle;\n",
       "    }\n",
       "\n",
       "    .dataframe tbody tr th {\n",
       "        vertical-align: top;\n",
       "    }\n",
       "\n",
       "    .dataframe thead th {\n",
       "        text-align: right;\n",
       "    }\n",
       "</style>\n",
       "<table border=\"1\" class=\"dataframe\">\n",
       "  <thead>\n",
       "    <tr style=\"text-align: right;\">\n",
       "      <th></th>\n",
       "      <th>cantidad_de_ceros</th>\n",
       "    </tr>\n",
       "  </thead>\n",
       "  <tbody>\n",
       "    <tr>\n",
       "      <th>2022</th>\n",
       "      <td>0</td>\n",
       "    </tr>\n",
       "    <tr>\n",
       "      <th>2023</th>\n",
       "      <td>165</td>\n",
       "    </tr>\n",
       "    <tr>\n",
       "      <th>2024</th>\n",
       "      <td>343</td>\n",
       "    </tr>\n",
       "    <tr>\n",
       "      <th>2025</th>\n",
       "      <td>439</td>\n",
       "    </tr>\n",
       "  </tbody>\n",
       "</table>\n",
       "</div>"
      ],
      "text/plain": [
       "      cantidad_de_ceros\n",
       "2022                  0\n",
       "2023                165\n",
       "2024                343\n",
       "2025                439"
      ]
     },
     "execution_count": 11,
     "metadata": {},
     "output_type": "execute_result"
    }
   ],
   "source": [
    "# 📌 Definimos las columnas de los años\n",
    "columnas_salario = ['2022', '2023', '2024', '2025']\n",
    "\n",
    "# 📌 Creamos un diccionario con la cantidad de ceros por columna\n",
    "ceros_por_columna = {col: (df[col] == 0).sum() for col in columnas_salario}\n",
    "\n",
    "# 📌 Mostramos el resultado como un DataFrame\n",
    "pd.DataFrame.from_dict(ceros_por_columna, orient='index', columns=['cantidad_de_ceros'])"
   ]
  },
  {
   "cell_type": "markdown",
   "id": "c961d687",
   "metadata": {},
   "source": [
    "- IDENTIFICAR CUANTOS JUGADORES TIENE SALARIO EN CADA ANO"
   ]
  },
  {
   "cell_type": "code",
   "execution_count": 12,
   "id": "630b2cba",
   "metadata": {},
   "outputs": [
    {
     "data": {
      "application/vnd.microsoft.datawrangler.viewer.v0+json": {
       "columns": [
        {
         "name": "index",
         "rawType": "object",
         "type": "string"
        },
        {
         "name": "jugadores_con_salario",
         "rawType": "int64",
         "type": "integer"
        },
        {
         "name": "jugadores_sin_salario",
         "rawType": "int64",
         "type": "integer"
        }
       ],
       "ref": "d44bfdae-a4c6-4788-abdf-d69442aa2146",
       "rows": [
        [
         "2022",
         "574",
         "0"
        ],
        [
         "2023",
         "409",
         "165"
        ],
        [
         "2024",
         "231",
         "343"
        ],
        [
         "2025",
         "135",
         "439"
        ]
       ],
       "shape": {
        "columns": 2,
        "rows": 4
       }
      },
      "text/html": [
       "<div>\n",
       "<style scoped>\n",
       "    .dataframe tbody tr th:only-of-type {\n",
       "        vertical-align: middle;\n",
       "    }\n",
       "\n",
       "    .dataframe tbody tr th {\n",
       "        vertical-align: top;\n",
       "    }\n",
       "\n",
       "    .dataframe thead th {\n",
       "        text-align: right;\n",
       "    }\n",
       "</style>\n",
       "<table border=\"1\" class=\"dataframe\">\n",
       "  <thead>\n",
       "    <tr style=\"text-align: right;\">\n",
       "      <th></th>\n",
       "      <th>jugadores_con_salario</th>\n",
       "      <th>jugadores_sin_salario</th>\n",
       "    </tr>\n",
       "  </thead>\n",
       "  <tbody>\n",
       "    <tr>\n",
       "      <th>2022</th>\n",
       "      <td>574</td>\n",
       "      <td>0</td>\n",
       "    </tr>\n",
       "    <tr>\n",
       "      <th>2023</th>\n",
       "      <td>409</td>\n",
       "      <td>165</td>\n",
       "    </tr>\n",
       "    <tr>\n",
       "      <th>2024</th>\n",
       "      <td>231</td>\n",
       "      <td>343</td>\n",
       "    </tr>\n",
       "    <tr>\n",
       "      <th>2025</th>\n",
       "      <td>135</td>\n",
       "      <td>439</td>\n",
       "    </tr>\n",
       "  </tbody>\n",
       "</table>\n",
       "</div>"
      ],
      "text/plain": [
       "      jugadores_con_salario  jugadores_sin_salario\n",
       "2022                    574                      0\n",
       "2023                    409                    165\n",
       "2024                    231                    343\n",
       "2025                    135                    439"
      ]
     },
     "execution_count": 12,
     "metadata": {},
     "output_type": "execute_result"
    }
   ],
   "source": [
    "# 📌 Total de jugadores (por cantidad de filas)\n",
    "total_jugadores = len(df)\n",
    "\n",
    "# 📌 Creamos un resumen con jugadores con salario > 0 y jugadores con salario = 0\n",
    "resumen_salarios = {}\n",
    "\n",
    "for col in ['2022', '2023', '2024', '2025']:\n",
    "    jugadores_con_salario = (df[col] > 0).sum()\n",
    "    jugadores_sin_salario = total_jugadores - jugadores_con_salario\n",
    "    resumen_salarios[col] = {\n",
    "        'jugadores_con_salario': jugadores_con_salario,\n",
    "        'jugadores_sin_salario': jugadores_sin_salario}\n",
    "\n",
    "# 📌 Lo mostramos como DataFrame\n",
    "pd.DataFrame(resumen_salarios).T\n"
   ]
  },
  {
   "cell_type": "markdown",
   "id": "f6b9e3b6",
   "metadata": {},
   "source": [
    "- EXPORTAMOS EL CSV A EN UN NUEVO DATAFRAME"
   ]
  },
  {
   "cell_type": "code",
   "execution_count": 14,
   "id": "c4b95d6c",
   "metadata": {},
   "outputs": [],
   "source": [
    "# 📌 Exportamos el DataFrame limpio a un nuevo archivo CSV\n",
    "df.to_csv(\"nba_salaries_limpio.csv\", index=False)\n",
    "\n",
    "df.to_csv(r\"C:\\Users\\User\\OneDrive\\Documentos\\proyecto_final\\data_en_csv\\nba_salaries_limpio.csv\", index=False)"
   ]
  },
  {
   "cell_type": "markdown",
   "id": "b914f6f4",
   "metadata": {},
   "source": [
    "INICIAMOS EL EDA"
   ]
  },
  {
   "cell_type": "markdown",
   "id": "56cb256a",
   "metadata": {},
   "source": [
    "- DESCRIBE DE LOS DATOS >0"
   ]
  },
  {
   "cell_type": "code",
   "execution_count": 15,
   "id": "af1b6232",
   "metadata": {},
   "outputs": [
    {
     "data": {
      "application/vnd.microsoft.datawrangler.viewer.v0+json": {
       "columns": [
        {
         "name": "index",
         "rawType": "object",
         "type": "string"
        },
        {
         "name": "2022_activos",
         "rawType": "float64",
         "type": "float"
        },
        {
         "name": "2023_activos",
         "rawType": "float64",
         "type": "float"
        },
        {
         "name": "2024_activos",
         "rawType": "float64",
         "type": "float"
        },
        {
         "name": "2025_activos",
         "rawType": "float64",
         "type": "float"
        }
       ],
       "ref": "43e8ffaf-c9a1-494e-825c-2873033fe9d8",
       "rows": [
        [
         "count",
         "574.0",
         "409.0",
         "231.0",
         "135.0"
        ],
        [
         "mean",
         "7927815.324041812",
         "10358401.444987776",
         "13981629.354978355",
         "17354712.17037037"
        ],
        [
         "std",
         "10320430.191270469",
         "11642218.489506781",
         "13710733.941346424",
         "15575600.575365804"
        ],
        [
         "min",
         "5849.0",
         "92857.0",
         "268032.0",
         "268032.0"
        ],
        [
         "25%",
         "1566388.5",
         "1997238.0",
         "4227560.5",
         "6294178.0"
        ],
        [
         "50%",
         "3212075.5",
         "5539771.0",
         "8352367.0",
         "10850000.0"
        ],
        [
         "75%",
         "10012800.0",
         "13534817.0",
         "19016425.0",
         "24930000.5"
        ],
        [
         "max",
         "48070014.0",
         "51915615.0",
         "55761217.0",
         "59606817.0"
        ]
       ],
       "shape": {
        "columns": 4,
        "rows": 8
       }
      },
      "text/html": [
       "<div>\n",
       "<style scoped>\n",
       "    .dataframe tbody tr th:only-of-type {\n",
       "        vertical-align: middle;\n",
       "    }\n",
       "\n",
       "    .dataframe tbody tr th {\n",
       "        vertical-align: top;\n",
       "    }\n",
       "\n",
       "    .dataframe thead th {\n",
       "        text-align: right;\n",
       "    }\n",
       "</style>\n",
       "<table border=\"1\" class=\"dataframe\">\n",
       "  <thead>\n",
       "    <tr style=\"text-align: right;\">\n",
       "      <th></th>\n",
       "      <th>2022_activos</th>\n",
       "      <th>2023_activos</th>\n",
       "      <th>2024_activos</th>\n",
       "      <th>2025_activos</th>\n",
       "    </tr>\n",
       "  </thead>\n",
       "  <tbody>\n",
       "    <tr>\n",
       "      <th>count</th>\n",
       "      <td>5.740000e+02</td>\n",
       "      <td>4.090000e+02</td>\n",
       "      <td>2.310000e+02</td>\n",
       "      <td>1.350000e+02</td>\n",
       "    </tr>\n",
       "    <tr>\n",
       "      <th>mean</th>\n",
       "      <td>7.927815e+06</td>\n",
       "      <td>1.035840e+07</td>\n",
       "      <td>1.398163e+07</td>\n",
       "      <td>1.735471e+07</td>\n",
       "    </tr>\n",
       "    <tr>\n",
       "      <th>std</th>\n",
       "      <td>1.032043e+07</td>\n",
       "      <td>1.164222e+07</td>\n",
       "      <td>1.371073e+07</td>\n",
       "      <td>1.557560e+07</td>\n",
       "    </tr>\n",
       "    <tr>\n",
       "      <th>min</th>\n",
       "      <td>5.849000e+03</td>\n",
       "      <td>9.285700e+04</td>\n",
       "      <td>2.680320e+05</td>\n",
       "      <td>2.680320e+05</td>\n",
       "    </tr>\n",
       "    <tr>\n",
       "      <th>25%</th>\n",
       "      <td>1.566388e+06</td>\n",
       "      <td>1.997238e+06</td>\n",
       "      <td>4.227560e+06</td>\n",
       "      <td>6.294178e+06</td>\n",
       "    </tr>\n",
       "    <tr>\n",
       "      <th>50%</th>\n",
       "      <td>3.212076e+06</td>\n",
       "      <td>5.539771e+06</td>\n",
       "      <td>8.352367e+06</td>\n",
       "      <td>1.085000e+07</td>\n",
       "    </tr>\n",
       "    <tr>\n",
       "      <th>75%</th>\n",
       "      <td>1.001280e+07</td>\n",
       "      <td>1.353482e+07</td>\n",
       "      <td>1.901642e+07</td>\n",
       "      <td>2.493000e+07</td>\n",
       "    </tr>\n",
       "    <tr>\n",
       "      <th>max</th>\n",
       "      <td>4.807001e+07</td>\n",
       "      <td>5.191562e+07</td>\n",
       "      <td>5.576122e+07</td>\n",
       "      <td>5.960682e+07</td>\n",
       "    </tr>\n",
       "  </tbody>\n",
       "</table>\n",
       "</div>"
      ],
      "text/plain": [
       "       2022_activos  2023_activos  2024_activos  2025_activos\n",
       "count  5.740000e+02  4.090000e+02  2.310000e+02  1.350000e+02\n",
       "mean   7.927815e+06  1.035840e+07  1.398163e+07  1.735471e+07\n",
       "std    1.032043e+07  1.164222e+07  1.371073e+07  1.557560e+07\n",
       "min    5.849000e+03  9.285700e+04  2.680320e+05  2.680320e+05\n",
       "25%    1.566388e+06  1.997238e+06  4.227560e+06  6.294178e+06\n",
       "50%    3.212076e+06  5.539771e+06  8.352367e+06  1.085000e+07\n",
       "75%    1.001280e+07  1.353482e+07  1.901642e+07  2.493000e+07\n",
       "max    4.807001e+07  5.191562e+07  5.576122e+07  5.960682e+07"
      ]
     },
     "execution_count": 15,
     "metadata": {},
     "output_type": "execute_result"
    }
   ],
   "source": [
    "# 📌 Resumen con todos los jugadores\n",
    "resumen_completo = df[['2022', '2023', '2024', '2025']].describe()\n",
    "\n",
    "# 📌 Resumen SOLO de jugadores con salario > 0\n",
    "resumen_activos = df[df['2022'] > 0][['2022']].describe().rename(columns={'2022': '2022_activos'})\n",
    "resumen_activos['2023_activos'] = df[df['2023'] > 0]['2023'].describe()\n",
    "resumen_activos['2024_activos'] = df[df['2024'] > 0]['2024'].describe()\n",
    "resumen_activos['2025_activos'] = df[df['2025'] > 0]['2025'].describe()\n",
    "\n",
    "# 📌 Mostramos el resumen filtrado\n",
    "resumen_activos\n"
   ]
  },
  {
   "cell_type": "markdown",
   "id": "43457c48",
   "metadata": {},
   "source": [
    "- EXPORTAR ESTE DF COMO CSV"
   ]
  },
  {
   "cell_type": "code",
   "execution_count": 16,
   "id": "13d7641b",
   "metadata": {},
   "outputs": [],
   "source": [
    "# 📌 Exportamos el archivo a la carpeta definida\n",
    "ruta_export = r\"C:\\Users\\User\\OneDrive\\Documentos\\proyecto_final\\data_en_csv\\nba_salaries_describe_activos.csv\"\n",
    "resumen_activos.to_csv(ruta_export)"
   ]
  },
  {
   "cell_type": "markdown",
   "id": "5f51c527",
   "metadata": {},
   "source": [
    "- REVERTIMOS EL PASO DE COLOCAR _ EN LOS ESPACIOS ENTRE NOMBRE Y ADEMAS COLOCAMOS MAYUSCULA A LA PRIMER LETRA DE CADA PALABRA EN LA COLUMNA PLAYER_NAME"
   ]
  },
  {
   "cell_type": "code",
   "execution_count": 17,
   "id": "7d046397",
   "metadata": {},
   "outputs": [
    {
     "data": {
      "application/vnd.microsoft.datawrangler.viewer.v0+json": {
       "columns": [
        {
         "name": "index",
         "rawType": "int64",
         "type": "integer"
        },
        {
         "name": "player_id",
         "rawType": "int64",
         "type": "integer"
        },
        {
         "name": "player_name",
         "rawType": "object",
         "type": "string"
        }
       ],
       "ref": "ebff3364-4ea9-49e4-9777-748be35093c2",
       "rows": [
        [
         "0",
         "1",
         "Stephen Curry"
        ],
        [
         "1",
         "2",
         "John Wall"
        ],
        [
         "2",
         "3",
         "Russell Westbrook"
        ],
        [
         "3",
         "4",
         "Lebron James"
        ],
        [
         "4",
         "5",
         "Kevin Durant"
        ]
       ],
       "shape": {
        "columns": 2,
        "rows": 5
       }
      },
      "text/html": [
       "<div>\n",
       "<style scoped>\n",
       "    .dataframe tbody tr th:only-of-type {\n",
       "        vertical-align: middle;\n",
       "    }\n",
       "\n",
       "    .dataframe tbody tr th {\n",
       "        vertical-align: top;\n",
       "    }\n",
       "\n",
       "    .dataframe thead th {\n",
       "        text-align: right;\n",
       "    }\n",
       "</style>\n",
       "<table border=\"1\" class=\"dataframe\">\n",
       "  <thead>\n",
       "    <tr style=\"text-align: right;\">\n",
       "      <th></th>\n",
       "      <th>player_id</th>\n",
       "      <th>player_name</th>\n",
       "    </tr>\n",
       "  </thead>\n",
       "  <tbody>\n",
       "    <tr>\n",
       "      <th>0</th>\n",
       "      <td>1</td>\n",
       "      <td>Stephen Curry</td>\n",
       "    </tr>\n",
       "    <tr>\n",
       "      <th>1</th>\n",
       "      <td>2</td>\n",
       "      <td>John Wall</td>\n",
       "    </tr>\n",
       "    <tr>\n",
       "      <th>2</th>\n",
       "      <td>3</td>\n",
       "      <td>Russell Westbrook</td>\n",
       "    </tr>\n",
       "    <tr>\n",
       "      <th>3</th>\n",
       "      <td>4</td>\n",
       "      <td>Lebron James</td>\n",
       "    </tr>\n",
       "    <tr>\n",
       "      <th>4</th>\n",
       "      <td>5</td>\n",
       "      <td>Kevin Durant</td>\n",
       "    </tr>\n",
       "  </tbody>\n",
       "</table>\n",
       "</div>"
      ],
      "text/plain": [
       "   player_id        player_name\n",
       "0          1      Stephen Curry\n",
       "1          2          John Wall\n",
       "2          3  Russell Westbrook\n",
       "3          4       Lebron James\n",
       "4          5       Kevin Durant"
      ]
     },
     "execution_count": 17,
     "metadata": {},
     "output_type": "execute_result"
    }
   ],
   "source": [
    "# 📌 Revertimos el formato de los nombres: _ → espacio + capitalización por palabra\n",
    "df['player_name'] = df['player_name'].str.replace('_', ' ').str.title()\n",
    "\n",
    "# 📌 Verificamos el cambio\n",
    "df[['player_id', 'player_name']].head()\n"
   ]
  },
  {
   "cell_type": "code",
   "execution_count": 18,
   "id": "0ae443ce",
   "metadata": {},
   "outputs": [
    {
     "name": "stdout",
     "output_type": "stream",
     "text": [
      "<class 'pandas.core.frame.DataFrame'>\n",
      "RangeIndex: 574 entries, 0 to 573\n",
      "Data columns (total 6 columns):\n",
      " #   Column       Non-Null Count  Dtype \n",
      "---  ------       --------------  ----- \n",
      " 0   player_id    574 non-null    int64 \n",
      " 1   player_name  574 non-null    object\n",
      " 2   2022         574 non-null    int64 \n",
      " 3   2023         574 non-null    int64 \n",
      " 4   2024         574 non-null    int64 \n",
      " 5   2025         574 non-null    int64 \n",
      "dtypes: int64(5), object(1)\n",
      "memory usage: 27.0+ KB\n"
     ]
    }
   ],
   "source": [
    "df.info()"
   ]
  },
  {
   "cell_type": "markdown",
   "id": "eb668c36",
   "metadata": {},
   "source": [
    "- UNIFICAMOS LAS SIGLAS PARA QUE TENGAN PUNTO ENTRE LAS LETRAS  \"A.J.\""
   ]
  },
  {
   "cell_type": "code",
   "execution_count": 20,
   "id": "c1d5dab0",
   "metadata": {},
   "outputs": [
    {
     "data": {
      "application/vnd.microsoft.datawrangler.viewer.v0+json": {
       "columns": [
        {
         "name": "index",
         "rawType": "int64",
         "type": "integer"
        },
        {
         "name": "player_id",
         "rawType": "int64",
         "type": "integer"
        },
        {
         "name": "player_name",
         "rawType": "object",
         "type": "string"
        }
       ],
       "ref": "2028e03b-a1a7-4121-b6af-448f23ba24c4",
       "rows": [
        [
         "0",
         "1",
         "Stephen Curry"
        ],
        [
         "1",
         "2",
         "John Wall"
        ],
        [
         "2",
         "3",
         "Russell Westbrook"
        ],
        [
         "3",
         "4",
         "Lebron James"
        ],
        [
         "4",
         "5",
         "Kevin Durant"
        ]
       ],
       "shape": {
        "columns": 2,
        "rows": 5
       }
      },
      "text/html": [
       "<div>\n",
       "<style scoped>\n",
       "    .dataframe tbody tr th:only-of-type {\n",
       "        vertical-align: middle;\n",
       "    }\n",
       "\n",
       "    .dataframe tbody tr th {\n",
       "        vertical-align: top;\n",
       "    }\n",
       "\n",
       "    .dataframe thead th {\n",
       "        text-align: right;\n",
       "    }\n",
       "</style>\n",
       "<table border=\"1\" class=\"dataframe\">\n",
       "  <thead>\n",
       "    <tr style=\"text-align: right;\">\n",
       "      <th></th>\n",
       "      <th>player_id</th>\n",
       "      <th>player_name</th>\n",
       "    </tr>\n",
       "  </thead>\n",
       "  <tbody>\n",
       "    <tr>\n",
       "      <th>0</th>\n",
       "      <td>1</td>\n",
       "      <td>Stephen Curry</td>\n",
       "    </tr>\n",
       "    <tr>\n",
       "      <th>1</th>\n",
       "      <td>2</td>\n",
       "      <td>John Wall</td>\n",
       "    </tr>\n",
       "    <tr>\n",
       "      <th>2</th>\n",
       "      <td>3</td>\n",
       "      <td>Russell Westbrook</td>\n",
       "    </tr>\n",
       "    <tr>\n",
       "      <th>3</th>\n",
       "      <td>4</td>\n",
       "      <td>Lebron James</td>\n",
       "    </tr>\n",
       "    <tr>\n",
       "      <th>4</th>\n",
       "      <td>5</td>\n",
       "      <td>Kevin Durant</td>\n",
       "    </tr>\n",
       "  </tbody>\n",
       "</table>\n",
       "</div>"
      ],
      "text/plain": [
       "   player_id        player_name\n",
       "0          1      Stephen Curry\n",
       "1          2          John Wall\n",
       "2          3  Russell Westbrook\n",
       "3          4       Lebron James\n",
       "4          5       Kevin Durant"
      ]
     },
     "execution_count": 20,
     "metadata": {},
     "output_type": "execute_result"
    }
   ],
   "source": [
    "import re\n",
    "\n",
    "def insertar_puntos_en_iniciales(nombre):\n",
    "    # Busca patrones tipo \"Aj Griffin\", \"Jj Redick\", etc.\n",
    "    match = re.match(r\"^([A-Za-z])([A-Za-z])\\s\", nombre)\n",
    "    if match:\n",
    "        primera, segunda = match.groups()\n",
    "        nombre_corregido = nombre.replace(f\"{primera}{segunda} \", f\"{primera.upper()}.{segunda.upper()}. \", 1)\n",
    "        return nombre_corregido\n",
    "    return nombre\n",
    "\n",
    "# 📌 Aplicamos la corrección a la columna player_name\n",
    "df['player_name'] = df['player_name'].apply(insertar_puntos_en_iniciales)\n",
    "\n",
    "# 📌 Verificamos las primeras filas\n",
    "df[['player_id', 'player_name']].head()\n"
   ]
  },
  {
   "cell_type": "code",
   "execution_count": 22,
   "id": "26ec6e07",
   "metadata": {},
   "outputs": [
    {
     "data": {
      "application/vnd.microsoft.datawrangler.viewer.v0+json": {
       "columns": [
        {
         "name": "index",
         "rawType": "int64",
         "type": "integer"
        },
        {
         "name": "player_id",
         "rawType": "int64",
         "type": "integer"
        },
        {
         "name": "player_name",
         "rawType": "object",
         "type": "string"
        },
        {
         "name": "2022",
         "rawType": "int64",
         "type": "integer"
        },
        {
         "name": "2023",
         "rawType": "int64",
         "type": "integer"
        },
        {
         "name": "2024",
         "rawType": "int64",
         "type": "integer"
        },
        {
         "name": "2025",
         "rawType": "int64",
         "type": "integer"
        }
       ],
       "ref": "90f2769f-c9f2-48e8-ae8f-690012f0d356",
       "rows": [
        [
         "30",
         "31",
         "C.J. Mccollum",
         "33333333",
         "35802469",
         "33333333",
         "30666666"
        ],
        [
         "51",
         "52",
         "A.L. Horford",
         "26500000",
         "10000000",
         "9500000",
         "0"
        ],
        [
         "82",
         "83",
         "O.G. Anunoby",
         "17357143",
         "18642857",
         "19928571",
         "0"
        ],
        [
         "122",
         "123",
         "J.A. Morant",
         "12119440",
         "33500000",
         "36180000",
         "38860000"
        ],
        [
         "131",
         "132",
         "R.J. Barrett",
         "10900634",
         "23883929",
         "25794643",
         "27705357"
        ],
        [
         "137",
         "138",
         "P.J. Tucker",
         "10490000",
         "11014500",
         "11539000",
         "0"
        ],
        [
         "139",
         "140",
         "M.O. Bamba",
         "10300000",
         "10300000",
         "0",
         "0"
        ],
        [
         "175",
         "176",
         "T.J. Mcconnell",
         "8100000",
         "8700000",
         "9300000",
         "0"
        ],
        [
         "212",
         "213",
         "P.J. Washington",
         "5808435",
         "7992407",
         "0",
         "0"
        ],
        [
         "234",
         "235",
         "T.Y. Jerome",
         "4728948",
         "1761752",
         "0",
         "0"
        ],
        [
         "275",
         "276",
         "A.J. Griffin",
         "3536160",
         "3712920",
         "3889920",
         "5967137"
        ],
        [
         "311",
         "312",
         "R.J. Hampton",
         "2898243",
         "1927896",
         "0",
         "0"
        ],
        [
         "323",
         "324",
         "T.J. Warren",
         "2628597",
         "0",
         "0",
         "0"
        ],
        [
         "396",
         "397",
         "K.Z. Okpala",
         "1902133",
         "0",
         "0",
         "0"
        ],
        [
         "413",
         "414",
         "K.J. Martin",
         "1782621",
         "1930681",
         "0",
         "0"
        ],
        [
         "431",
         "432",
         "J.T. Thor",
         "1563518",
         "1836096",
         "1988598",
         "0"
        ],
        [
         "433",
         "434",
         "B.J. Boston",
         "1563518",
         "1836096",
         "0",
         "0"
        ],
        [
         "472",
         "473",
         "P.J. Dozier",
         "784654",
         "2413304",
         "0",
         "0"
        ],
        [
         "478",
         "479",
         "D.J. Augustin",
         "633938",
         "0",
         "0",
         "0"
        ],
        [
         "489",
         "490",
         "E.J. Liddell",
         "508891",
         "547349",
         "0",
         "0"
        ],
        [
         "493",
         "494",
         "J.D. Davison",
         "508891",
         "1761752",
         "0",
         "0"
        ],
        [
         "508",
         "509",
         "A.J. Green",
         "508891",
         "1761752",
         "0",
         "0"
        ],
        [
         "522",
         "523",
         "A.J. Lawson",
         "371432",
         "1761752",
         "0",
         "0"
        ],
        [
         "530",
         "531",
         "D.J. Wilson",
         "250000",
         "0",
         "0",
         "0"
        ],
        [
         "564",
         "565",
         "D.J. Steward",
         "50000",
         "0",
         "0",
         "0"
        ]
       ],
       "shape": {
        "columns": 6,
        "rows": 25
       }
      },
      "text/html": [
       "<div>\n",
       "<style scoped>\n",
       "    .dataframe tbody tr th:only-of-type {\n",
       "        vertical-align: middle;\n",
       "    }\n",
       "\n",
       "    .dataframe tbody tr th {\n",
       "        vertical-align: top;\n",
       "    }\n",
       "\n",
       "    .dataframe thead th {\n",
       "        text-align: right;\n",
       "    }\n",
       "</style>\n",
       "<table border=\"1\" class=\"dataframe\">\n",
       "  <thead>\n",
       "    <tr style=\"text-align: right;\">\n",
       "      <th></th>\n",
       "      <th>player_id</th>\n",
       "      <th>player_name</th>\n",
       "      <th>2022</th>\n",
       "      <th>2023</th>\n",
       "      <th>2024</th>\n",
       "      <th>2025</th>\n",
       "    </tr>\n",
       "  </thead>\n",
       "  <tbody>\n",
       "    <tr>\n",
       "      <th>30</th>\n",
       "      <td>31</td>\n",
       "      <td>C.J. Mccollum</td>\n",
       "      <td>33333333</td>\n",
       "      <td>35802469</td>\n",
       "      <td>33333333</td>\n",
       "      <td>30666666</td>\n",
       "    </tr>\n",
       "    <tr>\n",
       "      <th>51</th>\n",
       "      <td>52</td>\n",
       "      <td>A.L. Horford</td>\n",
       "      <td>26500000</td>\n",
       "      <td>10000000</td>\n",
       "      <td>9500000</td>\n",
       "      <td>0</td>\n",
       "    </tr>\n",
       "    <tr>\n",
       "      <th>82</th>\n",
       "      <td>83</td>\n",
       "      <td>O.G. Anunoby</td>\n",
       "      <td>17357143</td>\n",
       "      <td>18642857</td>\n",
       "      <td>19928571</td>\n",
       "      <td>0</td>\n",
       "    </tr>\n",
       "    <tr>\n",
       "      <th>122</th>\n",
       "      <td>123</td>\n",
       "      <td>J.A. Morant</td>\n",
       "      <td>12119440</td>\n",
       "      <td>33500000</td>\n",
       "      <td>36180000</td>\n",
       "      <td>38860000</td>\n",
       "    </tr>\n",
       "    <tr>\n",
       "      <th>131</th>\n",
       "      <td>132</td>\n",
       "      <td>R.J. Barrett</td>\n",
       "      <td>10900634</td>\n",
       "      <td>23883929</td>\n",
       "      <td>25794643</td>\n",
       "      <td>27705357</td>\n",
       "    </tr>\n",
       "    <tr>\n",
       "      <th>137</th>\n",
       "      <td>138</td>\n",
       "      <td>P.J. Tucker</td>\n",
       "      <td>10490000</td>\n",
       "      <td>11014500</td>\n",
       "      <td>11539000</td>\n",
       "      <td>0</td>\n",
       "    </tr>\n",
       "    <tr>\n",
       "      <th>139</th>\n",
       "      <td>140</td>\n",
       "      <td>M.O. Bamba</td>\n",
       "      <td>10300000</td>\n",
       "      <td>10300000</td>\n",
       "      <td>0</td>\n",
       "      <td>0</td>\n",
       "    </tr>\n",
       "    <tr>\n",
       "      <th>175</th>\n",
       "      <td>176</td>\n",
       "      <td>T.J. Mcconnell</td>\n",
       "      <td>8100000</td>\n",
       "      <td>8700000</td>\n",
       "      <td>9300000</td>\n",
       "      <td>0</td>\n",
       "    </tr>\n",
       "    <tr>\n",
       "      <th>212</th>\n",
       "      <td>213</td>\n",
       "      <td>P.J. Washington</td>\n",
       "      <td>5808435</td>\n",
       "      <td>7992407</td>\n",
       "      <td>0</td>\n",
       "      <td>0</td>\n",
       "    </tr>\n",
       "    <tr>\n",
       "      <th>234</th>\n",
       "      <td>235</td>\n",
       "      <td>T.Y. Jerome</td>\n",
       "      <td>4728948</td>\n",
       "      <td>1761752</td>\n",
       "      <td>0</td>\n",
       "      <td>0</td>\n",
       "    </tr>\n",
       "    <tr>\n",
       "      <th>275</th>\n",
       "      <td>276</td>\n",
       "      <td>A.J. Griffin</td>\n",
       "      <td>3536160</td>\n",
       "      <td>3712920</td>\n",
       "      <td>3889920</td>\n",
       "      <td>5967137</td>\n",
       "    </tr>\n",
       "    <tr>\n",
       "      <th>311</th>\n",
       "      <td>312</td>\n",
       "      <td>R.J. Hampton</td>\n",
       "      <td>2898243</td>\n",
       "      <td>1927896</td>\n",
       "      <td>0</td>\n",
       "      <td>0</td>\n",
       "    </tr>\n",
       "    <tr>\n",
       "      <th>323</th>\n",
       "      <td>324</td>\n",
       "      <td>T.J. Warren</td>\n",
       "      <td>2628597</td>\n",
       "      <td>0</td>\n",
       "      <td>0</td>\n",
       "      <td>0</td>\n",
       "    </tr>\n",
       "    <tr>\n",
       "      <th>396</th>\n",
       "      <td>397</td>\n",
       "      <td>K.Z. Okpala</td>\n",
       "      <td>1902133</td>\n",
       "      <td>0</td>\n",
       "      <td>0</td>\n",
       "      <td>0</td>\n",
       "    </tr>\n",
       "    <tr>\n",
       "      <th>413</th>\n",
       "      <td>414</td>\n",
       "      <td>K.J. Martin</td>\n",
       "      <td>1782621</td>\n",
       "      <td>1930681</td>\n",
       "      <td>0</td>\n",
       "      <td>0</td>\n",
       "    </tr>\n",
       "    <tr>\n",
       "      <th>431</th>\n",
       "      <td>432</td>\n",
       "      <td>J.T. Thor</td>\n",
       "      <td>1563518</td>\n",
       "      <td>1836096</td>\n",
       "      <td>1988598</td>\n",
       "      <td>0</td>\n",
       "    </tr>\n",
       "    <tr>\n",
       "      <th>433</th>\n",
       "      <td>434</td>\n",
       "      <td>B.J. Boston</td>\n",
       "      <td>1563518</td>\n",
       "      <td>1836096</td>\n",
       "      <td>0</td>\n",
       "      <td>0</td>\n",
       "    </tr>\n",
       "    <tr>\n",
       "      <th>472</th>\n",
       "      <td>473</td>\n",
       "      <td>P.J. Dozier</td>\n",
       "      <td>784654</td>\n",
       "      <td>2413304</td>\n",
       "      <td>0</td>\n",
       "      <td>0</td>\n",
       "    </tr>\n",
       "    <tr>\n",
       "      <th>478</th>\n",
       "      <td>479</td>\n",
       "      <td>D.J. Augustin</td>\n",
       "      <td>633938</td>\n",
       "      <td>0</td>\n",
       "      <td>0</td>\n",
       "      <td>0</td>\n",
       "    </tr>\n",
       "    <tr>\n",
       "      <th>489</th>\n",
       "      <td>490</td>\n",
       "      <td>E.J. Liddell</td>\n",
       "      <td>508891</td>\n",
       "      <td>547349</td>\n",
       "      <td>0</td>\n",
       "      <td>0</td>\n",
       "    </tr>\n",
       "    <tr>\n",
       "      <th>493</th>\n",
       "      <td>494</td>\n",
       "      <td>J.D. Davison</td>\n",
       "      <td>508891</td>\n",
       "      <td>1761752</td>\n",
       "      <td>0</td>\n",
       "      <td>0</td>\n",
       "    </tr>\n",
       "    <tr>\n",
       "      <th>508</th>\n",
       "      <td>509</td>\n",
       "      <td>A.J. Green</td>\n",
       "      <td>508891</td>\n",
       "      <td>1761752</td>\n",
       "      <td>0</td>\n",
       "      <td>0</td>\n",
       "    </tr>\n",
       "    <tr>\n",
       "      <th>522</th>\n",
       "      <td>523</td>\n",
       "      <td>A.J. Lawson</td>\n",
       "      <td>371432</td>\n",
       "      <td>1761752</td>\n",
       "      <td>0</td>\n",
       "      <td>0</td>\n",
       "    </tr>\n",
       "    <tr>\n",
       "      <th>530</th>\n",
       "      <td>531</td>\n",
       "      <td>D.J. Wilson</td>\n",
       "      <td>250000</td>\n",
       "      <td>0</td>\n",
       "      <td>0</td>\n",
       "      <td>0</td>\n",
       "    </tr>\n",
       "    <tr>\n",
       "      <th>564</th>\n",
       "      <td>565</td>\n",
       "      <td>D.J. Steward</td>\n",
       "      <td>50000</td>\n",
       "      <td>0</td>\n",
       "      <td>0</td>\n",
       "      <td>0</td>\n",
       "    </tr>\n",
       "  </tbody>\n",
       "</table>\n",
       "</div>"
      ],
      "text/plain": [
       "     player_id      player_name      2022      2023      2024      2025\n",
       "30          31    C.J. Mccollum  33333333  35802469  33333333  30666666\n",
       "51          52     A.L. Horford  26500000  10000000   9500000         0\n",
       "82          83     O.G. Anunoby  17357143  18642857  19928571         0\n",
       "122        123      J.A. Morant  12119440  33500000  36180000  38860000\n",
       "131        132     R.J. Barrett  10900634  23883929  25794643  27705357\n",
       "137        138      P.J. Tucker  10490000  11014500  11539000         0\n",
       "139        140       M.O. Bamba  10300000  10300000         0         0\n",
       "175        176   T.J. Mcconnell   8100000   8700000   9300000         0\n",
       "212        213  P.J. Washington   5808435   7992407         0         0\n",
       "234        235      T.Y. Jerome   4728948   1761752         0         0\n",
       "275        276     A.J. Griffin   3536160   3712920   3889920   5967137\n",
       "311        312     R.J. Hampton   2898243   1927896         0         0\n",
       "323        324      T.J. Warren   2628597         0         0         0\n",
       "396        397      K.Z. Okpala   1902133         0         0         0\n",
       "413        414      K.J. Martin   1782621   1930681         0         0\n",
       "431        432        J.T. Thor   1563518   1836096   1988598         0\n",
       "433        434      B.J. Boston   1563518   1836096         0         0\n",
       "472        473      P.J. Dozier    784654   2413304         0         0\n",
       "478        479    D.J. Augustin    633938         0         0         0\n",
       "489        490     E.J. Liddell    508891    547349         0         0\n",
       "493        494     J.D. Davison    508891   1761752         0         0\n",
       "508        509       A.J. Green    508891   1761752         0         0\n",
       "522        523      A.J. Lawson    371432   1761752         0         0\n",
       "530        531      D.J. Wilson    250000         0         0         0\n",
       "564        565     D.J. Steward     50000         0         0         0"
      ]
     },
     "execution_count": 22,
     "metadata": {},
     "output_type": "execute_result"
    }
   ],
   "source": [
    "# 📌 Filtramos las filas donde player_name contiene un punto\n",
    "df[df['player_name'].str.contains(r'\\.', regex=True)]\n"
   ]
  },
  {
   "cell_type": "markdown",
   "id": "338fa31a",
   "metadata": {},
   "source": [
    "- EXPORTAMOS NUEVAMENTE EL DF LIMPIO CON LA MODIFICACION DE LOS _"
   ]
  },
  {
   "cell_type": "code",
   "execution_count": 23,
   "id": "4b0587d1",
   "metadata": {},
   "outputs": [],
   "source": [
    "# 📌 Exportamos sobrescribiendo el archivo anterior\n",
    "df.to_csv(r\"C:\\Users\\User\\OneDrive\\Documentos\\proyecto_final\\data_en_csv\\nba_salaries_limpio.csv\", index=False)\n"
   ]
  }
 ],
 "metadata": {
  "kernelspec": {
   "display_name": "Python 3",
   "language": "python",
   "name": "python3"
  },
  "language_info": {
   "codemirror_mode": {
    "name": "ipython",
    "version": 3
   },
   "file_extension": ".py",
   "mimetype": "text/x-python",
   "name": "python",
   "nbconvert_exporter": "python",
   "pygments_lexer": "ipython3",
   "version": "3.13.5"
  }
 },
 "nbformat": 4,
 "nbformat_minor": 5
}
