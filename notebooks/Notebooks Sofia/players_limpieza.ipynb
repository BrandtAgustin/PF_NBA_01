{
 "cells": [
  {
   "cell_type": "markdown",
   "id": "569036c0",
   "metadata": {},
   "source": [
    "LIMPIEZA DEL ARCHIVO player.csv"
   ]
  },
  {
   "cell_type": "code",
   "execution_count": 2,
   "id": "00af6050",
   "metadata": {},
   "outputs": [
    {
     "data": {
      "application/vnd.microsoft.datawrangler.viewer.v0+json": {
       "columns": [
        {
         "name": "index",
         "rawType": "int64",
         "type": "integer"
        },
        {
         "name": "id",
         "rawType": "int64",
         "type": "integer"
        },
        {
         "name": "full_name",
         "rawType": "object",
         "type": "string"
        },
        {
         "name": "first_name",
         "rawType": "object",
         "type": "string"
        },
        {
         "name": "last_name",
         "rawType": "object",
         "type": "string"
        },
        {
         "name": "is_active",
         "rawType": "int64",
         "type": "integer"
        }
       ],
       "ref": "cbd7015c-3c95-4ec4-9f3e-34c3f1f3b1c0",
       "rows": [
        [
         "0",
         "76001",
         "Alaa Abdelnaby",
         "Alaa",
         "Abdelnaby",
         "0"
        ],
        [
         "1",
         "76002",
         "Zaid Abdul-Aziz",
         "Zaid",
         "Abdul-Aziz",
         "0"
        ],
        [
         "2",
         "76003",
         "Kareem Abdul-Jabbar",
         "Kareem",
         "Abdul-Jabbar",
         "0"
        ],
        [
         "3",
         "51",
         "Mahmoud Abdul-Rauf",
         "Mahmoud",
         "Abdul-Rauf",
         "0"
        ],
        [
         "4",
         "1505",
         "Tariq Abdul-Wahad",
         "Tariq",
         "Abdul-Wahad",
         "0"
        ]
       ],
       "shape": {
        "columns": 5,
        "rows": 5
       }
      },
      "text/html": [
       "<div>\n",
       "<style scoped>\n",
       "    .dataframe tbody tr th:only-of-type {\n",
       "        vertical-align: middle;\n",
       "    }\n",
       "\n",
       "    .dataframe tbody tr th {\n",
       "        vertical-align: top;\n",
       "    }\n",
       "\n",
       "    .dataframe thead th {\n",
       "        text-align: right;\n",
       "    }\n",
       "</style>\n",
       "<table border=\"1\" class=\"dataframe\">\n",
       "  <thead>\n",
       "    <tr style=\"text-align: right;\">\n",
       "      <th></th>\n",
       "      <th>id</th>\n",
       "      <th>full_name</th>\n",
       "      <th>first_name</th>\n",
       "      <th>last_name</th>\n",
       "      <th>is_active</th>\n",
       "    </tr>\n",
       "  </thead>\n",
       "  <tbody>\n",
       "    <tr>\n",
       "      <th>0</th>\n",
       "      <td>76001</td>\n",
       "      <td>Alaa Abdelnaby</td>\n",
       "      <td>Alaa</td>\n",
       "      <td>Abdelnaby</td>\n",
       "      <td>0</td>\n",
       "    </tr>\n",
       "    <tr>\n",
       "      <th>1</th>\n",
       "      <td>76002</td>\n",
       "      <td>Zaid Abdul-Aziz</td>\n",
       "      <td>Zaid</td>\n",
       "      <td>Abdul-Aziz</td>\n",
       "      <td>0</td>\n",
       "    </tr>\n",
       "    <tr>\n",
       "      <th>2</th>\n",
       "      <td>76003</td>\n",
       "      <td>Kareem Abdul-Jabbar</td>\n",
       "      <td>Kareem</td>\n",
       "      <td>Abdul-Jabbar</td>\n",
       "      <td>0</td>\n",
       "    </tr>\n",
       "    <tr>\n",
       "      <th>3</th>\n",
       "      <td>51</td>\n",
       "      <td>Mahmoud Abdul-Rauf</td>\n",
       "      <td>Mahmoud</td>\n",
       "      <td>Abdul-Rauf</td>\n",
       "      <td>0</td>\n",
       "    </tr>\n",
       "    <tr>\n",
       "      <th>4</th>\n",
       "      <td>1505</td>\n",
       "      <td>Tariq Abdul-Wahad</td>\n",
       "      <td>Tariq</td>\n",
       "      <td>Abdul-Wahad</td>\n",
       "      <td>0</td>\n",
       "    </tr>\n",
       "  </tbody>\n",
       "</table>\n",
       "</div>"
      ],
      "text/plain": [
       "      id            full_name first_name     last_name  is_active\n",
       "0  76001       Alaa Abdelnaby       Alaa     Abdelnaby          0\n",
       "1  76002      Zaid Abdul-Aziz       Zaid    Abdul-Aziz          0\n",
       "2  76003  Kareem Abdul-Jabbar     Kareem  Abdul-Jabbar          0\n",
       "3     51   Mahmoud Abdul-Rauf    Mahmoud    Abdul-Rauf          0\n",
       "4   1505    Tariq Abdul-Wahad      Tariq   Abdul-Wahad          0"
      ]
     },
     "execution_count": 2,
     "metadata": {},
     "output_type": "execute_result"
    }
   ],
   "source": [
    "# 📌 Importamos las librerías necesarias\n",
    "import pandas as pd\n",
    "import numpy as np\n",
    "import matplotlib.pyplot as plt\n",
    "import seaborn as sns\n",
    "\n",
    "# 📌 Ruta del archivo CSV\n",
    "ruta = r\"C:\\Users\\User\\OneDrive\\Documentos\\proyecto_final\\data_en_csv\\madre\\player.csv\"\n",
    "\n",
    "# 📌 Cargamos el CSV\n",
    "df = pd.read_csv(ruta)\n",
    "\n",
    "# 📌 Mostramos las primeras filas para confirmar la carga\n",
    "df.head()\n"
   ]
  },
  {
   "cell_type": "markdown",
   "id": "ef586228",
   "metadata": {},
   "source": [
    "- VER INFORMACION GENERAL DEL DATAFRAME"
   ]
  },
  {
   "cell_type": "code",
   "execution_count": 3,
   "id": "5dcbcb5d",
   "metadata": {},
   "outputs": [
    {
     "name": "stdout",
     "output_type": "stream",
     "text": [
      "<class 'pandas.core.frame.DataFrame'>\n",
      "RangeIndex: 4831 entries, 0 to 4830\n",
      "Data columns (total 5 columns):\n",
      " #   Column      Non-Null Count  Dtype \n",
      "---  ------      --------------  ----- \n",
      " 0   id          4831 non-null   int64 \n",
      " 1   full_name   4831 non-null   object\n",
      " 2   first_name  4825 non-null   object\n",
      " 3   last_name   4831 non-null   object\n",
      " 4   is_active   4831 non-null   int64 \n",
      "dtypes: int64(2), object(3)\n",
      "memory usage: 188.8+ KB\n"
     ]
    }
   ],
   "source": [
    "# 📌 Ver estructura general del DataFrame\n",
    "df.info()"
   ]
  },
  {
   "cell_type": "markdown",
   "id": "2f556c96",
   "metadata": {},
   "source": [
    "- VERIFICAR VALORES NULOS"
   ]
  },
  {
   "cell_type": "code",
   "execution_count": 4,
   "id": "1014f41d",
   "metadata": {},
   "outputs": [
    {
     "name": "stdout",
     "output_type": "stream",
     "text": [
      "📌 Valores nulos por columna:\n",
      "\n",
      "            Cantidad de nulos  Porcentaje de nulos (%)\n",
      "first_name                  6                     0.12\n",
      "id                          0                     0.00\n",
      "full_name                   0                     0.00\n",
      "last_name                   0                     0.00\n",
      "is_active                   0                     0.00\n"
     ]
    }
   ],
   "source": [
    "# 📌 Verificamos cantidad y porcentaje de valores nulos por columna\n",
    "nulos_cantidad = df.isnull().sum()\n",
    "nulos_porcentaje = (df.isnull().mean() * 100).round(2)\n",
    "\n",
    "# 📌 Creamos un DataFrame resumen\n",
    "nulos_df = pd.DataFrame({\n",
    "    'Cantidad de nulos': nulos_cantidad,\n",
    "    'Porcentaje de nulos (%)': nulos_porcentaje\n",
    "}).sort_values(by='Porcentaje de nulos (%)', ascending=False)\n",
    "\n",
    "print(\"📌 Valores nulos por columna:\\n\")\n",
    "print(nulos_df)\n"
   ]
  },
  {
   "cell_type": "code",
   "execution_count": 5,
   "id": "ec217796",
   "metadata": {},
   "outputs": [
    {
     "name": "stdout",
     "output_type": "stream",
     "text": [
      "📌 Total de filas con al menos un valor nulo: 6\n"
     ]
    },
    {
     "data": {
      "application/vnd.microsoft.datawrangler.viewer.v0+json": {
       "columns": [
        {
         "name": "index",
         "rawType": "int64",
         "type": "integer"
        },
        {
         "name": "id",
         "rawType": "int64",
         "type": "integer"
        },
        {
         "name": "full_name",
         "rawType": "object",
         "type": "string"
        },
        {
         "name": "first_name",
         "rawType": "object",
         "type": "unknown"
        },
        {
         "name": "last_name",
         "rawType": "object",
         "type": "string"
        },
        {
         "name": "is_active",
         "rawType": "int64",
         "type": "integer"
        }
       ],
       "ref": "505731f7-3e41-4709-8fcb-cbf72f1fd1ab",
       "rows": [
        [
         "1666",
         "2775",
         "Ha Seung-jin",
         null,
         "Ha Seung-jin",
         "0"
        ],
        [
         "3129",
         "2403",
         "Nene",
         null,
         "Nene",
         "0"
        ],
        [
         "4140",
         "201180",
         "Sun Yue",
         null,
         "Sun Yue",
         "0"
        ],
        [
         "4789",
         "2397",
         "Yao Ming",
         null,
         "Yao Ming",
         "0"
        ],
        [
         "4795",
         "201146",
         "Yi Jianlian",
         null,
         "Yi Jianlian",
         "0"
        ],
        [
         "4821",
         "1627753",
         "Zhou Qi",
         null,
         "Zhou Qi",
         "0"
        ]
       ],
       "shape": {
        "columns": 5,
        "rows": 6
       }
      },
      "text/html": [
       "<div>\n",
       "<style scoped>\n",
       "    .dataframe tbody tr th:only-of-type {\n",
       "        vertical-align: middle;\n",
       "    }\n",
       "\n",
       "    .dataframe tbody tr th {\n",
       "        vertical-align: top;\n",
       "    }\n",
       "\n",
       "    .dataframe thead th {\n",
       "        text-align: right;\n",
       "    }\n",
       "</style>\n",
       "<table border=\"1\" class=\"dataframe\">\n",
       "  <thead>\n",
       "    <tr style=\"text-align: right;\">\n",
       "      <th></th>\n",
       "      <th>id</th>\n",
       "      <th>full_name</th>\n",
       "      <th>first_name</th>\n",
       "      <th>last_name</th>\n",
       "      <th>is_active</th>\n",
       "    </tr>\n",
       "  </thead>\n",
       "  <tbody>\n",
       "    <tr>\n",
       "      <th>1666</th>\n",
       "      <td>2775</td>\n",
       "      <td>Ha Seung-jin</td>\n",
       "      <td>NaN</td>\n",
       "      <td>Ha Seung-jin</td>\n",
       "      <td>0</td>\n",
       "    </tr>\n",
       "    <tr>\n",
       "      <th>3129</th>\n",
       "      <td>2403</td>\n",
       "      <td>Nene</td>\n",
       "      <td>NaN</td>\n",
       "      <td>Nene</td>\n",
       "      <td>0</td>\n",
       "    </tr>\n",
       "    <tr>\n",
       "      <th>4140</th>\n",
       "      <td>201180</td>\n",
       "      <td>Sun Yue</td>\n",
       "      <td>NaN</td>\n",
       "      <td>Sun Yue</td>\n",
       "      <td>0</td>\n",
       "    </tr>\n",
       "    <tr>\n",
       "      <th>4789</th>\n",
       "      <td>2397</td>\n",
       "      <td>Yao Ming</td>\n",
       "      <td>NaN</td>\n",
       "      <td>Yao Ming</td>\n",
       "      <td>0</td>\n",
       "    </tr>\n",
       "    <tr>\n",
       "      <th>4795</th>\n",
       "      <td>201146</td>\n",
       "      <td>Yi Jianlian</td>\n",
       "      <td>NaN</td>\n",
       "      <td>Yi Jianlian</td>\n",
       "      <td>0</td>\n",
       "    </tr>\n",
       "    <tr>\n",
       "      <th>4821</th>\n",
       "      <td>1627753</td>\n",
       "      <td>Zhou Qi</td>\n",
       "      <td>NaN</td>\n",
       "      <td>Zhou Qi</td>\n",
       "      <td>0</td>\n",
       "    </tr>\n",
       "  </tbody>\n",
       "</table>\n",
       "</div>"
      ],
      "text/plain": [
       "           id     full_name first_name     last_name  is_active\n",
       "1666     2775  Ha Seung-jin        NaN  Ha Seung-jin          0\n",
       "3129     2403          Nene        NaN          Nene          0\n",
       "4140   201180       Sun Yue        NaN       Sun Yue          0\n",
       "4789     2397      Yao Ming        NaN      Yao Ming          0\n",
       "4795   201146   Yi Jianlian        NaN   Yi Jianlian          0\n",
       "4821  1627753       Zhou Qi        NaN       Zhou Qi          0"
      ]
     },
     "execution_count": 5,
     "metadata": {},
     "output_type": "execute_result"
    }
   ],
   "source": [
    "# 📌 Mostrar todas las filas que contienen al menos un valor nulo\n",
    "filas_con_nulos = df[df.isnull().any(axis=1)]\n",
    "\n",
    "print(f\"📌 Total de filas con al menos un valor nulo: {len(filas_con_nulos)}\")\n",
    "filas_con_nulos"
   ]
  },
  {
   "cell_type": "markdown",
   "id": "dd4a995f",
   "metadata": {},
   "source": [
    "- RELLENADO DE LA COLUMNA FIRST_NAME Y REEMPLAZO DE LOS DATOS EN LA COLUMNA LAST_NAME, EN TODAS LAS FILAS EXCEPTO EN LA QUE TIENE COMO DATO \"NENE\""
   ]
  },
  {
   "cell_type": "code",
   "execution_count": 6,
   "id": "fde0234b",
   "metadata": {},
   "outputs": [],
   "source": [
    "# 📌 Filtramos las filas con valores nulos (en cualquier columna)\n",
    "filas_nulas = df[df.isnull().any(axis=1)]\n",
    "\n",
    "# 📌 Excluimos el caso donde 'full_name' es exactamente \"Nene\"\n",
    "filas_nulas_filtradas = filas_nulas[filas_nulas['full_name'] != 'Nene']\n",
    "\n",
    "# 📌 Recorremos las filas con nulos y actualizamos nombres\n",
    "for idx, fila in filas_nulas_filtradas.iterrows():\n",
    "    partes = fila['full_name'].split()\n",
    "    \n",
    "    if len(partes) > 1:\n",
    "        df.at[idx, 'last_name'] = partes[0]                    # Primer palabra a last_name\n",
    "        df.at[idx, 'first_name'] = ' '.join(partes[1:])        # Resto a first_name"
   ]
  },
  {
   "cell_type": "code",
   "execution_count": 7,
   "id": "6fc25ecc",
   "metadata": {},
   "outputs": [
    {
     "data": {
      "application/vnd.microsoft.datawrangler.viewer.v0+json": {
       "columns": [
        {
         "name": "index",
         "rawType": "int64",
         "type": "integer"
        },
        {
         "name": "id",
         "rawType": "int64",
         "type": "integer"
        },
        {
         "name": "full_name",
         "rawType": "object",
         "type": "string"
        },
        {
         "name": "first_name",
         "rawType": "object",
         "type": "unknown"
        },
        {
         "name": "last_name",
         "rawType": "object",
         "type": "string"
        },
        {
         "name": "is_active",
         "rawType": "int64",
         "type": "integer"
        }
       ],
       "ref": "0a509c88-4d1a-44f0-8e8b-74f663bdbbc5",
       "rows": [
        [
         "1666",
         "2775",
         "Ha Seung-jin",
         "Seung-jin",
         "Ha",
         "0"
        ],
        [
         "3129",
         "2403",
         "Nene",
         null,
         "Nene",
         "0"
        ],
        [
         "4140",
         "201180",
         "Sun Yue",
         "Yue",
         "Sun",
         "0"
        ],
        [
         "4789",
         "2397",
         "Yao Ming",
         "Ming",
         "Yao",
         "0"
        ],
        [
         "4795",
         "201146",
         "Yi Jianlian",
         "Jianlian",
         "Yi",
         "0"
        ],
        [
         "4821",
         "1627753",
         "Zhou Qi",
         "Qi",
         "Zhou",
         "0"
        ]
       ],
       "shape": {
        "columns": 5,
        "rows": 6
       }
      },
      "text/html": [
       "<div>\n",
       "<style scoped>\n",
       "    .dataframe tbody tr th:only-of-type {\n",
       "        vertical-align: middle;\n",
       "    }\n",
       "\n",
       "    .dataframe tbody tr th {\n",
       "        vertical-align: top;\n",
       "    }\n",
       "\n",
       "    .dataframe thead th {\n",
       "        text-align: right;\n",
       "    }\n",
       "</style>\n",
       "<table border=\"1\" class=\"dataframe\">\n",
       "  <thead>\n",
       "    <tr style=\"text-align: right;\">\n",
       "      <th></th>\n",
       "      <th>id</th>\n",
       "      <th>full_name</th>\n",
       "      <th>first_name</th>\n",
       "      <th>last_name</th>\n",
       "      <th>is_active</th>\n",
       "    </tr>\n",
       "  </thead>\n",
       "  <tbody>\n",
       "    <tr>\n",
       "      <th>1666</th>\n",
       "      <td>2775</td>\n",
       "      <td>Ha Seung-jin</td>\n",
       "      <td>Seung-jin</td>\n",
       "      <td>Ha</td>\n",
       "      <td>0</td>\n",
       "    </tr>\n",
       "    <tr>\n",
       "      <th>3129</th>\n",
       "      <td>2403</td>\n",
       "      <td>Nene</td>\n",
       "      <td>NaN</td>\n",
       "      <td>Nene</td>\n",
       "      <td>0</td>\n",
       "    </tr>\n",
       "    <tr>\n",
       "      <th>4140</th>\n",
       "      <td>201180</td>\n",
       "      <td>Sun Yue</td>\n",
       "      <td>Yue</td>\n",
       "      <td>Sun</td>\n",
       "      <td>0</td>\n",
       "    </tr>\n",
       "    <tr>\n",
       "      <th>4789</th>\n",
       "      <td>2397</td>\n",
       "      <td>Yao Ming</td>\n",
       "      <td>Ming</td>\n",
       "      <td>Yao</td>\n",
       "      <td>0</td>\n",
       "    </tr>\n",
       "    <tr>\n",
       "      <th>4795</th>\n",
       "      <td>201146</td>\n",
       "      <td>Yi Jianlian</td>\n",
       "      <td>Jianlian</td>\n",
       "      <td>Yi</td>\n",
       "      <td>0</td>\n",
       "    </tr>\n",
       "    <tr>\n",
       "      <th>4821</th>\n",
       "      <td>1627753</td>\n",
       "      <td>Zhou Qi</td>\n",
       "      <td>Qi</td>\n",
       "      <td>Zhou</td>\n",
       "      <td>0</td>\n",
       "    </tr>\n",
       "  </tbody>\n",
       "</table>\n",
       "</div>"
      ],
      "text/plain": [
       "           id     full_name first_name last_name  is_active\n",
       "1666     2775  Ha Seung-jin  Seung-jin        Ha          0\n",
       "3129     2403          Nene        NaN      Nene          0\n",
       "4140   201180       Sun Yue        Yue       Sun          0\n",
       "4789     2397      Yao Ming       Ming       Yao          0\n",
       "4795   201146   Yi Jianlian   Jianlian        Yi          0\n",
       "4821  1627753       Zhou Qi         Qi      Zhou          0"
      ]
     },
     "execution_count": 7,
     "metadata": {},
     "output_type": "execute_result"
    }
   ],
   "source": [
    "# 📌 Mostramos las filas que originalmente tenían valores nulos (incluimos \"Nene\")\n",
    "filas_verificadas = df[df['full_name'].isin(filas_nulas['full_name'])]\n",
    "\n",
    "filas_verificadas"
   ]
  },
  {
   "cell_type": "markdown",
   "id": "19e43d5d",
   "metadata": {},
   "source": [
    "- RELLENAMOS EL VALOR FALTANTE EN LA COLUNMA FIRST_NAME PARA EL FULL_NAME \"NENE\" CON LA PALABRA \"NULL\""
   ]
  },
  {
   "cell_type": "code",
   "execution_count": 8,
   "id": "2e60a2ff",
   "metadata": {},
   "outputs": [],
   "source": [
    "# 📌 Asignamos \"NULL\" como valor a 'first_name' para el jugador llamado \"Nene\"\n",
    "df.loc[df['full_name'] == 'Nene', 'first_name'] = 'null'"
   ]
  },
  {
   "cell_type": "code",
   "execution_count": 9,
   "id": "0a7888e2",
   "metadata": {},
   "outputs": [
    {
     "data": {
      "application/vnd.microsoft.datawrangler.viewer.v0+json": {
       "columns": [
        {
         "name": "index",
         "rawType": "int64",
         "type": "integer"
        },
        {
         "name": "id",
         "rawType": "int64",
         "type": "integer"
        },
        {
         "name": "full_name",
         "rawType": "object",
         "type": "string"
        },
        {
         "name": "first_name",
         "rawType": "object",
         "type": "string"
        },
        {
         "name": "last_name",
         "rawType": "object",
         "type": "string"
        },
        {
         "name": "is_active",
         "rawType": "int64",
         "type": "integer"
        }
       ],
       "ref": "be559c58-3c68-4f65-8168-bf50201af3d4",
       "rows": [
        [
         "3129",
         "2403",
         "Nene",
         "null",
         "Nene",
         "0"
        ]
       ],
       "shape": {
        "columns": 5,
        "rows": 1
       }
      },
      "text/html": [
       "<div>\n",
       "<style scoped>\n",
       "    .dataframe tbody tr th:only-of-type {\n",
       "        vertical-align: middle;\n",
       "    }\n",
       "\n",
       "    .dataframe tbody tr th {\n",
       "        vertical-align: top;\n",
       "    }\n",
       "\n",
       "    .dataframe thead th {\n",
       "        text-align: right;\n",
       "    }\n",
       "</style>\n",
       "<table border=\"1\" class=\"dataframe\">\n",
       "  <thead>\n",
       "    <tr style=\"text-align: right;\">\n",
       "      <th></th>\n",
       "      <th>id</th>\n",
       "      <th>full_name</th>\n",
       "      <th>first_name</th>\n",
       "      <th>last_name</th>\n",
       "      <th>is_active</th>\n",
       "    </tr>\n",
       "  </thead>\n",
       "  <tbody>\n",
       "    <tr>\n",
       "      <th>3129</th>\n",
       "      <td>2403</td>\n",
       "      <td>Nene</td>\n",
       "      <td>null</td>\n",
       "      <td>Nene</td>\n",
       "      <td>0</td>\n",
       "    </tr>\n",
       "  </tbody>\n",
       "</table>\n",
       "</div>"
      ],
      "text/plain": [
       "        id full_name first_name last_name  is_active\n",
       "3129  2403      Nene       null      Nene          0"
      ]
     },
     "execution_count": 9,
     "metadata": {},
     "output_type": "execute_result"
    }
   ],
   "source": [
    "# 📌 Mostrar la fila donde full_name es \"Nene\"\n",
    "df[df['full_name'] == 'Nene']\n"
   ]
  },
  {
   "cell_type": "code",
   "execution_count": 10,
   "id": "be367608",
   "metadata": {},
   "outputs": [
    {
     "data": {
      "application/vnd.microsoft.datawrangler.viewer.v0+json": {
       "columns": [
        {
         "name": "index",
         "rawType": "int64",
         "type": "integer"
        },
        {
         "name": "id",
         "rawType": "int64",
         "type": "integer"
        },
        {
         "name": "full_name",
         "rawType": "object",
         "type": "string"
        },
        {
         "name": "first_name",
         "rawType": "object",
         "type": "string"
        },
        {
         "name": "last_name",
         "rawType": "object",
         "type": "string"
        },
        {
         "name": "is_active",
         "rawType": "int64",
         "type": "integer"
        }
       ],
       "ref": "6e7b336b-2e16-4bcc-815c-04d6cddb37df",
       "rows": [
        [
         "1666",
         "2775",
         "Ha Seung-jin",
         "Seung-jin",
         "Ha",
         "0"
        ],
        [
         "3129",
         "2403",
         "Nene",
         "null",
         "Nene",
         "0"
        ],
        [
         "4140",
         "201180",
         "Sun Yue",
         "Yue",
         "Sun",
         "0"
        ],
        [
         "4789",
         "2397",
         "Yao Ming",
         "Ming",
         "Yao",
         "0"
        ],
        [
         "4795",
         "201146",
         "Yi Jianlian",
         "Jianlian",
         "Yi",
         "0"
        ],
        [
         "4821",
         "1627753",
         "Zhou Qi",
         "Qi",
         "Zhou",
         "0"
        ]
       ],
       "shape": {
        "columns": 5,
        "rows": 6
       }
      },
      "text/html": [
       "<div>\n",
       "<style scoped>\n",
       "    .dataframe tbody tr th:only-of-type {\n",
       "        vertical-align: middle;\n",
       "    }\n",
       "\n",
       "    .dataframe tbody tr th {\n",
       "        vertical-align: top;\n",
       "    }\n",
       "\n",
       "    .dataframe thead th {\n",
       "        text-align: right;\n",
       "    }\n",
       "</style>\n",
       "<table border=\"1\" class=\"dataframe\">\n",
       "  <thead>\n",
       "    <tr style=\"text-align: right;\">\n",
       "      <th></th>\n",
       "      <th>id</th>\n",
       "      <th>full_name</th>\n",
       "      <th>first_name</th>\n",
       "      <th>last_name</th>\n",
       "      <th>is_active</th>\n",
       "    </tr>\n",
       "  </thead>\n",
       "  <tbody>\n",
       "    <tr>\n",
       "      <th>1666</th>\n",
       "      <td>2775</td>\n",
       "      <td>Ha Seung-jin</td>\n",
       "      <td>Seung-jin</td>\n",
       "      <td>Ha</td>\n",
       "      <td>0</td>\n",
       "    </tr>\n",
       "    <tr>\n",
       "      <th>3129</th>\n",
       "      <td>2403</td>\n",
       "      <td>Nene</td>\n",
       "      <td>null</td>\n",
       "      <td>Nene</td>\n",
       "      <td>0</td>\n",
       "    </tr>\n",
       "    <tr>\n",
       "      <th>4140</th>\n",
       "      <td>201180</td>\n",
       "      <td>Sun Yue</td>\n",
       "      <td>Yue</td>\n",
       "      <td>Sun</td>\n",
       "      <td>0</td>\n",
       "    </tr>\n",
       "    <tr>\n",
       "      <th>4789</th>\n",
       "      <td>2397</td>\n",
       "      <td>Yao Ming</td>\n",
       "      <td>Ming</td>\n",
       "      <td>Yao</td>\n",
       "      <td>0</td>\n",
       "    </tr>\n",
       "    <tr>\n",
       "      <th>4795</th>\n",
       "      <td>201146</td>\n",
       "      <td>Yi Jianlian</td>\n",
       "      <td>Jianlian</td>\n",
       "      <td>Yi</td>\n",
       "      <td>0</td>\n",
       "    </tr>\n",
       "    <tr>\n",
       "      <th>4821</th>\n",
       "      <td>1627753</td>\n",
       "      <td>Zhou Qi</td>\n",
       "      <td>Qi</td>\n",
       "      <td>Zhou</td>\n",
       "      <td>0</td>\n",
       "    </tr>\n",
       "  </tbody>\n",
       "</table>\n",
       "</div>"
      ],
      "text/plain": [
       "           id     full_name first_name last_name  is_active\n",
       "1666     2775  Ha Seung-jin  Seung-jin        Ha          0\n",
       "3129     2403          Nene       null      Nene          0\n",
       "4140   201180       Sun Yue        Yue       Sun          0\n",
       "4789     2397      Yao Ming       Ming       Yao          0\n",
       "4795   201146   Yi Jianlian   Jianlian        Yi          0\n",
       "4821  1627753       Zhou Qi         Qi      Zhou          0"
      ]
     },
     "execution_count": 10,
     "metadata": {},
     "output_type": "execute_result"
    }
   ],
   "source": [
    "# 📌 Mostramos las filas que originalmente tenían valores nulos (incluimos \"Nene\")\n",
    "filas_verificadas = df[df['full_name'].isin(filas_nulas['full_name'])]\n",
    "\n",
    "filas_verificadas"
   ]
  },
  {
   "cell_type": "markdown",
   "id": "9bceca4e",
   "metadata": {},
   "source": [
    "- ANALIZAMOS DUPLICADOS EN ID"
   ]
  },
  {
   "cell_type": "code",
   "execution_count": 11,
   "id": "bc6a2aa3",
   "metadata": {},
   "outputs": [
    {
     "name": "stdout",
     "output_type": "stream",
     "text": [
      "📌 Cantidad de IDs duplicados: 0\n"
     ]
    },
    {
     "data": {
      "application/vnd.microsoft.datawrangler.viewer.v0+json": {
       "columns": [
        {
         "name": "index",
         "rawType": "int64",
         "type": "integer"
        },
        {
         "name": "id",
         "rawType": "int64",
         "type": "integer"
        },
        {
         "name": "full_name",
         "rawType": "object",
         "type": "string"
        },
        {
         "name": "first_name",
         "rawType": "object",
         "type": "string"
        },
        {
         "name": "last_name",
         "rawType": "object",
         "type": "string"
        },
        {
         "name": "is_active",
         "rawType": "int64",
         "type": "integer"
        }
       ],
       "ref": "5b1d14d7-5bc4-4421-9f28-2f36c1c865b7",
       "rows": [],
       "shape": {
        "columns": 5,
        "rows": 0
       }
      },
      "text/html": [
       "<div>\n",
       "<style scoped>\n",
       "    .dataframe tbody tr th:only-of-type {\n",
       "        vertical-align: middle;\n",
       "    }\n",
       "\n",
       "    .dataframe tbody tr th {\n",
       "        vertical-align: top;\n",
       "    }\n",
       "\n",
       "    .dataframe thead th {\n",
       "        text-align: right;\n",
       "    }\n",
       "</style>\n",
       "<table border=\"1\" class=\"dataframe\">\n",
       "  <thead>\n",
       "    <tr style=\"text-align: right;\">\n",
       "      <th></th>\n",
       "      <th>id</th>\n",
       "      <th>full_name</th>\n",
       "      <th>first_name</th>\n",
       "      <th>last_name</th>\n",
       "      <th>is_active</th>\n",
       "    </tr>\n",
       "  </thead>\n",
       "  <tbody>\n",
       "  </tbody>\n",
       "</table>\n",
       "</div>"
      ],
      "text/plain": [
       "Empty DataFrame\n",
       "Columns: [id, full_name, first_name, last_name, is_active]\n",
       "Index: []"
      ]
     },
     "execution_count": 11,
     "metadata": {},
     "output_type": "execute_result"
    }
   ],
   "source": [
    "# 📌 Verificar si hay IDs duplicados\n",
    "duplicados_id = df[df.duplicated(subset='id', keep=False)]\n",
    "\n",
    "print(f\"📌 Cantidad de IDs duplicados: {duplicados_id['id'].nunique()}\")\n",
    "duplicados_id"
   ]
  },
  {
   "cell_type": "markdown",
   "id": "10527bf3",
   "metadata": {},
   "source": [
    "- ANALIZAMOS DUPLICADOS EN FULL_NAME, FIRST_NAME Y LAST_NAME"
   ]
  },
  {
   "cell_type": "code",
   "execution_count": 12,
   "id": "2f441752",
   "metadata": {},
   "outputs": [
    {
     "name": "stdout",
     "output_type": "stream",
     "text": [
      "🔁 Duplicados en full_name: 38\n"
     ]
    },
    {
     "data": {
      "application/vnd.microsoft.datawrangler.viewer.v0+json": {
       "columns": [
        {
         "name": "index",
         "rawType": "int64",
         "type": "integer"
        },
        {
         "name": "id",
         "rawType": "int64",
         "type": "integer"
        },
        {
         "name": "full_name",
         "rawType": "object",
         "type": "string"
        },
        {
         "name": "first_name",
         "rawType": "object",
         "type": "string"
        },
        {
         "name": "last_name",
         "rawType": "object",
         "type": "string"
        },
        {
         "name": "is_active",
         "rawType": "int64",
         "type": "integer"
        }
       ],
       "ref": "294071bb-d1ab-497d-aefe-02646f84cb3d",
       "rows": [
        [
         "3966",
         "78207",
         "Bill Smith",
         "Bill",
         "Smith",
         "0"
        ],
        [
         "3967",
         "78209",
         "Bill Smith",
         "Bill",
         "Smith",
         "0"
        ],
        [
         "1137",
         "76609",
         "Bob Duffy",
         "Bob",
         "Duffy",
         "0"
        ],
        [
         "1138",
         "76610",
         "Bob Duffy",
         "Bob",
         "Duffy",
         "0"
        ],
        [
         "2203",
         "77193",
         "Bobby Jones",
         "Bobby",
         "Jones",
         "0"
        ],
        [
         "2204",
         "200784",
         "Bobby Jones",
         "Bobby",
         "Jones",
         "0"
        ],
        [
         "4630",
         "1630314",
         "Brandon Williams",
         "Brandon",
         "Williams",
         "0"
        ],
        [
         "4629",
         "1585",
         "Brandon Williams",
         "Brandon",
         "Williams",
         "0"
        ],
        [
         "1829",
         "76990",
         "Cedric Henderson",
         "Cedric",
         "Henderson",
         "0"
        ],
        [
         "1828",
         "1538",
         "Cedric Henderson",
         "Cedric",
         "Henderson",
         "0"
        ]
       ],
       "shape": {
        "columns": 5,
        "rows": 10
       }
      },
      "text/html": [
       "<div>\n",
       "<style scoped>\n",
       "    .dataframe tbody tr th:only-of-type {\n",
       "        vertical-align: middle;\n",
       "    }\n",
       "\n",
       "    .dataframe tbody tr th {\n",
       "        vertical-align: top;\n",
       "    }\n",
       "\n",
       "    .dataframe thead th {\n",
       "        text-align: right;\n",
       "    }\n",
       "</style>\n",
       "<table border=\"1\" class=\"dataframe\">\n",
       "  <thead>\n",
       "    <tr style=\"text-align: right;\">\n",
       "      <th></th>\n",
       "      <th>id</th>\n",
       "      <th>full_name</th>\n",
       "      <th>first_name</th>\n",
       "      <th>last_name</th>\n",
       "      <th>is_active</th>\n",
       "    </tr>\n",
       "  </thead>\n",
       "  <tbody>\n",
       "    <tr>\n",
       "      <th>3966</th>\n",
       "      <td>78207</td>\n",
       "      <td>Bill Smith</td>\n",
       "      <td>Bill</td>\n",
       "      <td>Smith</td>\n",
       "      <td>0</td>\n",
       "    </tr>\n",
       "    <tr>\n",
       "      <th>3967</th>\n",
       "      <td>78209</td>\n",
       "      <td>Bill Smith</td>\n",
       "      <td>Bill</td>\n",
       "      <td>Smith</td>\n",
       "      <td>0</td>\n",
       "    </tr>\n",
       "    <tr>\n",
       "      <th>1137</th>\n",
       "      <td>76609</td>\n",
       "      <td>Bob Duffy</td>\n",
       "      <td>Bob</td>\n",
       "      <td>Duffy</td>\n",
       "      <td>0</td>\n",
       "    </tr>\n",
       "    <tr>\n",
       "      <th>1138</th>\n",
       "      <td>76610</td>\n",
       "      <td>Bob Duffy</td>\n",
       "      <td>Bob</td>\n",
       "      <td>Duffy</td>\n",
       "      <td>0</td>\n",
       "    </tr>\n",
       "    <tr>\n",
       "      <th>2203</th>\n",
       "      <td>77193</td>\n",
       "      <td>Bobby Jones</td>\n",
       "      <td>Bobby</td>\n",
       "      <td>Jones</td>\n",
       "      <td>0</td>\n",
       "    </tr>\n",
       "    <tr>\n",
       "      <th>2204</th>\n",
       "      <td>200784</td>\n",
       "      <td>Bobby Jones</td>\n",
       "      <td>Bobby</td>\n",
       "      <td>Jones</td>\n",
       "      <td>0</td>\n",
       "    </tr>\n",
       "    <tr>\n",
       "      <th>4630</th>\n",
       "      <td>1630314</td>\n",
       "      <td>Brandon Williams</td>\n",
       "      <td>Brandon</td>\n",
       "      <td>Williams</td>\n",
       "      <td>0</td>\n",
       "    </tr>\n",
       "    <tr>\n",
       "      <th>4629</th>\n",
       "      <td>1585</td>\n",
       "      <td>Brandon Williams</td>\n",
       "      <td>Brandon</td>\n",
       "      <td>Williams</td>\n",
       "      <td>0</td>\n",
       "    </tr>\n",
       "    <tr>\n",
       "      <th>1829</th>\n",
       "      <td>76990</td>\n",
       "      <td>Cedric Henderson</td>\n",
       "      <td>Cedric</td>\n",
       "      <td>Henderson</td>\n",
       "      <td>0</td>\n",
       "    </tr>\n",
       "    <tr>\n",
       "      <th>1828</th>\n",
       "      <td>1538</td>\n",
       "      <td>Cedric Henderson</td>\n",
       "      <td>Cedric</td>\n",
       "      <td>Henderson</td>\n",
       "      <td>0</td>\n",
       "    </tr>\n",
       "  </tbody>\n",
       "</table>\n",
       "</div>"
      ],
      "text/plain": [
       "           id         full_name first_name  last_name  is_active\n",
       "3966    78207        Bill Smith       Bill      Smith          0\n",
       "3967    78209        Bill Smith       Bill      Smith          0\n",
       "1137    76609         Bob Duffy        Bob      Duffy          0\n",
       "1138    76610         Bob Duffy        Bob      Duffy          0\n",
       "2203    77193       Bobby Jones      Bobby      Jones          0\n",
       "2204   200784       Bobby Jones      Bobby      Jones          0\n",
       "4630  1630314  Brandon Williams    Brandon   Williams          0\n",
       "4629     1585  Brandon Williams    Brandon   Williams          0\n",
       "1829    76990  Cedric Henderson     Cedric  Henderson          0\n",
       "1828     1538  Cedric Henderson     Cedric  Henderson          0"
      ]
     },
     "metadata": {},
     "output_type": "display_data"
    },
    {
     "name": "stdout",
     "output_type": "stream",
     "text": [
      "🔁 Duplicados en first_name: 532\n"
     ]
    },
    {
     "data": {
      "application/vnd.microsoft.datawrangler.viewer.v0+json": {
       "columns": [
        {
         "name": "index",
         "rawType": "int64",
         "type": "integer"
        },
        {
         "name": "id",
         "rawType": "int64",
         "type": "integer"
        },
        {
         "name": "full_name",
         "rawType": "object",
         "type": "string"
        },
        {
         "name": "first_name",
         "rawType": "object",
         "type": "string"
        },
        {
         "name": "last_name",
         "rawType": "object",
         "type": "string"
        },
        {
         "name": "is_active",
         "rawType": "int64",
         "type": "integer"
        }
       ],
       "ref": "2740f65b-59df-42f5-9789-c84710a22fcc",
       "rows": [
        [
         "4787",
         "78627",
         "A.J. Wynder",
         "A.J.",
         "Wynder",
         "0"
        ],
        [
         "1237",
         "76672",
         "A.J. English",
         "A.J.",
         "English",
         "0"
        ],
        [
         "1595",
         "1631260",
         "A.J. Green",
         "A.J.",
         "Green",
         "1"
        ],
        [
         "1665",
         "2062",
         "A.J. Guyton",
         "A.J.",
         "Guyton",
         "0"
        ],
        [
         "2492",
         "1630639",
         "A.J. Lawson",
         "A.J.",
         "Lawson",
         "1"
        ],
        [
         "466",
         "1920",
         "A.J. Bramlett",
         "A.J.",
         "Bramlett",
         "0"
        ],
        [
         "1632",
         "1631100",
         "AJ Griffin",
         "AJ",
         "Griffin",
         "1"
        ],
        [
         "1710",
         "1627773",
         "AJ Hammons",
         "AJ",
         "Hammons",
         "0"
        ],
        [
         "3472",
         "201985",
         "AJ Price",
         "AJ",
         "Price",
         "0"
        ],
        [
         "2842",
         "243",
         "Aaron McKie",
         "Aaron",
         "McKie",
         "0"
        ]
       ],
       "shape": {
        "columns": 5,
        "rows": 10
       }
      },
      "text/html": [
       "<div>\n",
       "<style scoped>\n",
       "    .dataframe tbody tr th:only-of-type {\n",
       "        vertical-align: middle;\n",
       "    }\n",
       "\n",
       "    .dataframe tbody tr th {\n",
       "        vertical-align: top;\n",
       "    }\n",
       "\n",
       "    .dataframe thead th {\n",
       "        text-align: right;\n",
       "    }\n",
       "</style>\n",
       "<table border=\"1\" class=\"dataframe\">\n",
       "  <thead>\n",
       "    <tr style=\"text-align: right;\">\n",
       "      <th></th>\n",
       "      <th>id</th>\n",
       "      <th>full_name</th>\n",
       "      <th>first_name</th>\n",
       "      <th>last_name</th>\n",
       "      <th>is_active</th>\n",
       "    </tr>\n",
       "  </thead>\n",
       "  <tbody>\n",
       "    <tr>\n",
       "      <th>4787</th>\n",
       "      <td>78627</td>\n",
       "      <td>A.J. Wynder</td>\n",
       "      <td>A.J.</td>\n",
       "      <td>Wynder</td>\n",
       "      <td>0</td>\n",
       "    </tr>\n",
       "    <tr>\n",
       "      <th>1237</th>\n",
       "      <td>76672</td>\n",
       "      <td>A.J. English</td>\n",
       "      <td>A.J.</td>\n",
       "      <td>English</td>\n",
       "      <td>0</td>\n",
       "    </tr>\n",
       "    <tr>\n",
       "      <th>1595</th>\n",
       "      <td>1631260</td>\n",
       "      <td>A.J. Green</td>\n",
       "      <td>A.J.</td>\n",
       "      <td>Green</td>\n",
       "      <td>1</td>\n",
       "    </tr>\n",
       "    <tr>\n",
       "      <th>1665</th>\n",
       "      <td>2062</td>\n",
       "      <td>A.J. Guyton</td>\n",
       "      <td>A.J.</td>\n",
       "      <td>Guyton</td>\n",
       "      <td>0</td>\n",
       "    </tr>\n",
       "    <tr>\n",
       "      <th>2492</th>\n",
       "      <td>1630639</td>\n",
       "      <td>A.J. Lawson</td>\n",
       "      <td>A.J.</td>\n",
       "      <td>Lawson</td>\n",
       "      <td>1</td>\n",
       "    </tr>\n",
       "    <tr>\n",
       "      <th>466</th>\n",
       "      <td>1920</td>\n",
       "      <td>A.J. Bramlett</td>\n",
       "      <td>A.J.</td>\n",
       "      <td>Bramlett</td>\n",
       "      <td>0</td>\n",
       "    </tr>\n",
       "    <tr>\n",
       "      <th>1632</th>\n",
       "      <td>1631100</td>\n",
       "      <td>AJ Griffin</td>\n",
       "      <td>AJ</td>\n",
       "      <td>Griffin</td>\n",
       "      <td>1</td>\n",
       "    </tr>\n",
       "    <tr>\n",
       "      <th>1710</th>\n",
       "      <td>1627773</td>\n",
       "      <td>AJ Hammons</td>\n",
       "      <td>AJ</td>\n",
       "      <td>Hammons</td>\n",
       "      <td>0</td>\n",
       "    </tr>\n",
       "    <tr>\n",
       "      <th>3472</th>\n",
       "      <td>201985</td>\n",
       "      <td>AJ Price</td>\n",
       "      <td>AJ</td>\n",
       "      <td>Price</td>\n",
       "      <td>0</td>\n",
       "    </tr>\n",
       "    <tr>\n",
       "      <th>2842</th>\n",
       "      <td>243</td>\n",
       "      <td>Aaron McKie</td>\n",
       "      <td>Aaron</td>\n",
       "      <td>McKie</td>\n",
       "      <td>0</td>\n",
       "    </tr>\n",
       "  </tbody>\n",
       "</table>\n",
       "</div>"
      ],
      "text/plain": [
       "           id      full_name first_name last_name  is_active\n",
       "4787    78627    A.J. Wynder       A.J.    Wynder          0\n",
       "1237    76672   A.J. English       A.J.   English          0\n",
       "1595  1631260     A.J. Green       A.J.     Green          1\n",
       "1665     2062    A.J. Guyton       A.J.    Guyton          0\n",
       "2492  1630639    A.J. Lawson       A.J.    Lawson          1\n",
       "466      1920  A.J. Bramlett       A.J.  Bramlett          0\n",
       "1632  1631100     AJ Griffin         AJ   Griffin          1\n",
       "1710  1627773     AJ Hammons         AJ   Hammons          0\n",
       "3472   201985       AJ Price         AJ     Price          0\n",
       "2842      243    Aaron McKie      Aaron     McKie          0"
      ]
     },
     "metadata": {},
     "output_type": "display_data"
    },
    {
     "name": "stdout",
     "output_type": "stream",
     "text": [
      "🔁 Duplicados en last_name: 576\n"
     ]
    },
    {
     "data": {
      "application/vnd.microsoft.datawrangler.viewer.v0+json": {
       "columns": [
        {
         "name": "index",
         "rawType": "int64",
         "type": "integer"
        },
        {
         "name": "id",
         "rawType": "int64",
         "type": "integer"
        },
        {
         "name": "full_name",
         "rawType": "object",
         "type": "string"
        },
        {
         "name": "first_name",
         "rawType": "object",
         "type": "string"
        },
        {
         "name": "last_name",
         "rawType": "object",
         "type": "string"
        },
        {
         "name": "is_active",
         "rawType": "int64",
         "type": "integer"
        }
       ],
       "ref": "eb77f0a2-007e-4ab3-9bfc-4d284f6e84dd",
       "rows": [
        [
         "16",
         "76011",
         "Alvan Adams",
         "Alvan",
         "Adams",
         "0"
        ],
        [
         "17",
         "76012",
         "Don Adams",
         "Don",
         "Adams",
         "0"
        ],
        [
         "18",
         "200801",
         "Hassan Adams",
         "Hassan",
         "Adams",
         "0"
        ],
        [
         "19",
         "1629121",
         "Jaylen Adams",
         "Jaylen",
         "Adams",
         "0"
        ],
        [
         "20",
         "203919",
         "Jordan Adams",
         "Jordan",
         "Adams",
         "0"
        ],
        [
         "21",
         "149",
         "Michael Adams",
         "Michael",
         "Adams",
         "0"
        ],
        [
         "22",
         "203500",
         "Steven Adams",
         "Steven",
         "Adams",
         "1"
        ],
        [
         "53",
         "2349",
         "Victor Alexander",
         "Victor",
         "Alexander",
         "0"
        ],
        [
         "52",
         "1630234",
         "Ty-Shon Alexander",
         "Ty-Shon",
         "Alexander",
         "0"
        ],
        [
         "51",
         "1629734",
         "Kyle Alexander",
         "Kyle",
         "Alexander",
         "0"
        ]
       ],
       "shape": {
        "columns": 5,
        "rows": 10
       }
      },
      "text/html": [
       "<div>\n",
       "<style scoped>\n",
       "    .dataframe tbody tr th:only-of-type {\n",
       "        vertical-align: middle;\n",
       "    }\n",
       "\n",
       "    .dataframe tbody tr th {\n",
       "        vertical-align: top;\n",
       "    }\n",
       "\n",
       "    .dataframe thead th {\n",
       "        text-align: right;\n",
       "    }\n",
       "</style>\n",
       "<table border=\"1\" class=\"dataframe\">\n",
       "  <thead>\n",
       "    <tr style=\"text-align: right;\">\n",
       "      <th></th>\n",
       "      <th>id</th>\n",
       "      <th>full_name</th>\n",
       "      <th>first_name</th>\n",
       "      <th>last_name</th>\n",
       "      <th>is_active</th>\n",
       "    </tr>\n",
       "  </thead>\n",
       "  <tbody>\n",
       "    <tr>\n",
       "      <th>16</th>\n",
       "      <td>76011</td>\n",
       "      <td>Alvan Adams</td>\n",
       "      <td>Alvan</td>\n",
       "      <td>Adams</td>\n",
       "      <td>0</td>\n",
       "    </tr>\n",
       "    <tr>\n",
       "      <th>17</th>\n",
       "      <td>76012</td>\n",
       "      <td>Don Adams</td>\n",
       "      <td>Don</td>\n",
       "      <td>Adams</td>\n",
       "      <td>0</td>\n",
       "    </tr>\n",
       "    <tr>\n",
       "      <th>18</th>\n",
       "      <td>200801</td>\n",
       "      <td>Hassan Adams</td>\n",
       "      <td>Hassan</td>\n",
       "      <td>Adams</td>\n",
       "      <td>0</td>\n",
       "    </tr>\n",
       "    <tr>\n",
       "      <th>19</th>\n",
       "      <td>1629121</td>\n",
       "      <td>Jaylen Adams</td>\n",
       "      <td>Jaylen</td>\n",
       "      <td>Adams</td>\n",
       "      <td>0</td>\n",
       "    </tr>\n",
       "    <tr>\n",
       "      <th>20</th>\n",
       "      <td>203919</td>\n",
       "      <td>Jordan Adams</td>\n",
       "      <td>Jordan</td>\n",
       "      <td>Adams</td>\n",
       "      <td>0</td>\n",
       "    </tr>\n",
       "    <tr>\n",
       "      <th>21</th>\n",
       "      <td>149</td>\n",
       "      <td>Michael Adams</td>\n",
       "      <td>Michael</td>\n",
       "      <td>Adams</td>\n",
       "      <td>0</td>\n",
       "    </tr>\n",
       "    <tr>\n",
       "      <th>22</th>\n",
       "      <td>203500</td>\n",
       "      <td>Steven Adams</td>\n",
       "      <td>Steven</td>\n",
       "      <td>Adams</td>\n",
       "      <td>1</td>\n",
       "    </tr>\n",
       "    <tr>\n",
       "      <th>53</th>\n",
       "      <td>2349</td>\n",
       "      <td>Victor Alexander</td>\n",
       "      <td>Victor</td>\n",
       "      <td>Alexander</td>\n",
       "      <td>0</td>\n",
       "    </tr>\n",
       "    <tr>\n",
       "      <th>52</th>\n",
       "      <td>1630234</td>\n",
       "      <td>Ty-Shon Alexander</td>\n",
       "      <td>Ty-Shon</td>\n",
       "      <td>Alexander</td>\n",
       "      <td>0</td>\n",
       "    </tr>\n",
       "    <tr>\n",
       "      <th>51</th>\n",
       "      <td>1629734</td>\n",
       "      <td>Kyle Alexander</td>\n",
       "      <td>Kyle</td>\n",
       "      <td>Alexander</td>\n",
       "      <td>0</td>\n",
       "    </tr>\n",
       "  </tbody>\n",
       "</table>\n",
       "</div>"
      ],
      "text/plain": [
       "         id          full_name first_name  last_name  is_active\n",
       "16    76011        Alvan Adams      Alvan      Adams          0\n",
       "17    76012          Don Adams        Don      Adams          0\n",
       "18   200801       Hassan Adams     Hassan      Adams          0\n",
       "19  1629121       Jaylen Adams     Jaylen      Adams          0\n",
       "20   203919       Jordan Adams     Jordan      Adams          0\n",
       "21      149      Michael Adams    Michael      Adams          0\n",
       "22   203500       Steven Adams     Steven      Adams          1\n",
       "53     2349   Victor Alexander     Victor  Alexander          0\n",
       "52  1630234  Ty-Shon Alexander    Ty-Shon  Alexander          0\n",
       "51  1629734     Kyle Alexander       Kyle  Alexander          0"
      ]
     },
     "metadata": {},
     "output_type": "display_data"
    }
   ],
   "source": [
    "# 📌 Mostrar los primeros 10 duplicados en full_name\n",
    "duplicados_full_name = df[df.duplicated(subset='full_name', keep=False)]\n",
    "print(f\"🔁 Duplicados en full_name: {duplicados_full_name['full_name'].nunique()}\")\n",
    "display(duplicados_full_name.sort_values('full_name').head(10))\n",
    "\n",
    "# 📌 Mostrar los primeros 10 duplicados en first_name\n",
    "duplicados_first_name = df[df.duplicated(subset='first_name', keep=False)]\n",
    "print(f\"🔁 Duplicados en first_name: {duplicados_first_name['first_name'].nunique()}\")\n",
    "display(duplicados_first_name.sort_values('first_name').head(10))\n",
    "\n",
    "# 📌 Mostrar los primeros 10 duplicados en last_name\n",
    "duplicados_last_name = df[df.duplicated(subset='last_name', keep=False)]\n",
    "print(f\"🔁 Duplicados en last_name: {duplicados_last_name['last_name'].nunique()}\")\n",
    "display(duplicados_last_name.sort_values('last_name').head(10))\n"
   ]
  },
  {
   "cell_type": "markdown",
   "id": "606f1f6d",
   "metadata": {},
   "source": [
    "- LECTURA DEL ARCHIVO COMMON_PLAYER_INFO.CSV PARA VERIFICAR COINCIDENCIA EN LOS NOMBRES DUPLICADOS COMPARANDO POR ID"
   ]
  },
  {
   "cell_type": "code",
   "execution_count": 13,
   "id": "2ee0b6c5",
   "metadata": {},
   "outputs": [
    {
     "data": {
      "application/vnd.microsoft.datawrangler.viewer.v0+json": {
       "columns": [
        {
         "name": "index",
         "rawType": "int64",
         "type": "integer"
        },
        {
         "name": "person_id",
         "rawType": "int64",
         "type": "integer"
        },
        {
         "name": "first_name",
         "rawType": "object",
         "type": "string"
        },
        {
         "name": "last_name",
         "rawType": "object",
         "type": "string"
        },
        {
         "name": "display_first_last",
         "rawType": "object",
         "type": "string"
        },
        {
         "name": "display_last_comma_first",
         "rawType": "object",
         "type": "string"
        },
        {
         "name": "display_fi_last",
         "rawType": "object",
         "type": "string"
        },
        {
         "name": "player_slug",
         "rawType": "object",
         "type": "string"
        },
        {
         "name": "birthdate",
         "rawType": "object",
         "type": "string"
        },
        {
         "name": "school",
         "rawType": "object",
         "type": "string"
        },
        {
         "name": "country",
         "rawType": "object",
         "type": "string"
        },
        {
         "name": "last_affiliation",
         "rawType": "object",
         "type": "string"
        },
        {
         "name": "height",
         "rawType": "object",
         "type": "string"
        },
        {
         "name": "weight",
         "rawType": "float64",
         "type": "float"
        },
        {
         "name": "season_exp",
         "rawType": "int64",
         "type": "integer"
        },
        {
         "name": "jersey",
         "rawType": "object",
         "type": "string"
        },
        {
         "name": "position",
         "rawType": "object",
         "type": "string"
        },
        {
         "name": "rosterstatus",
         "rawType": "object",
         "type": "string"
        },
        {
         "name": "games_played_current_season_flag",
         "rawType": "object",
         "type": "string"
        },
        {
         "name": "team_id",
         "rawType": "int64",
         "type": "integer"
        },
        {
         "name": "team_name",
         "rawType": "object",
         "type": "string"
        },
        {
         "name": "team_abbreviation",
         "rawType": "object",
         "type": "string"
        },
        {
         "name": "team_code",
         "rawType": "object",
         "type": "string"
        },
        {
         "name": "team_city",
         "rawType": "object",
         "type": "string"
        },
        {
         "name": "playercode",
         "rawType": "object",
         "type": "string"
        },
        {
         "name": "from_year",
         "rawType": "float64",
         "type": "float"
        },
        {
         "name": "to_year",
         "rawType": "float64",
         "type": "float"
        },
        {
         "name": "dleague_flag",
         "rawType": "object",
         "type": "string"
        },
        {
         "name": "nba_flag",
         "rawType": "object",
         "type": "string"
        },
        {
         "name": "games_played_flag",
         "rawType": "object",
         "type": "string"
        },
        {
         "name": "draft_year",
         "rawType": "object",
         "type": "string"
        },
        {
         "name": "draft_round",
         "rawType": "object",
         "type": "string"
        },
        {
         "name": "draft_number",
         "rawType": "object",
         "type": "string"
        },
        {
         "name": "greatest_75_flag",
         "rawType": "object",
         "type": "string"
        }
       ],
       "ref": "2ecc9379-4c74-4ed4-beae-2e5c4319b274",
       "rows": [
        [
         "0",
         "76001",
         "Alaa",
         "Abdelnaby",
         "Alaa Abdelnaby",
         "Abdelnaby, Alaa",
         "A. Abdelnaby",
         "alaa-abdelnaby",
         "24/6/1968",
         "Duke",
         "USA",
         "Duke/USA",
         "6-Oct",
         "240.0",
         "5",
         "30",
         "Forward",
         "Inactive",
         "N",
         "1610612757",
         "Trail Blazers",
         "POR",
         "blazers",
         "Portland",
         "HISTADD_alaa_abdelnaby",
         "1990.0",
         "1994.0",
         "N",
         "Y",
         "Y",
         "1990",
         "1",
         "25",
         "N"
        ],
        [
         "1",
         "76003",
         "Kareem",
         "Abdul-Jabbar",
         "Kareem Abdul-Jabbar",
         "Abdul-Jabbar, Kareem",
         "K. Abdul-Jabbar",
         "kareem-abdul-jabbar",
         "16/4/1947",
         "UCLA",
         "USA",
         "UCLA/USA",
         "7-Feb",
         "225.0",
         "20",
         "33",
         "Center",
         "Inactive",
         "N",
         "1610612747",
         "Lakers",
         "LAL",
         "lakers",
         "Los Angeles",
         "HISTADD_kareem_abdul-jabbar",
         "1969.0",
         "1988.0",
         "N",
         "Y",
         "Y",
         "1969",
         "1",
         "1",
         "Y"
        ],
        [
         "2",
         "1505",
         "Tariq",
         "Abdul-Wahad",
         "Tariq Abdul-Wahad",
         "Abdul-Wahad, Tariq",
         "T. Abdul-Wahad",
         "tariq-abdul-wahad",
         "3/11/1974",
         "San Jose State",
         "France",
         "San Jose State/France",
         "6-Jun",
         "235.0",
         "7",
         "9",
         "Forward-Guard",
         "Inactive",
         "N",
         "1610612758",
         "Kings",
         "SAC",
         "kings",
         "Sacramento",
         "tariq_abdul-wahad",
         "1997.0",
         "2003.0",
         "N",
         "Y",
         "Y",
         "1997",
         "1",
         "11",
         "N"
        ],
        [
         "3",
         "949",
         "Shareef",
         "Abdur-Rahim",
         "Shareef Abdur-Rahim",
         "Abdur-Rahim, Shareef",
         "S. Abdur-Rahim",
         "shareef-abdur-rahim",
         "11/12/1976",
         "California",
         "USA",
         "California/USA",
         "6-Sep",
         "245.0",
         "13",
         "3",
         "Forward",
         "Inactive",
         "N",
         "1610612763",
         "Grizzlies",
         "VAN",
         "grizzlies",
         "Vancouver",
         "shareef_abdur-rahim",
         "1996.0",
         "2007.0",
         "N",
         "Y",
         "Y",
         "1996",
         "1",
         "3",
         "N"
        ],
        [
         "4",
         "76005",
         "Tom",
         "Abernethy",
         "Tom Abernethy",
         "Abernethy, Tom",
         "T. Abernethy",
         "tom-abernethy",
         "6/5/1954",
         "Indiana",
         "USA",
         "Indiana/USA",
         "6-Jul",
         "220.0",
         "5",
         "5",
         "Forward",
         "Inactive",
         "N",
         "1610612744",
         "Warriors",
         "GOS",
         "warriors",
         "Golden State",
         "HISTADD_tom_abernethy",
         "1976.0",
         "1980.0",
         "N",
         "Y",
         "Y",
         "1976",
         "3",
         "43",
         "N"
        ]
       ],
       "shape": {
        "columns": 33,
        "rows": 5
       }
      },
      "text/html": [
       "<div>\n",
       "<style scoped>\n",
       "    .dataframe tbody tr th:only-of-type {\n",
       "        vertical-align: middle;\n",
       "    }\n",
       "\n",
       "    .dataframe tbody tr th {\n",
       "        vertical-align: top;\n",
       "    }\n",
       "\n",
       "    .dataframe thead th {\n",
       "        text-align: right;\n",
       "    }\n",
       "</style>\n",
       "<table border=\"1\" class=\"dataframe\">\n",
       "  <thead>\n",
       "    <tr style=\"text-align: right;\">\n",
       "      <th></th>\n",
       "      <th>person_id</th>\n",
       "      <th>first_name</th>\n",
       "      <th>last_name</th>\n",
       "      <th>display_first_last</th>\n",
       "      <th>display_last_comma_first</th>\n",
       "      <th>display_fi_last</th>\n",
       "      <th>player_slug</th>\n",
       "      <th>birthdate</th>\n",
       "      <th>school</th>\n",
       "      <th>country</th>\n",
       "      <th>...</th>\n",
       "      <th>playercode</th>\n",
       "      <th>from_year</th>\n",
       "      <th>to_year</th>\n",
       "      <th>dleague_flag</th>\n",
       "      <th>nba_flag</th>\n",
       "      <th>games_played_flag</th>\n",
       "      <th>draft_year</th>\n",
       "      <th>draft_round</th>\n",
       "      <th>draft_number</th>\n",
       "      <th>greatest_75_flag</th>\n",
       "    </tr>\n",
       "  </thead>\n",
       "  <tbody>\n",
       "    <tr>\n",
       "      <th>0</th>\n",
       "      <td>76001</td>\n",
       "      <td>Alaa</td>\n",
       "      <td>Abdelnaby</td>\n",
       "      <td>Alaa Abdelnaby</td>\n",
       "      <td>Abdelnaby, Alaa</td>\n",
       "      <td>A. Abdelnaby</td>\n",
       "      <td>alaa-abdelnaby</td>\n",
       "      <td>24/6/1968</td>\n",
       "      <td>Duke</td>\n",
       "      <td>USA</td>\n",
       "      <td>...</td>\n",
       "      <td>HISTADD_alaa_abdelnaby</td>\n",
       "      <td>1990.0</td>\n",
       "      <td>1994.0</td>\n",
       "      <td>N</td>\n",
       "      <td>Y</td>\n",
       "      <td>Y</td>\n",
       "      <td>1990</td>\n",
       "      <td>1</td>\n",
       "      <td>25</td>\n",
       "      <td>N</td>\n",
       "    </tr>\n",
       "    <tr>\n",
       "      <th>1</th>\n",
       "      <td>76003</td>\n",
       "      <td>Kareem</td>\n",
       "      <td>Abdul-Jabbar</td>\n",
       "      <td>Kareem Abdul-Jabbar</td>\n",
       "      <td>Abdul-Jabbar, Kareem</td>\n",
       "      <td>K. Abdul-Jabbar</td>\n",
       "      <td>kareem-abdul-jabbar</td>\n",
       "      <td>16/4/1947</td>\n",
       "      <td>UCLA</td>\n",
       "      <td>USA</td>\n",
       "      <td>...</td>\n",
       "      <td>HISTADD_kareem_abdul-jabbar</td>\n",
       "      <td>1969.0</td>\n",
       "      <td>1988.0</td>\n",
       "      <td>N</td>\n",
       "      <td>Y</td>\n",
       "      <td>Y</td>\n",
       "      <td>1969</td>\n",
       "      <td>1</td>\n",
       "      <td>1</td>\n",
       "      <td>Y</td>\n",
       "    </tr>\n",
       "    <tr>\n",
       "      <th>2</th>\n",
       "      <td>1505</td>\n",
       "      <td>Tariq</td>\n",
       "      <td>Abdul-Wahad</td>\n",
       "      <td>Tariq Abdul-Wahad</td>\n",
       "      <td>Abdul-Wahad, Tariq</td>\n",
       "      <td>T. Abdul-Wahad</td>\n",
       "      <td>tariq-abdul-wahad</td>\n",
       "      <td>3/11/1974</td>\n",
       "      <td>San Jose State</td>\n",
       "      <td>France</td>\n",
       "      <td>...</td>\n",
       "      <td>tariq_abdul-wahad</td>\n",
       "      <td>1997.0</td>\n",
       "      <td>2003.0</td>\n",
       "      <td>N</td>\n",
       "      <td>Y</td>\n",
       "      <td>Y</td>\n",
       "      <td>1997</td>\n",
       "      <td>1</td>\n",
       "      <td>11</td>\n",
       "      <td>N</td>\n",
       "    </tr>\n",
       "    <tr>\n",
       "      <th>3</th>\n",
       "      <td>949</td>\n",
       "      <td>Shareef</td>\n",
       "      <td>Abdur-Rahim</td>\n",
       "      <td>Shareef Abdur-Rahim</td>\n",
       "      <td>Abdur-Rahim, Shareef</td>\n",
       "      <td>S. Abdur-Rahim</td>\n",
       "      <td>shareef-abdur-rahim</td>\n",
       "      <td>11/12/1976</td>\n",
       "      <td>California</td>\n",
       "      <td>USA</td>\n",
       "      <td>...</td>\n",
       "      <td>shareef_abdur-rahim</td>\n",
       "      <td>1996.0</td>\n",
       "      <td>2007.0</td>\n",
       "      <td>N</td>\n",
       "      <td>Y</td>\n",
       "      <td>Y</td>\n",
       "      <td>1996</td>\n",
       "      <td>1</td>\n",
       "      <td>3</td>\n",
       "      <td>N</td>\n",
       "    </tr>\n",
       "    <tr>\n",
       "      <th>4</th>\n",
       "      <td>76005</td>\n",
       "      <td>Tom</td>\n",
       "      <td>Abernethy</td>\n",
       "      <td>Tom Abernethy</td>\n",
       "      <td>Abernethy, Tom</td>\n",
       "      <td>T. Abernethy</td>\n",
       "      <td>tom-abernethy</td>\n",
       "      <td>6/5/1954</td>\n",
       "      <td>Indiana</td>\n",
       "      <td>USA</td>\n",
       "      <td>...</td>\n",
       "      <td>HISTADD_tom_abernethy</td>\n",
       "      <td>1976.0</td>\n",
       "      <td>1980.0</td>\n",
       "      <td>N</td>\n",
       "      <td>Y</td>\n",
       "      <td>Y</td>\n",
       "      <td>1976</td>\n",
       "      <td>3</td>\n",
       "      <td>43</td>\n",
       "      <td>N</td>\n",
       "    </tr>\n",
       "  </tbody>\n",
       "</table>\n",
       "<p>5 rows × 33 columns</p>\n",
       "</div>"
      ],
      "text/plain": [
       "   person_id first_name     last_name   display_first_last  \\\n",
       "0      76001       Alaa     Abdelnaby       Alaa Abdelnaby   \n",
       "1      76003     Kareem  Abdul-Jabbar  Kareem Abdul-Jabbar   \n",
       "2       1505      Tariq   Abdul-Wahad    Tariq Abdul-Wahad   \n",
       "3        949    Shareef   Abdur-Rahim  Shareef Abdur-Rahim   \n",
       "4      76005        Tom     Abernethy        Tom Abernethy   \n",
       "\n",
       "  display_last_comma_first  display_fi_last          player_slug   birthdate  \\\n",
       "0          Abdelnaby, Alaa     A. Abdelnaby       alaa-abdelnaby   24/6/1968   \n",
       "1     Abdul-Jabbar, Kareem  K. Abdul-Jabbar  kareem-abdul-jabbar   16/4/1947   \n",
       "2       Abdul-Wahad, Tariq   T. Abdul-Wahad    tariq-abdul-wahad   3/11/1974   \n",
       "3     Abdur-Rahim, Shareef   S. Abdur-Rahim  shareef-abdur-rahim  11/12/1976   \n",
       "4           Abernethy, Tom     T. Abernethy        tom-abernethy    6/5/1954   \n",
       "\n",
       "           school country  ...                   playercode from_year  \\\n",
       "0            Duke     USA  ...       HISTADD_alaa_abdelnaby    1990.0   \n",
       "1            UCLA     USA  ...  HISTADD_kareem_abdul-jabbar    1969.0   \n",
       "2  San Jose State  France  ...            tariq_abdul-wahad    1997.0   \n",
       "3      California     USA  ...          shareef_abdur-rahim    1996.0   \n",
       "4         Indiana     USA  ...        HISTADD_tom_abernethy    1976.0   \n",
       "\n",
       "   to_year  dleague_flag nba_flag games_played_flag draft_year draft_round  \\\n",
       "0   1994.0             N        Y                 Y       1990           1   \n",
       "1   1988.0             N        Y                 Y       1969           1   \n",
       "2   2003.0             N        Y                 Y       1997           1   \n",
       "3   2007.0             N        Y                 Y       1996           1   \n",
       "4   1980.0             N        Y                 Y       1976           3   \n",
       "\n",
       "   draft_number greatest_75_flag  \n",
       "0            25                N  \n",
       "1             1                Y  \n",
       "2            11                N  \n",
       "3             3                N  \n",
       "4            43                N  \n",
       "\n",
       "[5 rows x 33 columns]"
      ]
     },
     "execution_count": 13,
     "metadata": {},
     "output_type": "execute_result"
    }
   ],
   "source": [
    "# 📌 Ruta del nuevo archivo CSV\n",
    "ruta_common = r\"C:\\Users\\User\\OneDrive\\Documentos\\proyecto_final\\data_en_csv\\madre\\common_player_info.csv\"\n",
    "\n",
    "# 📌 Cargamos el archivo\n",
    "df_common = pd.read_csv(ruta_common)\n",
    "\n",
    "# 📌 Mostramos las primeras filas para confirmar la carga\n",
    "df_common.head()"
   ]
  },
  {
   "cell_type": "code",
   "execution_count": 17,
   "id": "cb222f61",
   "metadata": {},
   "outputs": [],
   "source": [
    "import pandas as pd"
   ]
  },
  {
   "cell_type": "markdown",
   "id": "b5ed79dc",
   "metadata": {},
   "source": [
    "- CREACION DEL DATA FRAME CON LO VALORES DUPLICADOS DE LA TABLA PLAYER EN LA COLUMNA FULL_NAME"
   ]
  },
  {
   "cell_type": "code",
   "execution_count": 18,
   "id": "dd69067c",
   "metadata": {},
   "outputs": [
    {
     "name": "stdout",
     "output_type": "stream",
     "text": [
      "🔁 Total de filas con full_name duplicado: 78\n"
     ]
    },
    {
     "data": {
      "application/vnd.microsoft.datawrangler.viewer.v0+json": {
       "columns": [
        {
         "name": "index",
         "rawType": "int64",
         "type": "integer"
        },
        {
         "name": "id",
         "rawType": "int64",
         "type": "integer"
        },
        {
         "name": "full_name",
         "rawType": "object",
         "type": "string"
        },
        {
         "name": "first_name",
         "rawType": "object",
         "type": "string"
        },
        {
         "name": "last_name",
         "rawType": "object",
         "type": "string"
        },
        {
         "name": "is_active",
         "rawType": "int64",
         "type": "integer"
        }
       ],
       "ref": "505c0b2d-d247-452b-859a-0e015195b595",
       "rows": [
        [
         "3966",
         "78207",
         "Bill Smith",
         "Bill",
         "Smith",
         "0"
        ],
        [
         "3967",
         "78209",
         "Bill Smith",
         "Bill",
         "Smith",
         "0"
        ],
        [
         "1137",
         "76609",
         "Bob Duffy",
         "Bob",
         "Duffy",
         "0"
        ],
        [
         "1138",
         "76610",
         "Bob Duffy",
         "Bob",
         "Duffy",
         "0"
        ],
        [
         "2203",
         "77193",
         "Bobby Jones",
         "Bobby",
         "Jones",
         "0"
        ],
        [
         "2204",
         "200784",
         "Bobby Jones",
         "Bobby",
         "Jones",
         "0"
        ],
        [
         "4630",
         "1630314",
         "Brandon Williams",
         "Brandon",
         "Williams",
         "0"
        ],
        [
         "4629",
         "1585",
         "Brandon Williams",
         "Brandon",
         "Williams",
         "0"
        ],
        [
         "1829",
         "76990",
         "Cedric Henderson",
         "Cedric",
         "Henderson",
         "0"
        ],
        [
         "1828",
         "1538",
         "Cedric Henderson",
         "Cedric",
         "Henderson",
         "0"
        ],
        [
         "2208",
         "77178",
         "Charles Jones",
         "Charles",
         "Jones",
         "0"
        ],
        [
         "2207",
         "279",
         "Charles Jones",
         "Charles",
         "Jones",
         "0"
        ],
        [
         "3971",
         "1520",
         "Charles Smith",
         "Charles",
         "Smith",
         "0"
        ],
        [
         "3972",
         "78179",
         "Charles Smith",
         "Charles",
         "Smith",
         "0"
        ],
        [
         "3970",
         "293",
         "Charles Smith",
         "Charles",
         "Smith",
         "0"
        ],
        [
         "970",
         "76519",
         "Charlie Davis",
         "Charlie",
         "Davis",
         "0"
        ],
        [
         "969",
         "76518",
         "Charlie Davis",
         "Charlie",
         "Davis",
         "0"
        ],
        [
         "2137",
         "203187",
         "Chris Johnson",
         "Chris",
         "Johnson",
         "0"
        ],
        [
         "2136",
         "202419",
         "Chris Johnson",
         "Chris",
         "Johnson",
         "0"
        ],
        [
         "3973",
         "1814",
         "Chris Smith",
         "Chris",
         "Smith",
         "0"
        ],
        [
         "3974",
         "203147",
         "Chris Smith",
         "Chris",
         "Smith",
         "0"
        ],
        [
         "4772",
         "202874",
         "Chris Wright",
         "Chris",
         "Wright",
         "0"
        ],
        [
         "4773",
         "203203",
         "Chris Wright",
         "Chris",
         "Wright",
         "0"
        ],
        [
         "2143",
         "77139",
         "David Johnson",
         "David",
         "Johnson",
         "0"
        ],
        [
         "2144",
         "1630525",
         "David Johnson",
         "David",
         "Johnson",
         "0"
        ],
        [
         "529",
         "244",
         "Dee Brown",
         "Dee",
         "Brown",
         "0"
        ],
        [
         "530",
         "200793",
         "Dee Brown",
         "Dee",
         "Brown",
         "0"
        ],
        [
         "2148",
         "698",
         "Eddie Johnson",
         "Eddie",
         "Johnson",
         "0"
        ],
        [
         "2149",
         "77144",
         "Eddie Johnson",
         "Eddie",
         "Johnson",
         "0"
        ],
        [
         "2153",
         "77147",
         "George Johnson",
         "George",
         "Johnson",
         "0"
        ],
        [
         "2154",
         "77148",
         "George Johnson",
         "George",
         "Johnson",
         "0"
        ],
        [
         "2155",
         "77149",
         "George Johnson",
         "George",
         "Johnson",
         "0"
        ],
        [
         "2348",
         "77268",
         "George King",
         "George",
         "King",
         "0"
        ],
        [
         "2349",
         "1628994",
         "George King",
         "George",
         "King",
         "0"
        ],
        [
         "1832",
         "201945",
         "Gerald Henderson",
         "Gerald",
         "Henderson",
         "0"
        ],
        [
         "1831",
         "76993",
         "Gerald Henderson",
         "Gerald",
         "Henderson",
         "0"
        ],
        [
         "3594",
         "203318",
         "Glen Rice",
         "Glen",
         "Rice",
         "0"
        ],
        [
         "3593",
         "779",
         "Glen Rice",
         "Glen",
         "Rice",
         "0"
        ],
        [
         "3988",
         "202962",
         "Greg Smith",
         "Greg",
         "Smith",
         "0"
        ],
        [
         "3987",
         "78190",
         "Greg Smith",
         "Greg",
         "Smith",
         "0"
        ],
        [
         "4336",
         "78380",
         "Jack Turner",
         "Jack",
         "Turner",
         "0"
        ],
        [
         "4337",
         "78382",
         "Jack Turner",
         "Jack",
         "Turner",
         "0"
        ],
        [
         "3342",
         "77818",
         "Jim Paxson",
         "Jim",
         "Paxson",
         "0"
        ],
        [
         "3343",
         "77819",
         "Jim Paxson",
         "Jim",
         "Paxson",
         "0"
        ],
        [
         "982",
         "76526",
         "Johnny Davis",
         "Johnny",
         "Davis",
         "0"
        ],
        [
         "983",
         "1631098",
         "Johnny Davis",
         "Johnny",
         "Davis",
         "1"
        ],
        [
         "2167",
         "77154",
         "Ken Johnson",
         "Ken",
         "Johnson",
         "0"
        ],
        [
         "2166",
         "2256",
         "Ken Johnson",
         "Ken",
         "Johnson",
         "0"
        ],
        [
         "2170",
         "913",
         "Larry Johnson",
         "Larry",
         "Johnson",
         "0"
        ],
        [
         "2171",
         "77156",
         "Larry Johnson",
         "Larry",
         "Johnson",
         "0"
        ]
       ],
       "shape": {
        "columns": 5,
        "rows": 78
       }
      },
      "text/html": [
       "<div>\n",
       "<style scoped>\n",
       "    .dataframe tbody tr th:only-of-type {\n",
       "        vertical-align: middle;\n",
       "    }\n",
       "\n",
       "    .dataframe tbody tr th {\n",
       "        vertical-align: top;\n",
       "    }\n",
       "\n",
       "    .dataframe thead th {\n",
       "        text-align: right;\n",
       "    }\n",
       "</style>\n",
       "<table border=\"1\" class=\"dataframe\">\n",
       "  <thead>\n",
       "    <tr style=\"text-align: right;\">\n",
       "      <th></th>\n",
       "      <th>id</th>\n",
       "      <th>full_name</th>\n",
       "      <th>first_name</th>\n",
       "      <th>last_name</th>\n",
       "      <th>is_active</th>\n",
       "    </tr>\n",
       "  </thead>\n",
       "  <tbody>\n",
       "    <tr>\n",
       "      <th>3966</th>\n",
       "      <td>78207</td>\n",
       "      <td>Bill Smith</td>\n",
       "      <td>Bill</td>\n",
       "      <td>Smith</td>\n",
       "      <td>0</td>\n",
       "    </tr>\n",
       "    <tr>\n",
       "      <th>3967</th>\n",
       "      <td>78209</td>\n",
       "      <td>Bill Smith</td>\n",
       "      <td>Bill</td>\n",
       "      <td>Smith</td>\n",
       "      <td>0</td>\n",
       "    </tr>\n",
       "    <tr>\n",
       "      <th>1137</th>\n",
       "      <td>76609</td>\n",
       "      <td>Bob Duffy</td>\n",
       "      <td>Bob</td>\n",
       "      <td>Duffy</td>\n",
       "      <td>0</td>\n",
       "    </tr>\n",
       "    <tr>\n",
       "      <th>1138</th>\n",
       "      <td>76610</td>\n",
       "      <td>Bob Duffy</td>\n",
       "      <td>Bob</td>\n",
       "      <td>Duffy</td>\n",
       "      <td>0</td>\n",
       "    </tr>\n",
       "    <tr>\n",
       "      <th>2203</th>\n",
       "      <td>77193</td>\n",
       "      <td>Bobby Jones</td>\n",
       "      <td>Bobby</td>\n",
       "      <td>Jones</td>\n",
       "      <td>0</td>\n",
       "    </tr>\n",
       "    <tr>\n",
       "      <th>...</th>\n",
       "      <td>...</td>\n",
       "      <td>...</td>\n",
       "      <td>...</td>\n",
       "      <td>...</td>\n",
       "      <td>...</td>\n",
       "    </tr>\n",
       "    <tr>\n",
       "      <th>2963</th>\n",
       "      <td>203183</td>\n",
       "      <td>Tony Mitchell</td>\n",
       "      <td>Tony</td>\n",
       "      <td>Mitchell</td>\n",
       "      <td>0</td>\n",
       "    </tr>\n",
       "    <tr>\n",
       "      <th>3749</th>\n",
       "      <td>201041</td>\n",
       "      <td>Walker Russell</td>\n",
       "      <td>Walker</td>\n",
       "      <td>Russell</td>\n",
       "      <td>0</td>\n",
       "    </tr>\n",
       "    <tr>\n",
       "      <th>3748</th>\n",
       "      <td>78048</td>\n",
       "      <td>Walker Russell</td>\n",
       "      <td>Walker</td>\n",
       "      <td>Russell</td>\n",
       "      <td>0</td>\n",
       "    </tr>\n",
       "    <tr>\n",
       "      <th>2254</th>\n",
       "      <td>77203</td>\n",
       "      <td>Willie Jones</td>\n",
       "      <td>Willie</td>\n",
       "      <td>Jones</td>\n",
       "      <td>0</td>\n",
       "    </tr>\n",
       "    <tr>\n",
       "      <th>2253</th>\n",
       "      <td>77202</td>\n",
       "      <td>Willie Jones</td>\n",
       "      <td>Willie</td>\n",
       "      <td>Jones</td>\n",
       "      <td>0</td>\n",
       "    </tr>\n",
       "  </tbody>\n",
       "</table>\n",
       "<p>78 rows × 5 columns</p>\n",
       "</div>"
      ],
      "text/plain": [
       "          id       full_name first_name last_name  is_active\n",
       "3966   78207      Bill Smith       Bill     Smith          0\n",
       "3967   78209      Bill Smith       Bill     Smith          0\n",
       "1137   76609       Bob Duffy        Bob     Duffy          0\n",
       "1138   76610       Bob Duffy        Bob     Duffy          0\n",
       "2203   77193     Bobby Jones      Bobby     Jones          0\n",
       "...      ...             ...        ...       ...        ...\n",
       "2963  203183   Tony Mitchell       Tony  Mitchell          0\n",
       "3749  201041  Walker Russell     Walker   Russell          0\n",
       "3748   78048  Walker Russell     Walker   Russell          0\n",
       "2254   77203    Willie Jones     Willie     Jones          0\n",
       "2253   77202    Willie Jones     Willie     Jones          0\n",
       "\n",
       "[78 rows x 5 columns]"
      ]
     },
     "execution_count": 18,
     "metadata": {},
     "output_type": "execute_result"
    }
   ],
   "source": [
    "# 📌 Filtrar las filas que tienen nombres duplicados (homónimos)\n",
    "duplicados_fullname_df = df[df.duplicated(subset='full_name', keep=False)].copy()\n",
    "\n",
    "# 📌 Ordenamos por nombre para facilitar la revisión\n",
    "duplicados_fullname_df = duplicados_fullname_df.sort_values(by='full_name')\n",
    "\n",
    "# 📌 Mostrar cantidad total de duplicados encontrados\n",
    "print(f\"🔁 Total de filas con full_name duplicado: {len(duplicados_fullname_df)}\")\n",
    "\n",
    "# 📌 Mostrar el DataFrame\n",
    "duplicados_fullname_df\n",
    "\n"
   ]
  },
  {
   "cell_type": "code",
   "execution_count": 20,
   "id": "4e4b0a6a",
   "metadata": {},
   "outputs": [
    {
     "name": "stdout",
     "output_type": "stream",
     "text": [
      "🔗 IDs en ambos DataFrames: 4171\n",
      "🟢 IDs solo en df: 660\n",
      "🔵 IDs solo en df_common: 0\n"
     ]
    }
   ],
   "source": [
    "# 📌 Extraer los sets de IDs de cada DataFrame\n",
    "ids_df = set(df['id'])\n",
    "ids_common = set(df_common['person_id'])\n",
    "\n",
    "# 📌 Comparar coincidencias\n",
    "ids_en_ambos = ids_df.intersection(ids_common)\n",
    "ids_solo_en_df = ids_df - ids_common\n",
    "ids_solo_en_common = ids_common - ids_df\n",
    "\n",
    "# 📌 Mostrar resultados\n",
    "print(f\"🔗 IDs en ambos DataFrames: {len(ids_en_ambos)}\")\n",
    "print(f\"🟢 IDs solo en df: {len(ids_solo_en_df)}\")\n",
    "print(f\"🔵 IDs solo en df_common: {len(ids_solo_en_common)}\")\n"
   ]
  },
  {
   "cell_type": "code",
   "execution_count": 22,
   "id": "3db92e88",
   "metadata": {},
   "outputs": [
    {
     "name": "stdout",
     "output_type": "stream",
     "text": [
      "✅ Coincidencias de ID con df_common: 70\n",
      "❌ Sin coincidencia en df_common: 8\n"
     ]
    }
   ],
   "source": [
    "# 📌 Extraer sets de ID\n",
    "ids_duplicados = set(duplicados_fullname_df['id'])\n",
    "ids_common = set(df_common['person_id'])\n",
    "\n",
    "# 📌 Comparar\n",
    "ids_coinciden = ids_duplicados.intersection(ids_common)\n",
    "ids_no_coinciden = ids_duplicados - ids_common\n",
    "\n",
    "# 📌 Mostrar resultados\n",
    "print(f\"✅ Coincidencias de ID con df_common: {len(ids_coinciden)}\")\n",
    "print(f\"❌ Sin coincidencia en df_common: {len(ids_no_coinciden)}\")\n"
   ]
  },
  {
   "cell_type": "code",
   "execution_count": 23,
   "id": "08fb7ff5",
   "metadata": {},
   "outputs": [
    {
     "name": "stdout",
     "output_type": "stream",
     "text": [
      "❌ Filas sin coincidencia en df_common: 8\n"
     ]
    },
    {
     "data": {
      "application/vnd.microsoft.datawrangler.viewer.v0+json": {
       "columns": [
        {
         "name": "index",
         "rawType": "int64",
         "type": "integer"
        },
        {
         "name": "id",
         "rawType": "int64",
         "type": "integer"
        },
        {
         "name": "full_name",
         "rawType": "object",
         "type": "string"
        },
        {
         "name": "first_name",
         "rawType": "object",
         "type": "string"
        },
        {
         "name": "last_name",
         "rawType": "object",
         "type": "string"
        },
        {
         "name": "is_active",
         "rawType": "int64",
         "type": "integer"
        }
       ],
       "ref": "786c7424-8763-4a57-8895-55c4073b36f8",
       "rows": [
        [
         "2204",
         "200784",
         "Bobby Jones",
         "Bobby",
         "Jones",
         "0"
        ],
        [
         "2144",
         "1630525",
         "David Johnson",
         "David",
         "Johnson",
         "0"
        ],
        [
         "4337",
         "78382",
         "Jack Turner",
         "Jack",
         "Turner",
         "0"
        ],
        [
         "2166",
         "2256",
         "Ken Johnson",
         "Ken",
         "Johnson",
         "0"
        ],
        [
         "3087",
         "1823",
         "Makhtar N'diaye",
         "Makhtar",
         "N'diaye",
         "0"
        ],
        [
         "1662",
         "76909",
         "Matt Guokas",
         "Matt",
         "Guokas",
         "0"
        ],
        [
         "1266",
         "121",
         "Patrick Ewing",
         "Patrick",
         "Ewing",
         "0"
        ],
        [
         "2253",
         "77202",
         "Willie Jones",
         "Willie",
         "Jones",
         "0"
        ]
       ],
       "shape": {
        "columns": 5,
        "rows": 8
       }
      },
      "text/html": [
       "<div>\n",
       "<style scoped>\n",
       "    .dataframe tbody tr th:only-of-type {\n",
       "        vertical-align: middle;\n",
       "    }\n",
       "\n",
       "    .dataframe tbody tr th {\n",
       "        vertical-align: top;\n",
       "    }\n",
       "\n",
       "    .dataframe thead th {\n",
       "        text-align: right;\n",
       "    }\n",
       "</style>\n",
       "<table border=\"1\" class=\"dataframe\">\n",
       "  <thead>\n",
       "    <tr style=\"text-align: right;\">\n",
       "      <th></th>\n",
       "      <th>id</th>\n",
       "      <th>full_name</th>\n",
       "      <th>first_name</th>\n",
       "      <th>last_name</th>\n",
       "      <th>is_active</th>\n",
       "    </tr>\n",
       "  </thead>\n",
       "  <tbody>\n",
       "    <tr>\n",
       "      <th>2204</th>\n",
       "      <td>200784</td>\n",
       "      <td>Bobby Jones</td>\n",
       "      <td>Bobby</td>\n",
       "      <td>Jones</td>\n",
       "      <td>0</td>\n",
       "    </tr>\n",
       "    <tr>\n",
       "      <th>2144</th>\n",
       "      <td>1630525</td>\n",
       "      <td>David Johnson</td>\n",
       "      <td>David</td>\n",
       "      <td>Johnson</td>\n",
       "      <td>0</td>\n",
       "    </tr>\n",
       "    <tr>\n",
       "      <th>4337</th>\n",
       "      <td>78382</td>\n",
       "      <td>Jack Turner</td>\n",
       "      <td>Jack</td>\n",
       "      <td>Turner</td>\n",
       "      <td>0</td>\n",
       "    </tr>\n",
       "    <tr>\n",
       "      <th>2166</th>\n",
       "      <td>2256</td>\n",
       "      <td>Ken Johnson</td>\n",
       "      <td>Ken</td>\n",
       "      <td>Johnson</td>\n",
       "      <td>0</td>\n",
       "    </tr>\n",
       "    <tr>\n",
       "      <th>3087</th>\n",
       "      <td>1823</td>\n",
       "      <td>Makhtar N'diaye</td>\n",
       "      <td>Makhtar</td>\n",
       "      <td>N'diaye</td>\n",
       "      <td>0</td>\n",
       "    </tr>\n",
       "    <tr>\n",
       "      <th>1662</th>\n",
       "      <td>76909</td>\n",
       "      <td>Matt Guokas</td>\n",
       "      <td>Matt</td>\n",
       "      <td>Guokas</td>\n",
       "      <td>0</td>\n",
       "    </tr>\n",
       "    <tr>\n",
       "      <th>1266</th>\n",
       "      <td>121</td>\n",
       "      <td>Patrick Ewing</td>\n",
       "      <td>Patrick</td>\n",
       "      <td>Ewing</td>\n",
       "      <td>0</td>\n",
       "    </tr>\n",
       "    <tr>\n",
       "      <th>2253</th>\n",
       "      <td>77202</td>\n",
       "      <td>Willie Jones</td>\n",
       "      <td>Willie</td>\n",
       "      <td>Jones</td>\n",
       "      <td>0</td>\n",
       "    </tr>\n",
       "  </tbody>\n",
       "</table>\n",
       "</div>"
      ],
      "text/plain": [
       "           id        full_name first_name last_name  is_active\n",
       "2204   200784      Bobby Jones      Bobby     Jones          0\n",
       "2144  1630525    David Johnson      David   Johnson          0\n",
       "4337    78382      Jack Turner       Jack    Turner          0\n",
       "2166     2256      Ken Johnson        Ken   Johnson          0\n",
       "3087     1823  Makhtar N'diaye    Makhtar   N'diaye          0\n",
       "1662    76909      Matt Guokas       Matt    Guokas          0\n",
       "1266      121    Patrick Ewing    Patrick     Ewing          0\n",
       "2253    77202     Willie Jones     Willie     Jones          0"
      ]
     },
     "execution_count": 23,
     "metadata": {},
     "output_type": "execute_result"
    }
   ],
   "source": [
    "# 📌 Extraer IDs que no coinciden\n",
    "ids_duplicados = set(duplicados_fullname_df['id'])\n",
    "ids_common = set(df_common['person_id'])\n",
    "ids_no_coinciden = ids_duplicados - ids_common\n",
    "\n",
    "# 📌 Filtrar filas cuyo ID no está en df_common\n",
    "duplicados_sin_match = duplicados_fullname_df[duplicados_fullname_df['id'].isin(ids_no_coinciden)]\n",
    "\n",
    "# 📌 Mostrar resultado\n",
    "print(f\"❌ Filas sin coincidencia en df_common: {len(duplicados_sin_match)}\")\n",
    "duplicados_sin_match\n"
   ]
  },
  {
   "cell_type": "markdown",
   "id": "e5e0db47",
   "metadata": {},
   "source": [
    "- SE ELIMINAN DE LA TABLA PLAYES, LAS FILAS QUE NO ENCONRARON COINCIDENCIA CON EL PERSON_ID DE LA TABLA COMMON_PLAYER"
   ]
  },
  {
   "cell_type": "code",
   "execution_count": 24,
   "id": "bd6bd7cd",
   "metadata": {},
   "outputs": [
    {
     "name": "stdout",
     "output_type": "stream",
     "text": [
      "✅ Nuevo total de filas en df: 4823\n"
     ]
    }
   ],
   "source": [
    "# 📌 Eliminar las filas de df cuyo ID está en duplicados_sin_match\n",
    "df = df[~df['id'].isin(duplicados_sin_match['id'])]\n",
    "\n",
    "# 📌 Confirmamos que se eliminaron correctamente\n",
    "print(f\"✅ Nuevo total de filas en df: {len(df)}\")"
   ]
  },
  {
   "cell_type": "markdown",
   "id": "b5e3aa6e",
   "metadata": {},
   "source": [
    "- VERIFICAMOS QUE NO HAYA DUPLICADOS EN LA COLUMNA ID DEL DF PLAYER"
   ]
  },
  {
   "cell_type": "code",
   "execution_count": 26,
   "id": "1904d057",
   "metadata": {},
   "outputs": [
    {
     "name": "stdout",
     "output_type": "stream",
     "text": [
      "🔁 Cantidad de IDs duplicados en df: 0\n",
      "❌ Cantidad de IDs vacíos (nulos) en df: 0\n"
     ]
    }
   ],
   "source": [
    "# 📌 Verificar si hay valores duplicados en 'id'\n",
    "duplicados_id = df['id'].duplicated().sum()\n",
    "print(f\"🔁 Cantidad de IDs duplicados en df: {duplicados_id}\")\n",
    "\n",
    "# 📌 Verificar si hay valores nulos en 'id'\n",
    "nulos_id = df['id'].isnull().sum()\n",
    "print(f\"❌ Cantidad de IDs vacíos (nulos) en df: {nulos_id}\")"
   ]
  },
  {
   "cell_type": "markdown",
   "id": "ba494034",
   "metadata": {},
   "source": [
    "- SE FILTRAN SOLO LOS JUGADORES INACTIVOS"
   ]
  },
  {
   "cell_type": "code",
   "execution_count": 25,
   "id": "a5953020",
   "metadata": {},
   "outputs": [
    {
     "name": "stdout",
     "output_type": "stream",
     "text": [
      "📌 Total de jugadores inactivos: 4241\n"
     ]
    },
    {
     "data": {
      "application/vnd.microsoft.datawrangler.viewer.v0+json": {
       "columns": [
        {
         "name": "index",
         "rawType": "int64",
         "type": "integer"
        },
        {
         "name": "id",
         "rawType": "int64",
         "type": "integer"
        },
        {
         "name": "is_active",
         "rawType": "int64",
         "type": "integer"
        }
       ],
       "ref": "0c3cb0a2-156c-4a7a-9af1-6089f613a374",
       "rows": [
        [
         "0",
         "76001",
         "0"
        ],
        [
         "1",
         "76002",
         "0"
        ],
        [
         "2",
         "76003",
         "0"
        ],
        [
         "3",
         "51",
         "0"
        ],
        [
         "4",
         "1505",
         "0"
        ],
        [
         "5",
         "949",
         "0"
        ],
        [
         "6",
         "76005",
         "0"
        ],
        [
         "7",
         "76006",
         "0"
        ],
        [
         "8",
         "76007",
         "0"
        ],
        [
         "9",
         "203518",
         "0"
        ],
        [
         "11",
         "101165",
         "0"
        ],
        [
         "12",
         "76008",
         "0"
        ],
        [
         "13",
         "76009",
         "0"
        ],
        [
         "14",
         "76010",
         "0"
        ],
        [
         "15",
         "203112",
         "0"
        ],
        [
         "16",
         "76011",
         "0"
        ],
        [
         "17",
         "76012",
         "0"
        ],
        [
         "18",
         "200801",
         "0"
        ],
        [
         "19",
         "1629121",
         "0"
        ],
        [
         "20",
         "203919",
         "0"
        ],
        [
         "21",
         "149",
         "0"
        ],
        [
         "23",
         "912",
         "0"
        ],
        [
         "25",
         "1629061",
         "0"
        ],
        [
         "26",
         "76015",
         "0"
        ],
        [
         "27",
         "202399",
         "0"
        ],
        [
         "28",
         "201167",
         "0"
        ],
        [
         "30",
         "200772",
         "0"
        ],
        [
         "31",
         "76016",
         "0"
        ],
        [
         "32",
         "201336",
         "0"
        ],
        [
         "33",
         "76017",
         "0"
        ],
        [
         "34",
         "201582",
         "0"
        ],
        [
         "35",
         "76018",
         "0"
        ],
        [
         "36",
         "203006",
         "0"
        ],
        [
         "37",
         "1629152",
         "0"
        ],
        [
         "38",
         "202374",
         "0"
        ],
        [
         "39",
         "76019",
         "0"
        ],
        [
         "40",
         "76020",
         "0"
        ],
        [
         "42",
         "203128",
         "0"
        ],
        [
         "43",
         "202332",
         "0"
        ],
        [
         "44",
         "200746",
         "0"
        ],
        [
         "45",
         "76021",
         "0"
        ],
        [
         "46",
         "1626146",
         "0"
        ],
        [
         "47",
         "724",
         "0"
        ],
        [
         "48",
         "2042",
         "0"
        ],
        [
         "49",
         "76022",
         "0"
        ],
        [
         "50",
         "201570",
         "0"
        ],
        [
         "51",
         "1629734",
         "0"
        ],
        [
         "52",
         "1630234",
         "0"
        ],
        [
         "53",
         "2349",
         "0"
        ],
        [
         "55",
         "76024",
         "0"
        ]
       ],
       "shape": {
        "columns": 2,
        "rows": 4241
       }
      },
      "text/html": [
       "<div>\n",
       "<style scoped>\n",
       "    .dataframe tbody tr th:only-of-type {\n",
       "        vertical-align: middle;\n",
       "    }\n",
       "\n",
       "    .dataframe tbody tr th {\n",
       "        vertical-align: top;\n",
       "    }\n",
       "\n",
       "    .dataframe thead th {\n",
       "        text-align: right;\n",
       "    }\n",
       "</style>\n",
       "<table border=\"1\" class=\"dataframe\">\n",
       "  <thead>\n",
       "    <tr style=\"text-align: right;\">\n",
       "      <th></th>\n",
       "      <th>id</th>\n",
       "      <th>is_active</th>\n",
       "    </tr>\n",
       "  </thead>\n",
       "  <tbody>\n",
       "    <tr>\n",
       "      <th>0</th>\n",
       "      <td>76001</td>\n",
       "      <td>0</td>\n",
       "    </tr>\n",
       "    <tr>\n",
       "      <th>1</th>\n",
       "      <td>76002</td>\n",
       "      <td>0</td>\n",
       "    </tr>\n",
       "    <tr>\n",
       "      <th>2</th>\n",
       "      <td>76003</td>\n",
       "      <td>0</td>\n",
       "    </tr>\n",
       "    <tr>\n",
       "      <th>3</th>\n",
       "      <td>51</td>\n",
       "      <td>0</td>\n",
       "    </tr>\n",
       "    <tr>\n",
       "      <th>4</th>\n",
       "      <td>1505</td>\n",
       "      <td>0</td>\n",
       "    </tr>\n",
       "    <tr>\n",
       "      <th>...</th>\n",
       "      <td>...</td>\n",
       "      <td>...</td>\n",
       "    </tr>\n",
       "    <tr>\n",
       "      <th>4825</th>\n",
       "      <td>1627835</td>\n",
       "      <td>0</td>\n",
       "    </tr>\n",
       "    <tr>\n",
       "      <th>4826</th>\n",
       "      <td>1627790</td>\n",
       "      <td>0</td>\n",
       "    </tr>\n",
       "    <tr>\n",
       "      <th>4827</th>\n",
       "      <td>78647</td>\n",
       "      <td>0</td>\n",
       "    </tr>\n",
       "    <tr>\n",
       "      <th>4828</th>\n",
       "      <td>78648</td>\n",
       "      <td>0</td>\n",
       "    </tr>\n",
       "    <tr>\n",
       "      <th>4830</th>\n",
       "      <td>78650</td>\n",
       "      <td>0</td>\n",
       "    </tr>\n",
       "  </tbody>\n",
       "</table>\n",
       "<p>4241 rows × 2 columns</p>\n",
       "</div>"
      ],
      "text/plain": [
       "           id  is_active\n",
       "0       76001          0\n",
       "1       76002          0\n",
       "2       76003          0\n",
       "3          51          0\n",
       "4        1505          0\n",
       "...       ...        ...\n",
       "4825  1627835          0\n",
       "4826  1627790          0\n",
       "4827    78647          0\n",
       "4828    78648          0\n",
       "4830    78650          0\n",
       "\n",
       "[4241 rows x 2 columns]"
      ]
     },
     "execution_count": 25,
     "metadata": {},
     "output_type": "execute_result"
    }
   ],
   "source": [
    "# 📌 Filtrar jugadores inactivos\n",
    "df_inactivos = df[df['is_active'] == 0][['id', 'is_active']].copy()\n",
    "\n",
    "# 📌 Mostrar el resultado\n",
    "print(f\"📌 Total de jugadores inactivos: {len(df_inactivos)}\")\n",
    "df_inactivos"
   ]
  },
  {
   "cell_type": "markdown",
   "id": "34256583",
   "metadata": {},
   "source": [
    "- EXPORTAMOS LA TABLA PLAYER SIN LOS DUPLICADOS Y CON LOS VALORES FALTANTES RELLENADO"
   ]
  },
  {
   "cell_type": "code",
   "execution_count": 27,
   "id": "d5a8239c",
   "metadata": {},
   "outputs": [
    {
     "name": "stdout",
     "output_type": "stream",
     "text": [
      "✅ Archivo exportado correctamente como player_filtrado_sin_duplicados.csv\n"
     ]
    }
   ],
   "source": [
    "# 📌 Exportar el DataFrame limpio a CSV\n",
    "df.to_csv(r\"C:\\Users\\User\\OneDrive\\Documentos\\proyecto_final\\data_en_csv\\player_filtrado_sin_duplicados.csv\", index=False)\n",
    "\n",
    "print(\"✅ Archivo exportado correctamente como player_filtrado_sin_duplicados.csv\")"
   ]
  },
  {
   "cell_type": "markdown",
   "id": "a6cfb520",
   "metadata": {},
   "source": [
    "- VERIFICAMOS CUANTAS FILAS DE CADA COLUMNA TIENE EL ICONO \"-\""
   ]
  },
  {
   "cell_type": "code",
   "execution_count": 30,
   "id": "2f983adb",
   "metadata": {},
   "outputs": [
    {
     "name": "stdout",
     "output_type": "stream",
     "text": [
      "🔎 Cantidad de valores que contienen '-' en cada columna:\n",
      "▪️ full_name: 37\n",
      "▪️ first_name: 4\n",
      "▪️ last_name: 33\n",
      "\n",
      "📋 Ejemplos de valores con '-' en full_name:\n"
     ]
    },
    {
     "data": {
      "application/vnd.microsoft.datawrangler.viewer.v0+json": {
       "columns": [
        {
         "name": "index",
         "rawType": "int64",
         "type": "integer"
        },
        {
         "name": "id",
         "rawType": "int64",
         "type": "integer"
        },
        {
         "name": "full_name",
         "rawType": "object",
         "type": "string"
        },
        {
         "name": "first_name",
         "rawType": "object",
         "type": "string"
        },
        {
         "name": "last_name",
         "rawType": "object",
         "type": "string"
        },
        {
         "name": "is_active",
         "rawType": "int64",
         "type": "integer"
        }
       ],
       "ref": "bde1c89d-48f8-48b7-b7b8-988da84696ce",
       "rows": [
        [
         "1",
         "76002",
         "Zaid Abdul-Aziz",
         "Zaid",
         "Abdul-Aziz",
         "0"
        ],
        [
         "2",
         "76003",
         "Kareem Abdul-Jabbar",
         "Kareem",
         "Abdul-Jabbar",
         "0"
        ],
        [
         "3",
         "51",
         "Mahmoud Abdul-Rauf",
         "Mahmoud",
         "Abdul-Rauf",
         "0"
        ],
        [
         "4",
         "1505",
         "Tariq Abdul-Wahad",
         "Tariq",
         "Abdul-Wahad",
         "0"
        ],
        [
         "5",
         "949",
         "Shareef Abdur-Rahim",
         "Shareef",
         "Abdur-Rahim",
         "0"
        ],
        [
         "37",
         "1629152",
         "DeVaughn Akoon-Purcell",
         "DeVaughn",
         "Akoon-Purcell",
         "0"
        ],
        [
         "52",
         "1630234",
         "Ty-Shon Alexander",
         "Ty-Shon",
         "Alexander",
         "0"
        ],
        [
         "54",
         "1629638",
         "Nickeil Alexander-Walker",
         "Nickeil",
         "Alexander-Walker",
         "1"
        ],
        [
         "78",
         "202329",
         "Al-Farouq Aminu",
         "Al-Farouq",
         "Aminu",
         "0"
        ],
        [
         "254",
         "1628966",
         "Keita Bates-Diop",
         "Keita",
         "Bates-Diop",
         "1"
        ]
       ],
       "shape": {
        "columns": 5,
        "rows": 10
       }
      },
      "text/html": [
       "<div>\n",
       "<style scoped>\n",
       "    .dataframe tbody tr th:only-of-type {\n",
       "        vertical-align: middle;\n",
       "    }\n",
       "\n",
       "    .dataframe tbody tr th {\n",
       "        vertical-align: top;\n",
       "    }\n",
       "\n",
       "    .dataframe thead th {\n",
       "        text-align: right;\n",
       "    }\n",
       "</style>\n",
       "<table border=\"1\" class=\"dataframe\">\n",
       "  <thead>\n",
       "    <tr style=\"text-align: right;\">\n",
       "      <th></th>\n",
       "      <th>id</th>\n",
       "      <th>full_name</th>\n",
       "      <th>first_name</th>\n",
       "      <th>last_name</th>\n",
       "      <th>is_active</th>\n",
       "    </tr>\n",
       "  </thead>\n",
       "  <tbody>\n",
       "    <tr>\n",
       "      <th>1</th>\n",
       "      <td>76002</td>\n",
       "      <td>Zaid Abdul-Aziz</td>\n",
       "      <td>Zaid</td>\n",
       "      <td>Abdul-Aziz</td>\n",
       "      <td>0</td>\n",
       "    </tr>\n",
       "    <tr>\n",
       "      <th>2</th>\n",
       "      <td>76003</td>\n",
       "      <td>Kareem Abdul-Jabbar</td>\n",
       "      <td>Kareem</td>\n",
       "      <td>Abdul-Jabbar</td>\n",
       "      <td>0</td>\n",
       "    </tr>\n",
       "    <tr>\n",
       "      <th>3</th>\n",
       "      <td>51</td>\n",
       "      <td>Mahmoud Abdul-Rauf</td>\n",
       "      <td>Mahmoud</td>\n",
       "      <td>Abdul-Rauf</td>\n",
       "      <td>0</td>\n",
       "    </tr>\n",
       "    <tr>\n",
       "      <th>4</th>\n",
       "      <td>1505</td>\n",
       "      <td>Tariq Abdul-Wahad</td>\n",
       "      <td>Tariq</td>\n",
       "      <td>Abdul-Wahad</td>\n",
       "      <td>0</td>\n",
       "    </tr>\n",
       "    <tr>\n",
       "      <th>5</th>\n",
       "      <td>949</td>\n",
       "      <td>Shareef Abdur-Rahim</td>\n",
       "      <td>Shareef</td>\n",
       "      <td>Abdur-Rahim</td>\n",
       "      <td>0</td>\n",
       "    </tr>\n",
       "    <tr>\n",
       "      <th>37</th>\n",
       "      <td>1629152</td>\n",
       "      <td>DeVaughn Akoon-Purcell</td>\n",
       "      <td>DeVaughn</td>\n",
       "      <td>Akoon-Purcell</td>\n",
       "      <td>0</td>\n",
       "    </tr>\n",
       "    <tr>\n",
       "      <th>52</th>\n",
       "      <td>1630234</td>\n",
       "      <td>Ty-Shon Alexander</td>\n",
       "      <td>Ty-Shon</td>\n",
       "      <td>Alexander</td>\n",
       "      <td>0</td>\n",
       "    </tr>\n",
       "    <tr>\n",
       "      <th>54</th>\n",
       "      <td>1629638</td>\n",
       "      <td>Nickeil Alexander-Walker</td>\n",
       "      <td>Nickeil</td>\n",
       "      <td>Alexander-Walker</td>\n",
       "      <td>1</td>\n",
       "    </tr>\n",
       "    <tr>\n",
       "      <th>78</th>\n",
       "      <td>202329</td>\n",
       "      <td>Al-Farouq Aminu</td>\n",
       "      <td>Al-Farouq</td>\n",
       "      <td>Aminu</td>\n",
       "      <td>0</td>\n",
       "    </tr>\n",
       "    <tr>\n",
       "      <th>254</th>\n",
       "      <td>1628966</td>\n",
       "      <td>Keita Bates-Diop</td>\n",
       "      <td>Keita</td>\n",
       "      <td>Bates-Diop</td>\n",
       "      <td>1</td>\n",
       "    </tr>\n",
       "  </tbody>\n",
       "</table>\n",
       "</div>"
      ],
      "text/plain": [
       "          id                 full_name first_name         last_name  is_active\n",
       "1      76002           Zaid Abdul-Aziz       Zaid        Abdul-Aziz          0\n",
       "2      76003       Kareem Abdul-Jabbar     Kareem      Abdul-Jabbar          0\n",
       "3         51        Mahmoud Abdul-Rauf    Mahmoud        Abdul-Rauf          0\n",
       "4       1505         Tariq Abdul-Wahad      Tariq       Abdul-Wahad          0\n",
       "5        949       Shareef Abdur-Rahim    Shareef       Abdur-Rahim          0\n",
       "37   1629152    DeVaughn Akoon-Purcell   DeVaughn     Akoon-Purcell          0\n",
       "52   1630234         Ty-Shon Alexander    Ty-Shon         Alexander          0\n",
       "54   1629638  Nickeil Alexander-Walker    Nickeil  Alexander-Walker          1\n",
       "78    202329           Al-Farouq Aminu  Al-Farouq             Aminu          0\n",
       "254  1628966          Keita Bates-Diop      Keita        Bates-Diop          1"
      ]
     },
     "metadata": {},
     "output_type": "display_data"
    },
    {
     "name": "stdout",
     "output_type": "stream",
     "text": [
      "\n",
      "📋 Ejemplos de valores con '-' en first_name:\n"
     ]
    },
    {
     "data": {
      "application/vnd.microsoft.datawrangler.viewer.v0+json": {
       "columns": [
        {
         "name": "index",
         "rawType": "int64",
         "type": "integer"
        },
        {
         "name": "id",
         "rawType": "int64",
         "type": "integer"
        },
        {
         "name": "full_name",
         "rawType": "object",
         "type": "string"
        },
        {
         "name": "first_name",
         "rawType": "object",
         "type": "string"
        },
        {
         "name": "last_name",
         "rawType": "object",
         "type": "string"
        },
        {
         "name": "is_active",
         "rawType": "int64",
         "type": "integer"
        }
       ],
       "ref": "6b5419ea-edf9-48d4-b51c-b575fa9a76e1",
       "rows": [
        [
         "52",
         "1630234",
         "Ty-Shon Alexander",
         "Ty-Shon",
         "Alexander",
         "0"
        ],
        [
         "78",
         "202329",
         "Al-Farouq Aminu",
         "Al-Farouq",
         "Aminu",
         "0"
        ],
        [
         "1666",
         "2775",
         "Ha Seung-jin",
         "Seung-jin",
         "Ha",
         "0"
        ],
        [
         "4304",
         "1626157",
         "Karl-Anthony Towns",
         "Karl-Anthony",
         "Towns",
         "1"
        ]
       ],
       "shape": {
        "columns": 5,
        "rows": 4
       }
      },
      "text/html": [
       "<div>\n",
       "<style scoped>\n",
       "    .dataframe tbody tr th:only-of-type {\n",
       "        vertical-align: middle;\n",
       "    }\n",
       "\n",
       "    .dataframe tbody tr th {\n",
       "        vertical-align: top;\n",
       "    }\n",
       "\n",
       "    .dataframe thead th {\n",
       "        text-align: right;\n",
       "    }\n",
       "</style>\n",
       "<table border=\"1\" class=\"dataframe\">\n",
       "  <thead>\n",
       "    <tr style=\"text-align: right;\">\n",
       "      <th></th>\n",
       "      <th>id</th>\n",
       "      <th>full_name</th>\n",
       "      <th>first_name</th>\n",
       "      <th>last_name</th>\n",
       "      <th>is_active</th>\n",
       "    </tr>\n",
       "  </thead>\n",
       "  <tbody>\n",
       "    <tr>\n",
       "      <th>52</th>\n",
       "      <td>1630234</td>\n",
       "      <td>Ty-Shon Alexander</td>\n",
       "      <td>Ty-Shon</td>\n",
       "      <td>Alexander</td>\n",
       "      <td>0</td>\n",
       "    </tr>\n",
       "    <tr>\n",
       "      <th>78</th>\n",
       "      <td>202329</td>\n",
       "      <td>Al-Farouq Aminu</td>\n",
       "      <td>Al-Farouq</td>\n",
       "      <td>Aminu</td>\n",
       "      <td>0</td>\n",
       "    </tr>\n",
       "    <tr>\n",
       "      <th>1666</th>\n",
       "      <td>2775</td>\n",
       "      <td>Ha Seung-jin</td>\n",
       "      <td>Seung-jin</td>\n",
       "      <td>Ha</td>\n",
       "      <td>0</td>\n",
       "    </tr>\n",
       "    <tr>\n",
       "      <th>4304</th>\n",
       "      <td>1626157</td>\n",
       "      <td>Karl-Anthony Towns</td>\n",
       "      <td>Karl-Anthony</td>\n",
       "      <td>Towns</td>\n",
       "      <td>1</td>\n",
       "    </tr>\n",
       "  </tbody>\n",
       "</table>\n",
       "</div>"
      ],
      "text/plain": [
       "           id           full_name    first_name  last_name  is_active\n",
       "52    1630234   Ty-Shon Alexander       Ty-Shon  Alexander          0\n",
       "78     202329     Al-Farouq Aminu     Al-Farouq      Aminu          0\n",
       "1666     2775        Ha Seung-jin     Seung-jin         Ha          0\n",
       "4304  1626157  Karl-Anthony Towns  Karl-Anthony      Towns          1"
      ]
     },
     "metadata": {},
     "output_type": "display_data"
    },
    {
     "name": "stdout",
     "output_type": "stream",
     "text": [
      "\n",
      "📋 Ejemplos de valores con '-' en last_name:\n"
     ]
    },
    {
     "data": {
      "application/vnd.microsoft.datawrangler.viewer.v0+json": {
       "columns": [
        {
         "name": "index",
         "rawType": "int64",
         "type": "integer"
        },
        {
         "name": "id",
         "rawType": "int64",
         "type": "integer"
        },
        {
         "name": "full_name",
         "rawType": "object",
         "type": "string"
        },
        {
         "name": "first_name",
         "rawType": "object",
         "type": "string"
        },
        {
         "name": "last_name",
         "rawType": "object",
         "type": "string"
        },
        {
         "name": "is_active",
         "rawType": "int64",
         "type": "integer"
        }
       ],
       "ref": "b3393b3e-06e8-4b56-8179-fb00e46c6209",
       "rows": [
        [
         "1",
         "76002",
         "Zaid Abdul-Aziz",
         "Zaid",
         "Abdul-Aziz",
         "0"
        ],
        [
         "2",
         "76003",
         "Kareem Abdul-Jabbar",
         "Kareem",
         "Abdul-Jabbar",
         "0"
        ],
        [
         "3",
         "51",
         "Mahmoud Abdul-Rauf",
         "Mahmoud",
         "Abdul-Rauf",
         "0"
        ],
        [
         "4",
         "1505",
         "Tariq Abdul-Wahad",
         "Tariq",
         "Abdul-Wahad",
         "0"
        ],
        [
         "5",
         "949",
         "Shareef Abdur-Rahim",
         "Shareef",
         "Abdur-Rahim",
         "0"
        ],
        [
         "37",
         "1629152",
         "DeVaughn Akoon-Purcell",
         "DeVaughn",
         "Akoon-Purcell",
         "0"
        ],
        [
         "54",
         "1629638",
         "Nickeil Alexander-Walker",
         "Nickeil",
         "Alexander-Walker",
         "1"
        ],
        [
         "254",
         "1628966",
         "Keita Bates-Diop",
         "Keita",
         "Bates-Diop",
         "1"
        ],
        [
         "430",
         "2257",
         "Ruben Boumtje-Boumtje",
         "Ruben",
         "Boumtje-Boumtje",
         "0"
        ],
        [
         "648",
         "203484",
         "Kentavious Caldwell-Pope",
         "Kentavious",
         "Caldwell-Pope",
         "1"
        ]
       ],
       "shape": {
        "columns": 5,
        "rows": 10
       }
      },
      "text/html": [
       "<div>\n",
       "<style scoped>\n",
       "    .dataframe tbody tr th:only-of-type {\n",
       "        vertical-align: middle;\n",
       "    }\n",
       "\n",
       "    .dataframe tbody tr th {\n",
       "        vertical-align: top;\n",
       "    }\n",
       "\n",
       "    .dataframe thead th {\n",
       "        text-align: right;\n",
       "    }\n",
       "</style>\n",
       "<table border=\"1\" class=\"dataframe\">\n",
       "  <thead>\n",
       "    <tr style=\"text-align: right;\">\n",
       "      <th></th>\n",
       "      <th>id</th>\n",
       "      <th>full_name</th>\n",
       "      <th>first_name</th>\n",
       "      <th>last_name</th>\n",
       "      <th>is_active</th>\n",
       "    </tr>\n",
       "  </thead>\n",
       "  <tbody>\n",
       "    <tr>\n",
       "      <th>1</th>\n",
       "      <td>76002</td>\n",
       "      <td>Zaid Abdul-Aziz</td>\n",
       "      <td>Zaid</td>\n",
       "      <td>Abdul-Aziz</td>\n",
       "      <td>0</td>\n",
       "    </tr>\n",
       "    <tr>\n",
       "      <th>2</th>\n",
       "      <td>76003</td>\n",
       "      <td>Kareem Abdul-Jabbar</td>\n",
       "      <td>Kareem</td>\n",
       "      <td>Abdul-Jabbar</td>\n",
       "      <td>0</td>\n",
       "    </tr>\n",
       "    <tr>\n",
       "      <th>3</th>\n",
       "      <td>51</td>\n",
       "      <td>Mahmoud Abdul-Rauf</td>\n",
       "      <td>Mahmoud</td>\n",
       "      <td>Abdul-Rauf</td>\n",
       "      <td>0</td>\n",
       "    </tr>\n",
       "    <tr>\n",
       "      <th>4</th>\n",
       "      <td>1505</td>\n",
       "      <td>Tariq Abdul-Wahad</td>\n",
       "      <td>Tariq</td>\n",
       "      <td>Abdul-Wahad</td>\n",
       "      <td>0</td>\n",
       "    </tr>\n",
       "    <tr>\n",
       "      <th>5</th>\n",
       "      <td>949</td>\n",
       "      <td>Shareef Abdur-Rahim</td>\n",
       "      <td>Shareef</td>\n",
       "      <td>Abdur-Rahim</td>\n",
       "      <td>0</td>\n",
       "    </tr>\n",
       "    <tr>\n",
       "      <th>37</th>\n",
       "      <td>1629152</td>\n",
       "      <td>DeVaughn Akoon-Purcell</td>\n",
       "      <td>DeVaughn</td>\n",
       "      <td>Akoon-Purcell</td>\n",
       "      <td>0</td>\n",
       "    </tr>\n",
       "    <tr>\n",
       "      <th>54</th>\n",
       "      <td>1629638</td>\n",
       "      <td>Nickeil Alexander-Walker</td>\n",
       "      <td>Nickeil</td>\n",
       "      <td>Alexander-Walker</td>\n",
       "      <td>1</td>\n",
       "    </tr>\n",
       "    <tr>\n",
       "      <th>254</th>\n",
       "      <td>1628966</td>\n",
       "      <td>Keita Bates-Diop</td>\n",
       "      <td>Keita</td>\n",
       "      <td>Bates-Diop</td>\n",
       "      <td>1</td>\n",
       "    </tr>\n",
       "    <tr>\n",
       "      <th>430</th>\n",
       "      <td>2257</td>\n",
       "      <td>Ruben Boumtje-Boumtje</td>\n",
       "      <td>Ruben</td>\n",
       "      <td>Boumtje-Boumtje</td>\n",
       "      <td>0</td>\n",
       "    </tr>\n",
       "    <tr>\n",
       "      <th>648</th>\n",
       "      <td>203484</td>\n",
       "      <td>Kentavious Caldwell-Pope</td>\n",
       "      <td>Kentavious</td>\n",
       "      <td>Caldwell-Pope</td>\n",
       "      <td>1</td>\n",
       "    </tr>\n",
       "  </tbody>\n",
       "</table>\n",
       "</div>"
      ],
      "text/plain": [
       "          id                 full_name  first_name         last_name  \\\n",
       "1      76002           Zaid Abdul-Aziz        Zaid        Abdul-Aziz   \n",
       "2      76003       Kareem Abdul-Jabbar      Kareem      Abdul-Jabbar   \n",
       "3         51        Mahmoud Abdul-Rauf     Mahmoud        Abdul-Rauf   \n",
       "4       1505         Tariq Abdul-Wahad       Tariq       Abdul-Wahad   \n",
       "5        949       Shareef Abdur-Rahim     Shareef       Abdur-Rahim   \n",
       "37   1629152    DeVaughn Akoon-Purcell    DeVaughn     Akoon-Purcell   \n",
       "54   1629638  Nickeil Alexander-Walker     Nickeil  Alexander-Walker   \n",
       "254  1628966          Keita Bates-Diop       Keita        Bates-Diop   \n",
       "430     2257     Ruben Boumtje-Boumtje       Ruben   Boumtje-Boumtje   \n",
       "648   203484  Kentavious Caldwell-Pope  Kentavious     Caldwell-Pope   \n",
       "\n",
       "     is_active  \n",
       "1            0  \n",
       "2            0  \n",
       "3            0  \n",
       "4            0  \n",
       "5            0  \n",
       "37           0  \n",
       "54           1  \n",
       "254          1  \n",
       "430          0  \n",
       "648          1  "
      ]
     },
     "metadata": {},
     "output_type": "display_data"
    }
   ],
   "source": [
    "# 📌 Verificar cuántos valores contienen el símbolo '-' en cada columna del DataFrame df\n",
    "conteo_guiones = {\n",
    "    'full_name': df['full_name'].str.contains('-', na=False).sum(),\n",
    "    'first_name': df['first_name'].str.contains('-', na=False).sum(),\n",
    "    'last_name': df['last_name'].str.contains('-', na=False).sum()\n",
    "}\n",
    "\n",
    "# 📌 Mostrar resultados\n",
    "print(\"🔎 Cantidad de valores que contienen '-' en cada columna:\")\n",
    "for columna, cantidad in conteo_guiones.items():\n",
    "    print(f\"▪️ {columna}: {cantidad}\")\n",
    "\n",
    "# 📌 Mostrar ejemplos (primeros 10) en cada columna\n",
    "print(\"\\n📋 Ejemplos de valores con '-' en full_name:\")\n",
    "display(df[df['full_name'].str.contains('-', na=False)].head(10))\n",
    "\n",
    "print(\"\\n📋 Ejemplos de valores con '-' en first_name:\")\n",
    "display(df[df['first_name'].str.contains('-', na=False)].head(10))\n",
    "\n",
    "print(\"\\n📋 Ejemplos de valores con '-' en last_name:\")\n",
    "display(df[df['last_name'].str.contains('-', na=False)].head(10))"
   ]
  },
  {
   "cell_type": "markdown",
   "id": "62a955cc",
   "metadata": {},
   "source": [
    "- UNIFICAMOS LA ESCRITURA DE LA TABLA PLAYER EN LAS COLUMNAS LAST_NAME Y FIRST_NAME"
   ]
  },
  {
   "cell_type": "code",
   "execution_count": 38,
   "id": "4f2c1a67",
   "metadata": {},
   "outputs": [
    {
     "name": "stdout",
     "output_type": "stream",
     "text": [
      "\n",
      "📋 Primeras 20 filas del DataFrame modificado:\n"
     ]
    },
    {
     "data": {
      "application/vnd.microsoft.datawrangler.viewer.v0+json": {
       "columns": [
        {
         "name": "index",
         "rawType": "int64",
         "type": "integer"
        },
        {
         "name": "id",
         "rawType": "int64",
         "type": "integer"
        },
        {
         "name": "full_name",
         "rawType": "object",
         "type": "string"
        },
        {
         "name": "first_name",
         "rawType": "object",
         "type": "string"
        },
        {
         "name": "last_name",
         "rawType": "object",
         "type": "string"
        },
        {
         "name": "is_active",
         "rawType": "int64",
         "type": "integer"
        }
       ],
       "ref": "38b06964-f8e5-4974-bb64-4be0e0d31f9b",
       "rows": [
        [
         "0",
         "76001",
         "Alaa Abdelnaby",
         "Alaa",
         "Abdelnaby",
         "0"
        ],
        [
         "1",
         "76002",
         "Zaid Abdul-Aziz",
         "Zaid",
         "Abdul-Aziz",
         "0"
        ],
        [
         "2",
         "76003",
         "Kareem Abdul-Jabbar",
         "Kareem",
         "Abdul-Jabbar",
         "0"
        ],
        [
         "3",
         "51",
         "Mahmoud Abdul-Rauf",
         "Mahmoud",
         "Abdul-Rauf",
         "0"
        ],
        [
         "4",
         "1505",
         "Tariq Abdul-Wahad",
         "Tariq",
         "Abdul-Wahad",
         "0"
        ],
        [
         "5",
         "949",
         "Shareef Abdur-Rahim",
         "Shareef",
         "Abdur-Rahim",
         "0"
        ],
        [
         "6",
         "76005",
         "Tom Abernethy",
         "Tom",
         "Abernethy",
         "0"
        ],
        [
         "7",
         "76006",
         "Forest Able",
         "Forest",
         "Able",
         "0"
        ],
        [
         "8",
         "76007",
         "John Abramovic",
         "John",
         "Abramovic",
         "0"
        ],
        [
         "9",
         "203518",
         "Alex Abrines",
         "Alex",
         "Abrines",
         "0"
        ],
        [
         "10",
         "1630173",
         "Precious Achiuwa",
         "Precious",
         "Achiuwa",
         "1"
        ],
        [
         "11",
         "101165",
         "Alex Acker",
         "Alex",
         "Acker",
         "0"
        ],
        [
         "12",
         "76008",
         "Donald Ackerman",
         "Donald",
         "Ackerman",
         "0"
        ],
        [
         "13",
         "76009",
         "Mark Acres",
         "Mark",
         "Acres",
         "0"
        ],
        [
         "14",
         "76010",
         "Charles Acton",
         "Charles",
         "Acton",
         "0"
        ],
        [
         "15",
         "203112",
         "Quincy Acy",
         "Quincy",
         "Acy",
         "0"
        ],
        [
         "16",
         "76011",
         "Alvan Adams",
         "Alvan",
         "Adams",
         "0"
        ],
        [
         "17",
         "76012",
         "Don Adams",
         "Don",
         "Adams",
         "0"
        ],
        [
         "18",
         "200801",
         "Hassan Adams",
         "Hassan",
         "Adams",
         "0"
        ],
        [
         "19",
         "1629121",
         "Jaylen Adams",
         "Jaylen",
         "Adams",
         "0"
        ]
       ],
       "shape": {
        "columns": 5,
        "rows": 20
       }
      },
      "text/html": [
       "<div>\n",
       "<style scoped>\n",
       "    .dataframe tbody tr th:only-of-type {\n",
       "        vertical-align: middle;\n",
       "    }\n",
       "\n",
       "    .dataframe tbody tr th {\n",
       "        vertical-align: top;\n",
       "    }\n",
       "\n",
       "    .dataframe thead th {\n",
       "        text-align: right;\n",
       "    }\n",
       "</style>\n",
       "<table border=\"1\" class=\"dataframe\">\n",
       "  <thead>\n",
       "    <tr style=\"text-align: right;\">\n",
       "      <th></th>\n",
       "      <th>id</th>\n",
       "      <th>full_name</th>\n",
       "      <th>first_name</th>\n",
       "      <th>last_name</th>\n",
       "      <th>is_active</th>\n",
       "    </tr>\n",
       "  </thead>\n",
       "  <tbody>\n",
       "    <tr>\n",
       "      <th>0</th>\n",
       "      <td>76001</td>\n",
       "      <td>Alaa Abdelnaby</td>\n",
       "      <td>Alaa</td>\n",
       "      <td>Abdelnaby</td>\n",
       "      <td>0</td>\n",
       "    </tr>\n",
       "    <tr>\n",
       "      <th>1</th>\n",
       "      <td>76002</td>\n",
       "      <td>Zaid Abdul-Aziz</td>\n",
       "      <td>Zaid</td>\n",
       "      <td>Abdul-Aziz</td>\n",
       "      <td>0</td>\n",
       "    </tr>\n",
       "    <tr>\n",
       "      <th>2</th>\n",
       "      <td>76003</td>\n",
       "      <td>Kareem Abdul-Jabbar</td>\n",
       "      <td>Kareem</td>\n",
       "      <td>Abdul-Jabbar</td>\n",
       "      <td>0</td>\n",
       "    </tr>\n",
       "    <tr>\n",
       "      <th>3</th>\n",
       "      <td>51</td>\n",
       "      <td>Mahmoud Abdul-Rauf</td>\n",
       "      <td>Mahmoud</td>\n",
       "      <td>Abdul-Rauf</td>\n",
       "      <td>0</td>\n",
       "    </tr>\n",
       "    <tr>\n",
       "      <th>4</th>\n",
       "      <td>1505</td>\n",
       "      <td>Tariq Abdul-Wahad</td>\n",
       "      <td>Tariq</td>\n",
       "      <td>Abdul-Wahad</td>\n",
       "      <td>0</td>\n",
       "    </tr>\n",
       "    <tr>\n",
       "      <th>5</th>\n",
       "      <td>949</td>\n",
       "      <td>Shareef Abdur-Rahim</td>\n",
       "      <td>Shareef</td>\n",
       "      <td>Abdur-Rahim</td>\n",
       "      <td>0</td>\n",
       "    </tr>\n",
       "    <tr>\n",
       "      <th>6</th>\n",
       "      <td>76005</td>\n",
       "      <td>Tom Abernethy</td>\n",
       "      <td>Tom</td>\n",
       "      <td>Abernethy</td>\n",
       "      <td>0</td>\n",
       "    </tr>\n",
       "    <tr>\n",
       "      <th>7</th>\n",
       "      <td>76006</td>\n",
       "      <td>Forest Able</td>\n",
       "      <td>Forest</td>\n",
       "      <td>Able</td>\n",
       "      <td>0</td>\n",
       "    </tr>\n",
       "    <tr>\n",
       "      <th>8</th>\n",
       "      <td>76007</td>\n",
       "      <td>John Abramovic</td>\n",
       "      <td>John</td>\n",
       "      <td>Abramovic</td>\n",
       "      <td>0</td>\n",
       "    </tr>\n",
       "    <tr>\n",
       "      <th>9</th>\n",
       "      <td>203518</td>\n",
       "      <td>Alex Abrines</td>\n",
       "      <td>Alex</td>\n",
       "      <td>Abrines</td>\n",
       "      <td>0</td>\n",
       "    </tr>\n",
       "    <tr>\n",
       "      <th>10</th>\n",
       "      <td>1630173</td>\n",
       "      <td>Precious Achiuwa</td>\n",
       "      <td>Precious</td>\n",
       "      <td>Achiuwa</td>\n",
       "      <td>1</td>\n",
       "    </tr>\n",
       "    <tr>\n",
       "      <th>11</th>\n",
       "      <td>101165</td>\n",
       "      <td>Alex Acker</td>\n",
       "      <td>Alex</td>\n",
       "      <td>Acker</td>\n",
       "      <td>0</td>\n",
       "    </tr>\n",
       "    <tr>\n",
       "      <th>12</th>\n",
       "      <td>76008</td>\n",
       "      <td>Donald Ackerman</td>\n",
       "      <td>Donald</td>\n",
       "      <td>Ackerman</td>\n",
       "      <td>0</td>\n",
       "    </tr>\n",
       "    <tr>\n",
       "      <th>13</th>\n",
       "      <td>76009</td>\n",
       "      <td>Mark Acres</td>\n",
       "      <td>Mark</td>\n",
       "      <td>Acres</td>\n",
       "      <td>0</td>\n",
       "    </tr>\n",
       "    <tr>\n",
       "      <th>14</th>\n",
       "      <td>76010</td>\n",
       "      <td>Charles Acton</td>\n",
       "      <td>Charles</td>\n",
       "      <td>Acton</td>\n",
       "      <td>0</td>\n",
       "    </tr>\n",
       "    <tr>\n",
       "      <th>15</th>\n",
       "      <td>203112</td>\n",
       "      <td>Quincy Acy</td>\n",
       "      <td>Quincy</td>\n",
       "      <td>Acy</td>\n",
       "      <td>0</td>\n",
       "    </tr>\n",
       "    <tr>\n",
       "      <th>16</th>\n",
       "      <td>76011</td>\n",
       "      <td>Alvan Adams</td>\n",
       "      <td>Alvan</td>\n",
       "      <td>Adams</td>\n",
       "      <td>0</td>\n",
       "    </tr>\n",
       "    <tr>\n",
       "      <th>17</th>\n",
       "      <td>76012</td>\n",
       "      <td>Don Adams</td>\n",
       "      <td>Don</td>\n",
       "      <td>Adams</td>\n",
       "      <td>0</td>\n",
       "    </tr>\n",
       "    <tr>\n",
       "      <th>18</th>\n",
       "      <td>200801</td>\n",
       "      <td>Hassan Adams</td>\n",
       "      <td>Hassan</td>\n",
       "      <td>Adams</td>\n",
       "      <td>0</td>\n",
       "    </tr>\n",
       "    <tr>\n",
       "      <th>19</th>\n",
       "      <td>1629121</td>\n",
       "      <td>Jaylen Adams</td>\n",
       "      <td>Jaylen</td>\n",
       "      <td>Adams</td>\n",
       "      <td>0</td>\n",
       "    </tr>\n",
       "  </tbody>\n",
       "</table>\n",
       "</div>"
      ],
      "text/plain": [
       "         id            full_name first_name     last_name  is_active\n",
       "0     76001       Alaa Abdelnaby       Alaa     Abdelnaby          0\n",
       "1     76002      Zaid Abdul-Aziz       Zaid    Abdul-Aziz          0\n",
       "2     76003  Kareem Abdul-Jabbar     Kareem  Abdul-Jabbar          0\n",
       "3        51   Mahmoud Abdul-Rauf    Mahmoud    Abdul-Rauf          0\n",
       "4      1505    Tariq Abdul-Wahad      Tariq   Abdul-Wahad          0\n",
       "5       949  Shareef Abdur-Rahim    Shareef   Abdur-Rahim          0\n",
       "6     76005        Tom Abernethy        Tom     Abernethy          0\n",
       "7     76006          Forest Able     Forest          Able          0\n",
       "8     76007       John Abramovic       John     Abramovic          0\n",
       "9    203518         Alex Abrines       Alex       Abrines          0\n",
       "10  1630173     Precious Achiuwa   Precious       Achiuwa          1\n",
       "11   101165           Alex Acker       Alex         Acker          0\n",
       "12    76008      Donald Ackerman     Donald      Ackerman          0\n",
       "13    76009           Mark Acres       Mark         Acres          0\n",
       "14    76010        Charles Acton    Charles         Acton          0\n",
       "15   203112           Quincy Acy     Quincy           Acy          0\n",
       "16    76011          Alvan Adams      Alvan         Adams          0\n",
       "17    76012            Don Adams        Don         Adams          0\n",
       "18   200801         Hassan Adams     Hassan         Adams          0\n",
       "19  1629121         Jaylen Adams     Jaylen         Adams          0"
      ]
     },
     "execution_count": 38,
     "metadata": {},
     "output_type": "execute_result"
    }
   ],
   "source": [
    "import re\n",
    "\n",
    "# -------------------------------------\n",
    "# 🔹 Paso 1: Limpieza general (espacios, capitalización)\n",
    "# -------------------------------------\n",
    "\n",
    "# Función de limpieza general (mantiene guiones)\n",
    "def limpiar_columna(columna):\n",
    "    return (\n",
    "        df[columna]\n",
    "        .astype(str)\n",
    "        .str.strip()                         # eliminar espacios al inicio y final\n",
    "        .str.replace(r'\\s+', ' ', regex=True) # unificar espacios múltiples\n",
    "        .str.title()                         # capitalizar (mantiene guiones)\n",
    "    )\n",
    "\n",
    "# Aplicar limpieza general a full_name, first_name y last_name\n",
    "df['full_name'] = limpiar_columna('full_name')\n",
    "df['first_name'] = limpiar_columna('first_name')\n",
    "df['last_name'] = limpiar_columna('last_name')\n",
    "\n",
    "# -------------------------------------\n",
    "# 🔹 Paso 2: Estandarizar iniciales en first_name (ej: \"AJ\" → \"A.J.\")\n",
    "# -------------------------------------\n",
    "\n",
    "# Función para estandarizar iniciales tipo \"AJ\", \"A J\", \"A. J.\", etc.\n",
    "def estandarizar_iniciales(nombre):\n",
    "    patron = re.compile(r'^([A-Z])\\.?\\s*([A-Z])\\.?$')\n",
    "    if pd.isna(nombre):\n",
    "        return nombre\n",
    "    nombre = nombre.strip().upper()\n",
    "    match = patron.match(nombre)\n",
    "    if match:\n",
    "        return f\"{match.group(1)}.{match.group(2)}.\"\n",
    "    return nombre.title()\n",
    "\n",
    "# Aplicar estandarización solo a first_name\n",
    "df['first_name'] = df['first_name'].apply(estandarizar_iniciales)\n",
    "\n",
    "# -------------------------------------\n",
    "# 🔹 Paso 3: Validación visual (opcional)\n",
    "# -------------------------------------\n",
    "\n",
    "# 📌 Mostrar las primeras 20 filas del DataFrame después de la limpieza\n",
    "print(\"\\n📋 Primeras 20 filas del DataFrame modificado:\")\n",
    "df.head(20)\n",
    "\n"
   ]
  },
  {
   "cell_type": "code",
   "execution_count": 39,
   "id": "8ed1df1b",
   "metadata": {},
   "outputs": [],
   "source": [
    "# 📌 Reconstruir full_name usando el first_name corregido\n",
    "df['full_name'] = df['first_name'] + ' ' + df['last_name']\n"
   ]
  },
  {
   "cell_type": "markdown",
   "id": "1d24b795",
   "metadata": {},
   "source": [
    "- EXPORTAMOS EL DATAFRAME PLAYER CON TODAS LAS MODIFICACIONES Y LO NOMBRAMOS PLAYER_LIMPIO"
   ]
  },
  {
   "cell_type": "code",
   "execution_count": 41,
   "id": "2f0a74a3",
   "metadata": {},
   "outputs": [
    {
     "name": "stdout",
     "output_type": "stream",
     "text": [
      "✅ Archivo exportado correctamente como player_limpio.csv\n"
     ]
    }
   ],
   "source": [
    "# 📌 Exportar el DataFrame limpio a CSV\n",
    "df.to_csv(\n",
    "    r\"C:\\Users\\User\\OneDrive\\Documentos\\proyecto_final\\data_en_csv\\player_limpio.csv\",\n",
    "    index=False)\n",
    "\n",
    "print(\"✅ Archivo exportado correctamente como player_limpio.csv\")\n"
   ]
  }
 ],
 "metadata": {
  "kernelspec": {
   "display_name": "Python 3",
   "language": "python",
   "name": "python3"
  },
  "language_info": {
   "codemirror_mode": {
    "name": "ipython",
    "version": 3
   },
   "file_extension": ".py",
   "mimetype": "text/x-python",
   "name": "python",
   "nbconvert_exporter": "python",
   "pygments_lexer": "ipython3",
   "version": "3.13.5"
  }
 },
 "nbformat": 4,
 "nbformat_minor": 5
}
