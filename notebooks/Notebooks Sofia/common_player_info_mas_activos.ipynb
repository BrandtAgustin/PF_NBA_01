{
 "cells": [
  {
   "cell_type": "markdown",
   "id": "996ef239",
   "metadata": {},
   "source": [
    "LECTURA DEL CSV PLAYER SIN DUPLICADOS / VAMOS A VERIFICAR JUGADORES ACTIVOS Y NO ACTIVOS Y UNIR ESA COLUMNA A LA TABLA COMMON PLAYER"
   ]
  },
  {
   "cell_type": "markdown",
   "id": "f570279c",
   "metadata": {},
   "source": [
    "- ADEMAS LECTURA DEL CSV COMMON PLAYER E INACTIVE PLAYER PARA HACER FUSION"
   ]
  },
  {
   "cell_type": "code",
   "execution_count": 1,
   "id": "f6882870",
   "metadata": {},
   "outputs": [
    {
     "name": "stdout",
     "output_type": "stream",
     "text": [
      "🔍 Tabla: player_filtrado_sin_duplicados\n"
     ]
    },
    {
     "data": {
      "application/vnd.microsoft.datawrangler.viewer.v0+json": {
       "columns": [
        {
         "name": "index",
         "rawType": "int64",
         "type": "integer"
        },
        {
         "name": "id",
         "rawType": "int64",
         "type": "integer"
        },
        {
         "name": "full_name",
         "rawType": "object",
         "type": "string"
        },
        {
         "name": "first_name",
         "rawType": "object",
         "type": "string"
        },
        {
         "name": "last_name",
         "rawType": "object",
         "type": "string"
        },
        {
         "name": "is_active",
         "rawType": "int64",
         "type": "integer"
        }
       ],
       "ref": "8d96cc13-25aa-436e-b4ad-f92fb60da7a2",
       "rows": [
        [
         "0",
         "76001",
         "Alaa Abdelnaby",
         "Alaa",
         "Abdelnaby",
         "0"
        ],
        [
         "1",
         "76002",
         "Zaid Abdul-Aziz",
         "Zaid",
         "Abdul-Aziz",
         "0"
        ],
        [
         "2",
         "76003",
         "Kareem Abdul-Jabbar",
         "Kareem",
         "Abdul-Jabbar",
         "0"
        ],
        [
         "3",
         "51",
         "Mahmoud Abdul-Rauf",
         "Mahmoud",
         "Abdul-Rauf",
         "0"
        ],
        [
         "4",
         "1505",
         "Tariq Abdul-Wahad",
         "Tariq",
         "Abdul-Wahad",
         "0"
        ]
       ],
       "shape": {
        "columns": 5,
        "rows": 5
       }
      },
      "text/html": [
       "<div>\n",
       "<style scoped>\n",
       "    .dataframe tbody tr th:only-of-type {\n",
       "        vertical-align: middle;\n",
       "    }\n",
       "\n",
       "    .dataframe tbody tr th {\n",
       "        vertical-align: top;\n",
       "    }\n",
       "\n",
       "    .dataframe thead th {\n",
       "        text-align: right;\n",
       "    }\n",
       "</style>\n",
       "<table border=\"1\" class=\"dataframe\">\n",
       "  <thead>\n",
       "    <tr style=\"text-align: right;\">\n",
       "      <th></th>\n",
       "      <th>id</th>\n",
       "      <th>full_name</th>\n",
       "      <th>first_name</th>\n",
       "      <th>last_name</th>\n",
       "      <th>is_active</th>\n",
       "    </tr>\n",
       "  </thead>\n",
       "  <tbody>\n",
       "    <tr>\n",
       "      <th>0</th>\n",
       "      <td>76001</td>\n",
       "      <td>Alaa Abdelnaby</td>\n",
       "      <td>Alaa</td>\n",
       "      <td>Abdelnaby</td>\n",
       "      <td>0</td>\n",
       "    </tr>\n",
       "    <tr>\n",
       "      <th>1</th>\n",
       "      <td>76002</td>\n",
       "      <td>Zaid Abdul-Aziz</td>\n",
       "      <td>Zaid</td>\n",
       "      <td>Abdul-Aziz</td>\n",
       "      <td>0</td>\n",
       "    </tr>\n",
       "    <tr>\n",
       "      <th>2</th>\n",
       "      <td>76003</td>\n",
       "      <td>Kareem Abdul-Jabbar</td>\n",
       "      <td>Kareem</td>\n",
       "      <td>Abdul-Jabbar</td>\n",
       "      <td>0</td>\n",
       "    </tr>\n",
       "    <tr>\n",
       "      <th>3</th>\n",
       "      <td>51</td>\n",
       "      <td>Mahmoud Abdul-Rauf</td>\n",
       "      <td>Mahmoud</td>\n",
       "      <td>Abdul-Rauf</td>\n",
       "      <td>0</td>\n",
       "    </tr>\n",
       "    <tr>\n",
       "      <th>4</th>\n",
       "      <td>1505</td>\n",
       "      <td>Tariq Abdul-Wahad</td>\n",
       "      <td>Tariq</td>\n",
       "      <td>Abdul-Wahad</td>\n",
       "      <td>0</td>\n",
       "    </tr>\n",
       "  </tbody>\n",
       "</table>\n",
       "</div>"
      ],
      "text/plain": [
       "      id            full_name first_name     last_name  is_active\n",
       "0  76001       Alaa Abdelnaby       Alaa     Abdelnaby          0\n",
       "1  76002      Zaid Abdul-Aziz       Zaid    Abdul-Aziz          0\n",
       "2  76003  Kareem Abdul-Jabbar     Kareem  Abdul-Jabbar          0\n",
       "3     51   Mahmoud Abdul-Rauf    Mahmoud    Abdul-Rauf          0\n",
       "4   1505    Tariq Abdul-Wahad      Tariq   Abdul-Wahad          0"
      ]
     },
     "metadata": {},
     "output_type": "display_data"
    },
    {
     "name": "stdout",
     "output_type": "stream",
     "text": [
      "🔍 Tabla: common_player_info\n"
     ]
    },
    {
     "data": {
      "application/vnd.microsoft.datawrangler.viewer.v0+json": {
       "columns": [
        {
         "name": "index",
         "rawType": "int64",
         "type": "integer"
        },
        {
         "name": "person_id",
         "rawType": "int64",
         "type": "integer"
        },
        {
         "name": "first_name",
         "rawType": "object",
         "type": "string"
        },
        {
         "name": "last_name",
         "rawType": "object",
         "type": "string"
        },
        {
         "name": "display_first_last",
         "rawType": "object",
         "type": "string"
        },
        {
         "name": "display_last_comma_first",
         "rawType": "object",
         "type": "string"
        },
        {
         "name": "display_fi_last",
         "rawType": "object",
         "type": "string"
        },
        {
         "name": "player_slug",
         "rawType": "object",
         "type": "string"
        },
        {
         "name": "birthdate",
         "rawType": "object",
         "type": "string"
        },
        {
         "name": "school",
         "rawType": "object",
         "type": "string"
        },
        {
         "name": "country",
         "rawType": "object",
         "type": "string"
        },
        {
         "name": "last_affiliation",
         "rawType": "object",
         "type": "string"
        },
        {
         "name": "height",
         "rawType": "object",
         "type": "string"
        },
        {
         "name": "weight",
         "rawType": "float64",
         "type": "float"
        },
        {
         "name": "season_exp",
         "rawType": "int64",
         "type": "integer"
        },
        {
         "name": "jersey",
         "rawType": "object",
         "type": "string"
        },
        {
         "name": "position",
         "rawType": "object",
         "type": "string"
        },
        {
         "name": "rosterstatus",
         "rawType": "object",
         "type": "string"
        },
        {
         "name": "games_played_current_season_flag",
         "rawType": "object",
         "type": "string"
        },
        {
         "name": "team_id",
         "rawType": "int64",
         "type": "integer"
        },
        {
         "name": "team_name",
         "rawType": "object",
         "type": "string"
        },
        {
         "name": "team_abbreviation",
         "rawType": "object",
         "type": "string"
        },
        {
         "name": "team_code",
         "rawType": "object",
         "type": "string"
        },
        {
         "name": "team_city",
         "rawType": "object",
         "type": "string"
        },
        {
         "name": "playercode",
         "rawType": "object",
         "type": "string"
        },
        {
         "name": "from_year",
         "rawType": "float64",
         "type": "float"
        },
        {
         "name": "to_year",
         "rawType": "float64",
         "type": "float"
        },
        {
         "name": "dleague_flag",
         "rawType": "object",
         "type": "string"
        },
        {
         "name": "nba_flag",
         "rawType": "object",
         "type": "string"
        },
        {
         "name": "games_played_flag",
         "rawType": "object",
         "type": "string"
        },
        {
         "name": "draft_year",
         "rawType": "object",
         "type": "string"
        },
        {
         "name": "draft_round",
         "rawType": "object",
         "type": "string"
        },
        {
         "name": "draft_number",
         "rawType": "object",
         "type": "string"
        },
        {
         "name": "greatest_75_flag",
         "rawType": "object",
         "type": "string"
        }
       ],
       "ref": "813eae3c-35ff-43f3-961e-cf7334d52b8c",
       "rows": [
        [
         "0",
         "76001",
         "Alaa",
         "Abdelnaby",
         "Alaa Abdelnaby",
         "Abdelnaby, Alaa",
         "A. Abdelnaby",
         "alaa-abdelnaby",
         "24/6/1968",
         "Duke",
         "USA",
         "Duke/USA",
         "6-Oct",
         "240.0",
         "5",
         "30",
         "Forward",
         "Inactive",
         "N",
         "1610612757",
         "Trail Blazers",
         "POR",
         "blazers",
         "Portland",
         "HISTADD_alaa_abdelnaby",
         "1990.0",
         "1994.0",
         "N",
         "Y",
         "Y",
         "1990",
         "1",
         "25",
         "N"
        ],
        [
         "1",
         "76003",
         "Kareem",
         "Abdul-Jabbar",
         "Kareem Abdul-Jabbar",
         "Abdul-Jabbar, Kareem",
         "K. Abdul-Jabbar",
         "kareem-abdul-jabbar",
         "16/4/1947",
         "UCLA",
         "USA",
         "UCLA/USA",
         "7-Feb",
         "225.0",
         "20",
         "33",
         "Center",
         "Inactive",
         "N",
         "1610612747",
         "Lakers",
         "LAL",
         "lakers",
         "Los Angeles",
         "HISTADD_kareem_abdul-jabbar",
         "1969.0",
         "1988.0",
         "N",
         "Y",
         "Y",
         "1969",
         "1",
         "1",
         "Y"
        ],
        [
         "2",
         "1505",
         "Tariq",
         "Abdul-Wahad",
         "Tariq Abdul-Wahad",
         "Abdul-Wahad, Tariq",
         "T. Abdul-Wahad",
         "tariq-abdul-wahad",
         "3/11/1974",
         "San Jose State",
         "France",
         "San Jose State/France",
         "6-Jun",
         "235.0",
         "7",
         "9",
         "Forward-Guard",
         "Inactive",
         "N",
         "1610612758",
         "Kings",
         "SAC",
         "kings",
         "Sacramento",
         "tariq_abdul-wahad",
         "1997.0",
         "2003.0",
         "N",
         "Y",
         "Y",
         "1997",
         "1",
         "11",
         "N"
        ],
        [
         "3",
         "949",
         "Shareef",
         "Abdur-Rahim",
         "Shareef Abdur-Rahim",
         "Abdur-Rahim, Shareef",
         "S. Abdur-Rahim",
         "shareef-abdur-rahim",
         "11/12/1976",
         "California",
         "USA",
         "California/USA",
         "6-Sep",
         "245.0",
         "13",
         "3",
         "Forward",
         "Inactive",
         "N",
         "1610612763",
         "Grizzlies",
         "VAN",
         "grizzlies",
         "Vancouver",
         "shareef_abdur-rahim",
         "1996.0",
         "2007.0",
         "N",
         "Y",
         "Y",
         "1996",
         "1",
         "3",
         "N"
        ],
        [
         "4",
         "76005",
         "Tom",
         "Abernethy",
         "Tom Abernethy",
         "Abernethy, Tom",
         "T. Abernethy",
         "tom-abernethy",
         "6/5/1954",
         "Indiana",
         "USA",
         "Indiana/USA",
         "6-Jul",
         "220.0",
         "5",
         "5",
         "Forward",
         "Inactive",
         "N",
         "1610612744",
         "Warriors",
         "GOS",
         "warriors",
         "Golden State",
         "HISTADD_tom_abernethy",
         "1976.0",
         "1980.0",
         "N",
         "Y",
         "Y",
         "1976",
         "3",
         "43",
         "N"
        ]
       ],
       "shape": {
        "columns": 33,
        "rows": 5
       }
      },
      "text/html": [
       "<div>\n",
       "<style scoped>\n",
       "    .dataframe tbody tr th:only-of-type {\n",
       "        vertical-align: middle;\n",
       "    }\n",
       "\n",
       "    .dataframe tbody tr th {\n",
       "        vertical-align: top;\n",
       "    }\n",
       "\n",
       "    .dataframe thead th {\n",
       "        text-align: right;\n",
       "    }\n",
       "</style>\n",
       "<table border=\"1\" class=\"dataframe\">\n",
       "  <thead>\n",
       "    <tr style=\"text-align: right;\">\n",
       "      <th></th>\n",
       "      <th>person_id</th>\n",
       "      <th>first_name</th>\n",
       "      <th>last_name</th>\n",
       "      <th>display_first_last</th>\n",
       "      <th>display_last_comma_first</th>\n",
       "      <th>display_fi_last</th>\n",
       "      <th>player_slug</th>\n",
       "      <th>birthdate</th>\n",
       "      <th>school</th>\n",
       "      <th>country</th>\n",
       "      <th>...</th>\n",
       "      <th>playercode</th>\n",
       "      <th>from_year</th>\n",
       "      <th>to_year</th>\n",
       "      <th>dleague_flag</th>\n",
       "      <th>nba_flag</th>\n",
       "      <th>games_played_flag</th>\n",
       "      <th>draft_year</th>\n",
       "      <th>draft_round</th>\n",
       "      <th>draft_number</th>\n",
       "      <th>greatest_75_flag</th>\n",
       "    </tr>\n",
       "  </thead>\n",
       "  <tbody>\n",
       "    <tr>\n",
       "      <th>0</th>\n",
       "      <td>76001</td>\n",
       "      <td>Alaa</td>\n",
       "      <td>Abdelnaby</td>\n",
       "      <td>Alaa Abdelnaby</td>\n",
       "      <td>Abdelnaby, Alaa</td>\n",
       "      <td>A. Abdelnaby</td>\n",
       "      <td>alaa-abdelnaby</td>\n",
       "      <td>24/6/1968</td>\n",
       "      <td>Duke</td>\n",
       "      <td>USA</td>\n",
       "      <td>...</td>\n",
       "      <td>HISTADD_alaa_abdelnaby</td>\n",
       "      <td>1990.0</td>\n",
       "      <td>1994.0</td>\n",
       "      <td>N</td>\n",
       "      <td>Y</td>\n",
       "      <td>Y</td>\n",
       "      <td>1990</td>\n",
       "      <td>1</td>\n",
       "      <td>25</td>\n",
       "      <td>N</td>\n",
       "    </tr>\n",
       "    <tr>\n",
       "      <th>1</th>\n",
       "      <td>76003</td>\n",
       "      <td>Kareem</td>\n",
       "      <td>Abdul-Jabbar</td>\n",
       "      <td>Kareem Abdul-Jabbar</td>\n",
       "      <td>Abdul-Jabbar, Kareem</td>\n",
       "      <td>K. Abdul-Jabbar</td>\n",
       "      <td>kareem-abdul-jabbar</td>\n",
       "      <td>16/4/1947</td>\n",
       "      <td>UCLA</td>\n",
       "      <td>USA</td>\n",
       "      <td>...</td>\n",
       "      <td>HISTADD_kareem_abdul-jabbar</td>\n",
       "      <td>1969.0</td>\n",
       "      <td>1988.0</td>\n",
       "      <td>N</td>\n",
       "      <td>Y</td>\n",
       "      <td>Y</td>\n",
       "      <td>1969</td>\n",
       "      <td>1</td>\n",
       "      <td>1</td>\n",
       "      <td>Y</td>\n",
       "    </tr>\n",
       "    <tr>\n",
       "      <th>2</th>\n",
       "      <td>1505</td>\n",
       "      <td>Tariq</td>\n",
       "      <td>Abdul-Wahad</td>\n",
       "      <td>Tariq Abdul-Wahad</td>\n",
       "      <td>Abdul-Wahad, Tariq</td>\n",
       "      <td>T. Abdul-Wahad</td>\n",
       "      <td>tariq-abdul-wahad</td>\n",
       "      <td>3/11/1974</td>\n",
       "      <td>San Jose State</td>\n",
       "      <td>France</td>\n",
       "      <td>...</td>\n",
       "      <td>tariq_abdul-wahad</td>\n",
       "      <td>1997.0</td>\n",
       "      <td>2003.0</td>\n",
       "      <td>N</td>\n",
       "      <td>Y</td>\n",
       "      <td>Y</td>\n",
       "      <td>1997</td>\n",
       "      <td>1</td>\n",
       "      <td>11</td>\n",
       "      <td>N</td>\n",
       "    </tr>\n",
       "    <tr>\n",
       "      <th>3</th>\n",
       "      <td>949</td>\n",
       "      <td>Shareef</td>\n",
       "      <td>Abdur-Rahim</td>\n",
       "      <td>Shareef Abdur-Rahim</td>\n",
       "      <td>Abdur-Rahim, Shareef</td>\n",
       "      <td>S. Abdur-Rahim</td>\n",
       "      <td>shareef-abdur-rahim</td>\n",
       "      <td>11/12/1976</td>\n",
       "      <td>California</td>\n",
       "      <td>USA</td>\n",
       "      <td>...</td>\n",
       "      <td>shareef_abdur-rahim</td>\n",
       "      <td>1996.0</td>\n",
       "      <td>2007.0</td>\n",
       "      <td>N</td>\n",
       "      <td>Y</td>\n",
       "      <td>Y</td>\n",
       "      <td>1996</td>\n",
       "      <td>1</td>\n",
       "      <td>3</td>\n",
       "      <td>N</td>\n",
       "    </tr>\n",
       "    <tr>\n",
       "      <th>4</th>\n",
       "      <td>76005</td>\n",
       "      <td>Tom</td>\n",
       "      <td>Abernethy</td>\n",
       "      <td>Tom Abernethy</td>\n",
       "      <td>Abernethy, Tom</td>\n",
       "      <td>T. Abernethy</td>\n",
       "      <td>tom-abernethy</td>\n",
       "      <td>6/5/1954</td>\n",
       "      <td>Indiana</td>\n",
       "      <td>USA</td>\n",
       "      <td>...</td>\n",
       "      <td>HISTADD_tom_abernethy</td>\n",
       "      <td>1976.0</td>\n",
       "      <td>1980.0</td>\n",
       "      <td>N</td>\n",
       "      <td>Y</td>\n",
       "      <td>Y</td>\n",
       "      <td>1976</td>\n",
       "      <td>3</td>\n",
       "      <td>43</td>\n",
       "      <td>N</td>\n",
       "    </tr>\n",
       "  </tbody>\n",
       "</table>\n",
       "<p>5 rows × 33 columns</p>\n",
       "</div>"
      ],
      "text/plain": [
       "   person_id first_name     last_name   display_first_last  \\\n",
       "0      76001       Alaa     Abdelnaby       Alaa Abdelnaby   \n",
       "1      76003     Kareem  Abdul-Jabbar  Kareem Abdul-Jabbar   \n",
       "2       1505      Tariq   Abdul-Wahad    Tariq Abdul-Wahad   \n",
       "3        949    Shareef   Abdur-Rahim  Shareef Abdur-Rahim   \n",
       "4      76005        Tom     Abernethy        Tom Abernethy   \n",
       "\n",
       "  display_last_comma_first  display_fi_last          player_slug   birthdate  \\\n",
       "0          Abdelnaby, Alaa     A. Abdelnaby       alaa-abdelnaby   24/6/1968   \n",
       "1     Abdul-Jabbar, Kareem  K. Abdul-Jabbar  kareem-abdul-jabbar   16/4/1947   \n",
       "2       Abdul-Wahad, Tariq   T. Abdul-Wahad    tariq-abdul-wahad   3/11/1974   \n",
       "3     Abdur-Rahim, Shareef   S. Abdur-Rahim  shareef-abdur-rahim  11/12/1976   \n",
       "4           Abernethy, Tom     T. Abernethy        tom-abernethy    6/5/1954   \n",
       "\n",
       "           school country  ...                   playercode from_year  \\\n",
       "0            Duke     USA  ...       HISTADD_alaa_abdelnaby    1990.0   \n",
       "1            UCLA     USA  ...  HISTADD_kareem_abdul-jabbar    1969.0   \n",
       "2  San Jose State  France  ...            tariq_abdul-wahad    1997.0   \n",
       "3      California     USA  ...          shareef_abdur-rahim    1996.0   \n",
       "4         Indiana     USA  ...        HISTADD_tom_abernethy    1976.0   \n",
       "\n",
       "   to_year  dleague_flag nba_flag games_played_flag draft_year draft_round  \\\n",
       "0   1994.0             N        Y                 Y       1990           1   \n",
       "1   1988.0             N        Y                 Y       1969           1   \n",
       "2   2003.0             N        Y                 Y       1997           1   \n",
       "3   2007.0             N        Y                 Y       1996           1   \n",
       "4   1980.0             N        Y                 Y       1976           3   \n",
       "\n",
       "   draft_number greatest_75_flag  \n",
       "0            25                N  \n",
       "1             1                Y  \n",
       "2            11                N  \n",
       "3             3                N  \n",
       "4            43                N  \n",
       "\n",
       "[5 rows x 33 columns]"
      ]
     },
     "metadata": {},
     "output_type": "display_data"
    },
    {
     "name": "stdout",
     "output_type": "stream",
     "text": [
      "🔍 Tabla: inactive_players\n"
     ]
    },
    {
     "data": {
      "application/vnd.microsoft.datawrangler.viewer.v0+json": {
       "columns": [
        {
         "name": "index",
         "rawType": "int64",
         "type": "integer"
        },
        {
         "name": "game_id",
         "rawType": "int64",
         "type": "integer"
        },
        {
         "name": "player_id",
         "rawType": "int64",
         "type": "integer"
        },
        {
         "name": "first_name",
         "rawType": "object",
         "type": "string"
        },
        {
         "name": "last_name",
         "rawType": "object",
         "type": "string"
        },
        {
         "name": "jersey_num",
         "rawType": "float64",
         "type": "float"
        },
        {
         "name": "team_id",
         "rawType": "int64",
         "type": "integer"
        },
        {
         "name": "team_city",
         "rawType": "object",
         "type": "string"
        },
        {
         "name": "team_name",
         "rawType": "object",
         "type": "string"
        },
        {
         "name": "team_abbreviation",
         "rawType": "object",
         "type": "string"
        }
       ],
       "ref": "30787c62-1f5b-47af-8336-a038f0fe3624",
       "rows": [
        [
         "0",
         "29600034",
         "184",
         "Bobby",
         "Phills",
         "14.0",
         "1610612739",
         "Cleveland",
         "Cavaliers",
         "CLE"
        ],
        [
         "1",
         "29600034",
         "781",
         "Will",
         "Perdue",
         "41.0",
         "1610612759",
         "San Antonio",
         "Spurs",
         "SAS"
        ],
        [
         "2",
         "29600132",
         "120",
         "Steven",
         "Smith",
         "8.0",
         "1610612737",
         "Atlanta",
         "Hawks",
         "ATL"
        ],
        [
         "3",
         "29600203",
         "698",
         "Eddie",
         "Johnson",
         "8.0",
         "1610612754",
         "Indiana",
         "Pacers",
         "IND"
        ],
        [
         "4",
         "29600213",
         "32",
         "Clifford",
         "Rozier",
         "44.0",
         "1610612753",
         "Orlando",
         "Magic",
         "ORL"
        ]
       ],
       "shape": {
        "columns": 9,
        "rows": 5
       }
      },
      "text/html": [
       "<div>\n",
       "<style scoped>\n",
       "    .dataframe tbody tr th:only-of-type {\n",
       "        vertical-align: middle;\n",
       "    }\n",
       "\n",
       "    .dataframe tbody tr th {\n",
       "        vertical-align: top;\n",
       "    }\n",
       "\n",
       "    .dataframe thead th {\n",
       "        text-align: right;\n",
       "    }\n",
       "</style>\n",
       "<table border=\"1\" class=\"dataframe\">\n",
       "  <thead>\n",
       "    <tr style=\"text-align: right;\">\n",
       "      <th></th>\n",
       "      <th>game_id</th>\n",
       "      <th>player_id</th>\n",
       "      <th>first_name</th>\n",
       "      <th>last_name</th>\n",
       "      <th>jersey_num</th>\n",
       "      <th>team_id</th>\n",
       "      <th>team_city</th>\n",
       "      <th>team_name</th>\n",
       "      <th>team_abbreviation</th>\n",
       "    </tr>\n",
       "  </thead>\n",
       "  <tbody>\n",
       "    <tr>\n",
       "      <th>0</th>\n",
       "      <td>29600034</td>\n",
       "      <td>184</td>\n",
       "      <td>Bobby</td>\n",
       "      <td>Phills</td>\n",
       "      <td>14.0</td>\n",
       "      <td>1610612739</td>\n",
       "      <td>Cleveland</td>\n",
       "      <td>Cavaliers</td>\n",
       "      <td>CLE</td>\n",
       "    </tr>\n",
       "    <tr>\n",
       "      <th>1</th>\n",
       "      <td>29600034</td>\n",
       "      <td>781</td>\n",
       "      <td>Will</td>\n",
       "      <td>Perdue</td>\n",
       "      <td>41.0</td>\n",
       "      <td>1610612759</td>\n",
       "      <td>San Antonio</td>\n",
       "      <td>Spurs</td>\n",
       "      <td>SAS</td>\n",
       "    </tr>\n",
       "    <tr>\n",
       "      <th>2</th>\n",
       "      <td>29600132</td>\n",
       "      <td>120</td>\n",
       "      <td>Steven</td>\n",
       "      <td>Smith</td>\n",
       "      <td>8.0</td>\n",
       "      <td>1610612737</td>\n",
       "      <td>Atlanta</td>\n",
       "      <td>Hawks</td>\n",
       "      <td>ATL</td>\n",
       "    </tr>\n",
       "    <tr>\n",
       "      <th>3</th>\n",
       "      <td>29600203</td>\n",
       "      <td>698</td>\n",
       "      <td>Eddie</td>\n",
       "      <td>Johnson</td>\n",
       "      <td>8.0</td>\n",
       "      <td>1610612754</td>\n",
       "      <td>Indiana</td>\n",
       "      <td>Pacers</td>\n",
       "      <td>IND</td>\n",
       "    </tr>\n",
       "    <tr>\n",
       "      <th>4</th>\n",
       "      <td>29600213</td>\n",
       "      <td>32</td>\n",
       "      <td>Clifford</td>\n",
       "      <td>Rozier</td>\n",
       "      <td>44.0</td>\n",
       "      <td>1610612753</td>\n",
       "      <td>Orlando</td>\n",
       "      <td>Magic</td>\n",
       "      <td>ORL</td>\n",
       "    </tr>\n",
       "  </tbody>\n",
       "</table>\n",
       "</div>"
      ],
      "text/plain": [
       "    game_id  player_id first_name last_name  jersey_num     team_id  \\\n",
       "0  29600034        184      Bobby    Phills        14.0  1610612739   \n",
       "1  29600034        781       Will    Perdue        41.0  1610612759   \n",
       "2  29600132        120     Steven     Smith         8.0  1610612737   \n",
       "3  29600203        698      Eddie   Johnson         8.0  1610612754   \n",
       "4  29600213         32   Clifford    Rozier        44.0  1610612753   \n",
       "\n",
       "     team_city  team_name team_abbreviation  \n",
       "0    Cleveland  Cavaliers               CLE  \n",
       "1  San Antonio      Spurs               SAS  \n",
       "2      Atlanta      Hawks               ATL  \n",
       "3      Indiana     Pacers               IND  \n",
       "4      Orlando      Magic               ORL  "
      ]
     },
     "metadata": {},
     "output_type": "display_data"
    }
   ],
   "source": [
    "# 📌 Importamos las librerías necesarias\n",
    "import pandas as pd\n",
    "import numpy as np\n",
    "import matplotlib.pyplot as plt\n",
    "import seaborn as sns\n",
    "\n",
    "# ------------------------------\n",
    "# 📌 Cargamos el archivo player_filtrado_sin_duplicados.csv\n",
    "# ------------------------------\n",
    "ruta_player = r\"C:\\Users\\User\\OneDrive\\Documentos\\proyecto_final\\data_en_csv\\player_filtrado_sin_duplicados.csv\"\n",
    "player_filtrado_sin_duplicados = pd.read_csv(ruta_player)\n",
    "\n",
    "# ------------------------------\n",
    "# 📌 Cargamos el archivo common_player_info.csv\n",
    "# ------------------------------\n",
    "ruta_common = r\"C:\\Users\\User\\OneDrive\\Documentos\\proyecto_final\\data_en_csv\\madre\\common_player_info.csv\"\n",
    "common_player_info = pd.read_csv(ruta_common)\n",
    "\n",
    "# ------------------------------\n",
    "# 📌 Cargamos el archivo inactive_players.csv\n",
    "# ------------------------------\n",
    "ruta_inactive = r\"C:\\Users\\User\\OneDrive\\Documentos\\proyecto_final\\data_en_csv\\madre\\inactive_players.csv\"\n",
    "inactive_players = pd.read_csv(ruta_inactive)\n",
    "\n",
    "# ------------------------------\n",
    "# 📌 Mostramos las primeras filas de cada DataFrame\n",
    "# ------------------------------\n",
    "print(\"🔍 Tabla: player_filtrado_sin_duplicados\")\n",
    "display(player_filtrado_sin_duplicados.head())\n",
    "\n",
    "print(\"🔍 Tabla: common_player_info\")\n",
    "display(common_player_info.head())\n",
    "\n",
    "print(\"🔍 Tabla: inactive_players\")\n",
    "display(inactive_players.head())\n"
   ]
  },
  {
   "cell_type": "markdown",
   "id": "62b54ab2",
   "metadata": {},
   "source": [
    "- VERIFICAMOS QUE LA COLUMNA IS_ACTIVE DE LA TABLA PLAYER NO TENGA FILAS VACIAS"
   ]
  },
  {
   "cell_type": "code",
   "execution_count": 2,
   "id": "321d1451",
   "metadata": {},
   "outputs": [
    {
     "name": "stdout",
     "output_type": "stream",
     "text": [
      "❓ Cantidad de valores nulos en 'is_active': 0\n"
     ]
    }
   ],
   "source": [
    "# 📌 Verificar si hay valores nulos en la columna 'is_active'\n",
    "nulos_is_active = player_filtrado_sin_duplicados['is_active'].isnull().sum()\n",
    "\n",
    "print(f\"❓ Cantidad de valores nulos en 'is_active': {nulos_is_active}\")\n"
   ]
  },
  {
   "cell_type": "markdown",
   "id": "32f2bf06",
   "metadata": {},
   "source": [
    "- HACEMOS EL MERGE DE LA COLUMNA IS_ACTIVE DE LA TABLA PLAYER A LA TABLA COMMON_PLAYER"
   ]
  },
  {
   "cell_type": "code",
   "execution_count": 3,
   "id": "bd17aa75",
   "metadata": {},
   "outputs": [
    {
     "name": "stdout",
     "output_type": "stream",
     "text": [
      "✅ Merge completado. Vista previa:\n"
     ]
    },
    {
     "data": {
      "application/vnd.microsoft.datawrangler.viewer.v0+json": {
       "columns": [
        {
         "name": "index",
         "rawType": "int64",
         "type": "integer"
        },
        {
         "name": "person_id",
         "rawType": "int64",
         "type": "integer"
        },
        {
         "name": "first_name",
         "rawType": "object",
         "type": "string"
        },
        {
         "name": "last_name",
         "rawType": "object",
         "type": "string"
        },
        {
         "name": "display_first_last",
         "rawType": "object",
         "type": "string"
        },
        {
         "name": "display_last_comma_first",
         "rawType": "object",
         "type": "string"
        },
        {
         "name": "display_fi_last",
         "rawType": "object",
         "type": "string"
        },
        {
         "name": "player_slug",
         "rawType": "object",
         "type": "string"
        },
        {
         "name": "birthdate",
         "rawType": "object",
         "type": "string"
        },
        {
         "name": "school",
         "rawType": "object",
         "type": "string"
        },
        {
         "name": "country",
         "rawType": "object",
         "type": "string"
        },
        {
         "name": "last_affiliation",
         "rawType": "object",
         "type": "string"
        },
        {
         "name": "height",
         "rawType": "object",
         "type": "string"
        },
        {
         "name": "weight",
         "rawType": "float64",
         "type": "float"
        },
        {
         "name": "season_exp",
         "rawType": "int64",
         "type": "integer"
        },
        {
         "name": "jersey",
         "rawType": "object",
         "type": "string"
        },
        {
         "name": "position",
         "rawType": "object",
         "type": "string"
        },
        {
         "name": "rosterstatus",
         "rawType": "object",
         "type": "string"
        },
        {
         "name": "games_played_current_season_flag",
         "rawType": "object",
         "type": "string"
        },
        {
         "name": "team_id",
         "rawType": "int64",
         "type": "integer"
        },
        {
         "name": "team_name",
         "rawType": "object",
         "type": "string"
        },
        {
         "name": "team_abbreviation",
         "rawType": "object",
         "type": "string"
        },
        {
         "name": "team_code",
         "rawType": "object",
         "type": "string"
        },
        {
         "name": "team_city",
         "rawType": "object",
         "type": "string"
        },
        {
         "name": "playercode",
         "rawType": "object",
         "type": "string"
        },
        {
         "name": "from_year",
         "rawType": "float64",
         "type": "float"
        },
        {
         "name": "to_year",
         "rawType": "float64",
         "type": "float"
        },
        {
         "name": "dleague_flag",
         "rawType": "object",
         "type": "string"
        },
        {
         "name": "nba_flag",
         "rawType": "object",
         "type": "string"
        },
        {
         "name": "games_played_flag",
         "rawType": "object",
         "type": "string"
        },
        {
         "name": "draft_year",
         "rawType": "object",
         "type": "string"
        },
        {
         "name": "draft_round",
         "rawType": "object",
         "type": "string"
        },
        {
         "name": "draft_number",
         "rawType": "object",
         "type": "string"
        },
        {
         "name": "greatest_75_flag",
         "rawType": "object",
         "type": "string"
        },
        {
         "name": "id",
         "rawType": "int64",
         "type": "integer"
        },
        {
         "name": "is_active",
         "rawType": "int64",
         "type": "integer"
        }
       ],
       "ref": "19c58545-ade1-4aa9-99a9-0e6cf2f1096c",
       "rows": [
        [
         "0",
         "76001",
         "Alaa",
         "Abdelnaby",
         "Alaa Abdelnaby",
         "Abdelnaby, Alaa",
         "A. Abdelnaby",
         "alaa-abdelnaby",
         "24/6/1968",
         "Duke",
         "USA",
         "Duke/USA",
         "6-Oct",
         "240.0",
         "5",
         "30",
         "Forward",
         "Inactive",
         "N",
         "1610612757",
         "Trail Blazers",
         "POR",
         "blazers",
         "Portland",
         "HISTADD_alaa_abdelnaby",
         "1990.0",
         "1994.0",
         "N",
         "Y",
         "Y",
         "1990",
         "1",
         "25",
         "N",
         "76001",
         "0"
        ],
        [
         "1",
         "76003",
         "Kareem",
         "Abdul-Jabbar",
         "Kareem Abdul-Jabbar",
         "Abdul-Jabbar, Kareem",
         "K. Abdul-Jabbar",
         "kareem-abdul-jabbar",
         "16/4/1947",
         "UCLA",
         "USA",
         "UCLA/USA",
         "7-Feb",
         "225.0",
         "20",
         "33",
         "Center",
         "Inactive",
         "N",
         "1610612747",
         "Lakers",
         "LAL",
         "lakers",
         "Los Angeles",
         "HISTADD_kareem_abdul-jabbar",
         "1969.0",
         "1988.0",
         "N",
         "Y",
         "Y",
         "1969",
         "1",
         "1",
         "Y",
         "76003",
         "0"
        ],
        [
         "2",
         "1505",
         "Tariq",
         "Abdul-Wahad",
         "Tariq Abdul-Wahad",
         "Abdul-Wahad, Tariq",
         "T. Abdul-Wahad",
         "tariq-abdul-wahad",
         "3/11/1974",
         "San Jose State",
         "France",
         "San Jose State/France",
         "6-Jun",
         "235.0",
         "7",
         "9",
         "Forward-Guard",
         "Inactive",
         "N",
         "1610612758",
         "Kings",
         "SAC",
         "kings",
         "Sacramento",
         "tariq_abdul-wahad",
         "1997.0",
         "2003.0",
         "N",
         "Y",
         "Y",
         "1997",
         "1",
         "11",
         "N",
         "1505",
         "0"
        ],
        [
         "3",
         "949",
         "Shareef",
         "Abdur-Rahim",
         "Shareef Abdur-Rahim",
         "Abdur-Rahim, Shareef",
         "S. Abdur-Rahim",
         "shareef-abdur-rahim",
         "11/12/1976",
         "California",
         "USA",
         "California/USA",
         "6-Sep",
         "245.0",
         "13",
         "3",
         "Forward",
         "Inactive",
         "N",
         "1610612763",
         "Grizzlies",
         "VAN",
         "grizzlies",
         "Vancouver",
         "shareef_abdur-rahim",
         "1996.0",
         "2007.0",
         "N",
         "Y",
         "Y",
         "1996",
         "1",
         "3",
         "N",
         "949",
         "0"
        ],
        [
         "4",
         "76005",
         "Tom",
         "Abernethy",
         "Tom Abernethy",
         "Abernethy, Tom",
         "T. Abernethy",
         "tom-abernethy",
         "6/5/1954",
         "Indiana",
         "USA",
         "Indiana/USA",
         "6-Jul",
         "220.0",
         "5",
         "5",
         "Forward",
         "Inactive",
         "N",
         "1610612744",
         "Warriors",
         "GOS",
         "warriors",
         "Golden State",
         "HISTADD_tom_abernethy",
         "1976.0",
         "1980.0",
         "N",
         "Y",
         "Y",
         "1976",
         "3",
         "43",
         "N",
         "76005",
         "0"
        ]
       ],
       "shape": {
        "columns": 35,
        "rows": 5
       }
      },
      "text/html": [
       "<div>\n",
       "<style scoped>\n",
       "    .dataframe tbody tr th:only-of-type {\n",
       "        vertical-align: middle;\n",
       "    }\n",
       "\n",
       "    .dataframe tbody tr th {\n",
       "        vertical-align: top;\n",
       "    }\n",
       "\n",
       "    .dataframe thead th {\n",
       "        text-align: right;\n",
       "    }\n",
       "</style>\n",
       "<table border=\"1\" class=\"dataframe\">\n",
       "  <thead>\n",
       "    <tr style=\"text-align: right;\">\n",
       "      <th></th>\n",
       "      <th>person_id</th>\n",
       "      <th>first_name</th>\n",
       "      <th>last_name</th>\n",
       "      <th>display_first_last</th>\n",
       "      <th>display_last_comma_first</th>\n",
       "      <th>display_fi_last</th>\n",
       "      <th>player_slug</th>\n",
       "      <th>birthdate</th>\n",
       "      <th>school</th>\n",
       "      <th>country</th>\n",
       "      <th>...</th>\n",
       "      <th>to_year</th>\n",
       "      <th>dleague_flag</th>\n",
       "      <th>nba_flag</th>\n",
       "      <th>games_played_flag</th>\n",
       "      <th>draft_year</th>\n",
       "      <th>draft_round</th>\n",
       "      <th>draft_number</th>\n",
       "      <th>greatest_75_flag</th>\n",
       "      <th>id</th>\n",
       "      <th>is_active</th>\n",
       "    </tr>\n",
       "  </thead>\n",
       "  <tbody>\n",
       "    <tr>\n",
       "      <th>0</th>\n",
       "      <td>76001</td>\n",
       "      <td>Alaa</td>\n",
       "      <td>Abdelnaby</td>\n",
       "      <td>Alaa Abdelnaby</td>\n",
       "      <td>Abdelnaby, Alaa</td>\n",
       "      <td>A. Abdelnaby</td>\n",
       "      <td>alaa-abdelnaby</td>\n",
       "      <td>24/6/1968</td>\n",
       "      <td>Duke</td>\n",
       "      <td>USA</td>\n",
       "      <td>...</td>\n",
       "      <td>1994.0</td>\n",
       "      <td>N</td>\n",
       "      <td>Y</td>\n",
       "      <td>Y</td>\n",
       "      <td>1990</td>\n",
       "      <td>1</td>\n",
       "      <td>25</td>\n",
       "      <td>N</td>\n",
       "      <td>76001</td>\n",
       "      <td>0</td>\n",
       "    </tr>\n",
       "    <tr>\n",
       "      <th>1</th>\n",
       "      <td>76003</td>\n",
       "      <td>Kareem</td>\n",
       "      <td>Abdul-Jabbar</td>\n",
       "      <td>Kareem Abdul-Jabbar</td>\n",
       "      <td>Abdul-Jabbar, Kareem</td>\n",
       "      <td>K. Abdul-Jabbar</td>\n",
       "      <td>kareem-abdul-jabbar</td>\n",
       "      <td>16/4/1947</td>\n",
       "      <td>UCLA</td>\n",
       "      <td>USA</td>\n",
       "      <td>...</td>\n",
       "      <td>1988.0</td>\n",
       "      <td>N</td>\n",
       "      <td>Y</td>\n",
       "      <td>Y</td>\n",
       "      <td>1969</td>\n",
       "      <td>1</td>\n",
       "      <td>1</td>\n",
       "      <td>Y</td>\n",
       "      <td>76003</td>\n",
       "      <td>0</td>\n",
       "    </tr>\n",
       "    <tr>\n",
       "      <th>2</th>\n",
       "      <td>1505</td>\n",
       "      <td>Tariq</td>\n",
       "      <td>Abdul-Wahad</td>\n",
       "      <td>Tariq Abdul-Wahad</td>\n",
       "      <td>Abdul-Wahad, Tariq</td>\n",
       "      <td>T. Abdul-Wahad</td>\n",
       "      <td>tariq-abdul-wahad</td>\n",
       "      <td>3/11/1974</td>\n",
       "      <td>San Jose State</td>\n",
       "      <td>France</td>\n",
       "      <td>...</td>\n",
       "      <td>2003.0</td>\n",
       "      <td>N</td>\n",
       "      <td>Y</td>\n",
       "      <td>Y</td>\n",
       "      <td>1997</td>\n",
       "      <td>1</td>\n",
       "      <td>11</td>\n",
       "      <td>N</td>\n",
       "      <td>1505</td>\n",
       "      <td>0</td>\n",
       "    </tr>\n",
       "    <tr>\n",
       "      <th>3</th>\n",
       "      <td>949</td>\n",
       "      <td>Shareef</td>\n",
       "      <td>Abdur-Rahim</td>\n",
       "      <td>Shareef Abdur-Rahim</td>\n",
       "      <td>Abdur-Rahim, Shareef</td>\n",
       "      <td>S. Abdur-Rahim</td>\n",
       "      <td>shareef-abdur-rahim</td>\n",
       "      <td>11/12/1976</td>\n",
       "      <td>California</td>\n",
       "      <td>USA</td>\n",
       "      <td>...</td>\n",
       "      <td>2007.0</td>\n",
       "      <td>N</td>\n",
       "      <td>Y</td>\n",
       "      <td>Y</td>\n",
       "      <td>1996</td>\n",
       "      <td>1</td>\n",
       "      <td>3</td>\n",
       "      <td>N</td>\n",
       "      <td>949</td>\n",
       "      <td>0</td>\n",
       "    </tr>\n",
       "    <tr>\n",
       "      <th>4</th>\n",
       "      <td>76005</td>\n",
       "      <td>Tom</td>\n",
       "      <td>Abernethy</td>\n",
       "      <td>Tom Abernethy</td>\n",
       "      <td>Abernethy, Tom</td>\n",
       "      <td>T. Abernethy</td>\n",
       "      <td>tom-abernethy</td>\n",
       "      <td>6/5/1954</td>\n",
       "      <td>Indiana</td>\n",
       "      <td>USA</td>\n",
       "      <td>...</td>\n",
       "      <td>1980.0</td>\n",
       "      <td>N</td>\n",
       "      <td>Y</td>\n",
       "      <td>Y</td>\n",
       "      <td>1976</td>\n",
       "      <td>3</td>\n",
       "      <td>43</td>\n",
       "      <td>N</td>\n",
       "      <td>76005</td>\n",
       "      <td>0</td>\n",
       "    </tr>\n",
       "  </tbody>\n",
       "</table>\n",
       "<p>5 rows × 35 columns</p>\n",
       "</div>"
      ],
      "text/plain": [
       "   person_id first_name     last_name   display_first_last  \\\n",
       "0      76001       Alaa     Abdelnaby       Alaa Abdelnaby   \n",
       "1      76003     Kareem  Abdul-Jabbar  Kareem Abdul-Jabbar   \n",
       "2       1505      Tariq   Abdul-Wahad    Tariq Abdul-Wahad   \n",
       "3        949    Shareef   Abdur-Rahim  Shareef Abdur-Rahim   \n",
       "4      76005        Tom     Abernethy        Tom Abernethy   \n",
       "\n",
       "  display_last_comma_first  display_fi_last          player_slug   birthdate  \\\n",
       "0          Abdelnaby, Alaa     A. Abdelnaby       alaa-abdelnaby   24/6/1968   \n",
       "1     Abdul-Jabbar, Kareem  K. Abdul-Jabbar  kareem-abdul-jabbar   16/4/1947   \n",
       "2       Abdul-Wahad, Tariq   T. Abdul-Wahad    tariq-abdul-wahad   3/11/1974   \n",
       "3     Abdur-Rahim, Shareef   S. Abdur-Rahim  shareef-abdur-rahim  11/12/1976   \n",
       "4           Abernethy, Tom     T. Abernethy        tom-abernethy    6/5/1954   \n",
       "\n",
       "           school country  ... to_year dleague_flag  nba_flag  \\\n",
       "0            Duke     USA  ...  1994.0            N         Y   \n",
       "1            UCLA     USA  ...  1988.0            N         Y   \n",
       "2  San Jose State  France  ...  2003.0            N         Y   \n",
       "3      California     USA  ...  2007.0            N         Y   \n",
       "4         Indiana     USA  ...  1980.0            N         Y   \n",
       "\n",
       "   games_played_flag draft_year draft_round draft_number greatest_75_flag  \\\n",
       "0                  Y       1990           1           25                N   \n",
       "1                  Y       1969           1            1                Y   \n",
       "2                  Y       1997           1           11                N   \n",
       "3                  Y       1996           1            3                N   \n",
       "4                  Y       1976           3           43                N   \n",
       "\n",
       "      id is_active  \n",
       "0  76001         0  \n",
       "1  76003         0  \n",
       "2   1505         0  \n",
       "3    949         0  \n",
       "4  76005         0  \n",
       "\n",
       "[5 rows x 35 columns]"
      ]
     },
     "execution_count": 3,
     "metadata": {},
     "output_type": "execute_result"
    }
   ],
   "source": [
    "# 📌 Hacemos el merge para agregar la columna is_active a common_player_info\n",
    "common_player_info = common_player_info.merge(\n",
    "    player_filtrado_sin_duplicados[['id', 'is_active']],\n",
    "    how='left',\n",
    "    left_on='person_id',\n",
    "    right_on='id')\n",
    "\n",
    "# 📌 Mostramos las primeras filas para confirmar\n",
    "print(\"✅ Merge completado. Vista previa:\")\n",
    "common_player_info.head()\n"
   ]
  },
  {
   "cell_type": "markdown",
   "id": "7c99a318",
   "metadata": {},
   "source": [
    "- VERIFICAMOS CUANTOS NAN HAY EN LA COLUMNA IS_ACTIVE DE LA TABLA COMMON_PLAYER"
   ]
  },
  {
   "cell_type": "code",
   "execution_count": 4,
   "id": "81a8af79",
   "metadata": {},
   "outputs": [
    {
     "name": "stdout",
     "output_type": "stream",
     "text": [
      "❓ Cantidad de jugadores sin valor en 'is_active' (NaN): 0\n"
     ]
    }
   ],
   "source": [
    "# 📌 Contar cuántos valores nulos hay en la columna 'is_active'\n",
    "nulos_is_active = common_player_info['is_active'].isnull().sum()\n",
    "\n",
    "print(f\"❓ Cantidad de jugadores sin valor en 'is_active' (NaN): {nulos_is_active}\")\n"
   ]
  },
  {
   "cell_type": "markdown",
   "id": "f50395c1",
   "metadata": {},
   "source": [
    "- VERIFICAMOS LA CANTIDAD DE ID UNICOS DE LA TABLA COMMON Y DE LA TABLA PLAYER"
   ]
  },
  {
   "cell_type": "code",
   "execution_count": 5,
   "id": "a27d6440",
   "metadata": {},
   "outputs": [
    {
     "name": "stdout",
     "output_type": "stream",
     "text": [
      "🟢 IDs únicos en player_filtrado_sin_duplicados: 4823\n",
      "🔵 IDs únicos en common_player_info: 4171\n"
     ]
    }
   ],
   "source": [
    "# 📌 Cantidad de IDs únicos en player_filtrado_sin_duplicados\n",
    "ids_unicos_player = player_filtrado_sin_duplicados['id'].nunique()\n",
    "print(f\"🟢 IDs únicos en player_filtrado_sin_duplicados: {ids_unicos_player}\")\n",
    "\n",
    "# 📌 Cantidad de IDs únicos en common_player_info (columna person_id)\n",
    "ids_unicos_common = common_player_info['person_id'].nunique()\n",
    "print(f\"🔵 IDs únicos en common_player_info: {ids_unicos_common}\")\n"
   ]
  },
  {
   "cell_type": "markdown",
   "id": "a5c6ce7a",
   "metadata": {},
   "source": [
    "- ELIMINAMOS LA COLUMNA ID QUE TRAJIMOS DE LA TABLA PLAYER"
   ]
  },
  {
   "cell_type": "code",
   "execution_count": 7,
   "id": "4356cb88",
   "metadata": {},
   "outputs": [
    {
     "name": "stdout",
     "output_type": "stream",
     "text": [
      "✅ Columna 'id' eliminada de common_player_info.\n"
     ]
    }
   ],
   "source": [
    "# 📌 Eliminamos la columna 'id' que ya no necesitamos\n",
    "common_player_info.drop(columns=['id'], inplace=True)\n",
    "\n",
    "# 📌 Confirmamos que se eliminó\n",
    "print(\"✅ Columna 'id' eliminada de common_player_info.\")\n"
   ]
  },
  {
   "cell_type": "markdown",
   "id": "7add1c25",
   "metadata": {},
   "source": [
    "- EXPORTAMOS LA TABLA COMMON_PLAYER CON LA COLUMNA AGREGADA DE IS_ACTIVE"
   ]
  },
  {
   "cell_type": "code",
   "execution_count": 8,
   "id": "d779b811",
   "metadata": {},
   "outputs": [
    {
     "name": "stdout",
     "output_type": "stream",
     "text": [
      "✅ Archivo exportado correctamente como common_player_info_mas_activos.csv\n"
     ]
    }
   ],
   "source": [
    "# 📌 Exportar el DataFrame enriquecido a CSV\n",
    "common_player_info.to_csv(\n",
    "    r\"C:\\Users\\User\\OneDrive\\Documentos\\proyecto_final\\data_en_csv\\common_player_info_mas_activos.csv\",\n",
    "    index=False)\n",
    "\n",
    "print(\"✅ Archivo exportado correctamente como common_player_info_mas_activos.csv\")\n"
   ]
  }
 ],
 "metadata": {
  "kernelspec": {
   "display_name": "Python 3",
   "language": "python",
   "name": "python3"
  },
  "language_info": {
   "codemirror_mode": {
    "name": "ipython",
    "version": 3
   },
   "file_extension": ".py",
   "mimetype": "text/x-python",
   "name": "python",
   "nbconvert_exporter": "python",
   "pygments_lexer": "ipython3",
   "version": "3.13.5"
  }
 },
 "nbformat": 4,
 "nbformat_minor": 5
}
